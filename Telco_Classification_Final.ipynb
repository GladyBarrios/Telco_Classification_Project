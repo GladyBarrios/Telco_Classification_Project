{
 "cells": [
  {
   "cell_type": "markdown",
   "id": "ad0e0099",
   "metadata": {},
   "source": [
    "# Looking out for our Senior Citizens\n",
    "\n",
    "By Glady Barrios Jul,15,2022"
   ]
  },
  {
   "cell_type": "markdown",
   "id": "6364f061",
   "metadata": {},
   "source": [
    "## Project Goals"
   ]
  },
  {
   "cell_type": "markdown",
   "id": "ffdc0850",
   "metadata": {},
   "source": [
    " The Goal of this project is to identify the diffrent drivers of churn. \n",
    " Mostly focusing on our senior citizens and trying to see the diffrent attributes that are causing our seniors to chrun  \n",
    "  "
   ]
  },
  {
   "cell_type": "markdown",
   "id": "a418d4f2",
   "metadata": {},
   "source": [
    "## Project Description "
   ]
  },
  {
   "cell_type": "markdown",
   "id": "4ab71cb3",
   "metadata": {},
   "source": [
    "There are sevral reasons as to why our customers are churning here in this project I will explore the diffrent variables that can cause churn esspecilly variables I was not able to look at in previouse project. We will analize the diffrent variables and have our main focus on one demographic, our senior citizens. we will analize the data of our seniors to see different areas of churn by using data exploration, statistical tests and ML classification models and end it off buy reviewing my conclusions, findings, and recomendations."
   ]
  },
  {
   "cell_type": "markdown",
   "id": "22934487",
   "metadata": {},
   "source": [
    "#### Mini - Data dictionary "
   ]
  },
  {
   "cell_type": "markdown",
   "id": "8aaeff7e",
   "metadata": {},
   "source": [
    "- senior_citizen      | non-null  | int64 | 1- indiction that the customer is a senior citizen \n",
    "\n",
    "- monthly_charges     | non-null  | float64| \n",
    "\n",
    "- tech_support        | non-null  | object | indicatted by a Yes or No\n",
    "\n",
    "- payment_type        | non-null  | object | Mailed check, Electronic check, credit card (automatic), Bank transfer (automatic)\n",
    " \n",
    "- churn               | non-null  | object | indicated by a Yes or No"
   ]
  },
  {
   "cell_type": "code",
   "execution_count": 1,
   "id": "cf91cd1e",
   "metadata": {},
   "outputs": [],
   "source": [
    "import pandas as pd\n",
    "import numpy as np\n",
    "import matplotlib.pyplot as plt\n",
    "import seaborn as sns\n",
    "#ignore warnings \n",
    "import warnings\n",
    "warnings.filterwarnings(\"ignore\")\n",
    "\n",
    "#this will be for my data wrangling \n",
    "import acquire\n",
    "import prepare\n",
    "from prepare import split\n",
    "\n",
    "#This will be needed for some statistical test I do in Exploration \n",
    "from scipy import stats\n",
    "\n",
    "#all of this if our Modeling \n",
    "from sklearn.model_selection import train_test_split\n",
    "from sklearn.tree import DecisionTreeClassifier, plot_tree\n",
    "from sklearn.metrics import classification_report\n",
    "from sklearn.metrics import confusion_matrix\n",
    "from sklearn.ensemble import RandomForestClassifier\n",
    "from sklearn.neighbors import KNeighborsClassifier\n",
    "\n",
    "np.random.seed(123)"
   ]
  },
  {
   "cell_type": "markdown",
   "id": "58489e1a",
   "metadata": {},
   "source": [
    "# Wrangle Telco Data"
   ]
  },
  {
   "cell_type": "code",
   "execution_count": 2,
   "id": "48fa8361",
   "metadata": {
    "scrolled": false
   },
   "outputs": [
    {
     "data": {
      "text/html": [
       "<div>\n",
       "<style scoped>\n",
       "    .dataframe tbody tr th:only-of-type {\n",
       "        vertical-align: middle;\n",
       "    }\n",
       "\n",
       "    .dataframe tbody tr th {\n",
       "        vertical-align: top;\n",
       "    }\n",
       "\n",
       "    .dataframe thead th {\n",
       "        text-align: right;\n",
       "    }\n",
       "</style>\n",
       "<table border=\"1\" class=\"dataframe\">\n",
       "  <thead>\n",
       "    <tr style=\"text-align: right;\">\n",
       "      <th></th>\n",
       "      <th>payment_type_id</th>\n",
       "      <th>internet_service_type_id</th>\n",
       "      <th>contract_type_id</th>\n",
       "      <th>customer_id</th>\n",
       "      <th>gender</th>\n",
       "      <th>senior_citizen</th>\n",
       "      <th>partner</th>\n",
       "      <th>dependents</th>\n",
       "      <th>tenure</th>\n",
       "      <th>phone_service</th>\n",
       "      <th>...</th>\n",
       "      <th>tech_support</th>\n",
       "      <th>streaming_tv</th>\n",
       "      <th>streaming_movies</th>\n",
       "      <th>paperless_billing</th>\n",
       "      <th>monthly_charges</th>\n",
       "      <th>total_charges</th>\n",
       "      <th>churn</th>\n",
       "      <th>contract_type</th>\n",
       "      <th>internet_service_type</th>\n",
       "      <th>payment_type</th>\n",
       "    </tr>\n",
       "  </thead>\n",
       "  <tbody>\n",
       "    <tr>\n",
       "      <th>0</th>\n",
       "      <td>2</td>\n",
       "      <td>1</td>\n",
       "      <td>2</td>\n",
       "      <td>0002-ORFBO</td>\n",
       "      <td>Female</td>\n",
       "      <td>0</td>\n",
       "      <td>Yes</td>\n",
       "      <td>Yes</td>\n",
       "      <td>9</td>\n",
       "      <td>Yes</td>\n",
       "      <td>...</td>\n",
       "      <td>Yes</td>\n",
       "      <td>Yes</td>\n",
       "      <td>No</td>\n",
       "      <td>Yes</td>\n",
       "      <td>65.60</td>\n",
       "      <td>593.3</td>\n",
       "      <td>No</td>\n",
       "      <td>One year</td>\n",
       "      <td>DSL</td>\n",
       "      <td>Mailed check</td>\n",
       "    </tr>\n",
       "    <tr>\n",
       "      <th>1</th>\n",
       "      <td>2</td>\n",
       "      <td>1</td>\n",
       "      <td>1</td>\n",
       "      <td>0003-MKNFE</td>\n",
       "      <td>Male</td>\n",
       "      <td>0</td>\n",
       "      <td>No</td>\n",
       "      <td>No</td>\n",
       "      <td>9</td>\n",
       "      <td>Yes</td>\n",
       "      <td>...</td>\n",
       "      <td>No</td>\n",
       "      <td>No</td>\n",
       "      <td>Yes</td>\n",
       "      <td>No</td>\n",
       "      <td>59.90</td>\n",
       "      <td>542.4</td>\n",
       "      <td>No</td>\n",
       "      <td>Month-to-month</td>\n",
       "      <td>DSL</td>\n",
       "      <td>Mailed check</td>\n",
       "    </tr>\n",
       "    <tr>\n",
       "      <th>2</th>\n",
       "      <td>1</td>\n",
       "      <td>2</td>\n",
       "      <td>1</td>\n",
       "      <td>0004-TLHLJ</td>\n",
       "      <td>Male</td>\n",
       "      <td>0</td>\n",
       "      <td>No</td>\n",
       "      <td>No</td>\n",
       "      <td>4</td>\n",
       "      <td>Yes</td>\n",
       "      <td>...</td>\n",
       "      <td>No</td>\n",
       "      <td>No</td>\n",
       "      <td>No</td>\n",
       "      <td>Yes</td>\n",
       "      <td>73.90</td>\n",
       "      <td>280.85</td>\n",
       "      <td>Yes</td>\n",
       "      <td>Month-to-month</td>\n",
       "      <td>Fiber optic</td>\n",
       "      <td>Electronic check</td>\n",
       "    </tr>\n",
       "    <tr>\n",
       "      <th>3</th>\n",
       "      <td>1</td>\n",
       "      <td>2</td>\n",
       "      <td>1</td>\n",
       "      <td>0011-IGKFF</td>\n",
       "      <td>Male</td>\n",
       "      <td>1</td>\n",
       "      <td>Yes</td>\n",
       "      <td>No</td>\n",
       "      <td>13</td>\n",
       "      <td>Yes</td>\n",
       "      <td>...</td>\n",
       "      <td>No</td>\n",
       "      <td>Yes</td>\n",
       "      <td>Yes</td>\n",
       "      <td>Yes</td>\n",
       "      <td>98.00</td>\n",
       "      <td>1237.85</td>\n",
       "      <td>Yes</td>\n",
       "      <td>Month-to-month</td>\n",
       "      <td>Fiber optic</td>\n",
       "      <td>Electronic check</td>\n",
       "    </tr>\n",
       "    <tr>\n",
       "      <th>4</th>\n",
       "      <td>2</td>\n",
       "      <td>2</td>\n",
       "      <td>1</td>\n",
       "      <td>0013-EXCHZ</td>\n",
       "      <td>Female</td>\n",
       "      <td>1</td>\n",
       "      <td>Yes</td>\n",
       "      <td>No</td>\n",
       "      <td>3</td>\n",
       "      <td>Yes</td>\n",
       "      <td>...</td>\n",
       "      <td>Yes</td>\n",
       "      <td>Yes</td>\n",
       "      <td>No</td>\n",
       "      <td>Yes</td>\n",
       "      <td>83.90</td>\n",
       "      <td>267.4</td>\n",
       "      <td>Yes</td>\n",
       "      <td>Month-to-month</td>\n",
       "      <td>Fiber optic</td>\n",
       "      <td>Mailed check</td>\n",
       "    </tr>\n",
       "    <tr>\n",
       "      <th>...</th>\n",
       "      <td>...</td>\n",
       "      <td>...</td>\n",
       "      <td>...</td>\n",
       "      <td>...</td>\n",
       "      <td>...</td>\n",
       "      <td>...</td>\n",
       "      <td>...</td>\n",
       "      <td>...</td>\n",
       "      <td>...</td>\n",
       "      <td>...</td>\n",
       "      <td>...</td>\n",
       "      <td>...</td>\n",
       "      <td>...</td>\n",
       "      <td>...</td>\n",
       "      <td>...</td>\n",
       "      <td>...</td>\n",
       "      <td>...</td>\n",
       "      <td>...</td>\n",
       "      <td>...</td>\n",
       "      <td>...</td>\n",
       "      <td>...</td>\n",
       "    </tr>\n",
       "    <tr>\n",
       "      <th>7038</th>\n",
       "      <td>2</td>\n",
       "      <td>1</td>\n",
       "      <td>2</td>\n",
       "      <td>9987-LUTYD</td>\n",
       "      <td>Female</td>\n",
       "      <td>0</td>\n",
       "      <td>No</td>\n",
       "      <td>No</td>\n",
       "      <td>13</td>\n",
       "      <td>Yes</td>\n",
       "      <td>...</td>\n",
       "      <td>Yes</td>\n",
       "      <td>No</td>\n",
       "      <td>No</td>\n",
       "      <td>No</td>\n",
       "      <td>55.15</td>\n",
       "      <td>742.9</td>\n",
       "      <td>No</td>\n",
       "      <td>One year</td>\n",
       "      <td>DSL</td>\n",
       "      <td>Mailed check</td>\n",
       "    </tr>\n",
       "    <tr>\n",
       "      <th>7039</th>\n",
       "      <td>1</td>\n",
       "      <td>2</td>\n",
       "      <td>1</td>\n",
       "      <td>9992-RRAMN</td>\n",
       "      <td>Male</td>\n",
       "      <td>0</td>\n",
       "      <td>Yes</td>\n",
       "      <td>No</td>\n",
       "      <td>22</td>\n",
       "      <td>Yes</td>\n",
       "      <td>...</td>\n",
       "      <td>No</td>\n",
       "      <td>No</td>\n",
       "      <td>Yes</td>\n",
       "      <td>Yes</td>\n",
       "      <td>85.10</td>\n",
       "      <td>1873.7</td>\n",
       "      <td>Yes</td>\n",
       "      <td>Month-to-month</td>\n",
       "      <td>Fiber optic</td>\n",
       "      <td>Electronic check</td>\n",
       "    </tr>\n",
       "    <tr>\n",
       "      <th>7040</th>\n",
       "      <td>2</td>\n",
       "      <td>1</td>\n",
       "      <td>1</td>\n",
       "      <td>9992-UJOEL</td>\n",
       "      <td>Male</td>\n",
       "      <td>0</td>\n",
       "      <td>No</td>\n",
       "      <td>No</td>\n",
       "      <td>2</td>\n",
       "      <td>Yes</td>\n",
       "      <td>...</td>\n",
       "      <td>No</td>\n",
       "      <td>No</td>\n",
       "      <td>No</td>\n",
       "      <td>Yes</td>\n",
       "      <td>50.30</td>\n",
       "      <td>92.75</td>\n",
       "      <td>No</td>\n",
       "      <td>Month-to-month</td>\n",
       "      <td>DSL</td>\n",
       "      <td>Mailed check</td>\n",
       "    </tr>\n",
       "    <tr>\n",
       "      <th>7041</th>\n",
       "      <td>2</td>\n",
       "      <td>1</td>\n",
       "      <td>3</td>\n",
       "      <td>9993-LHIEB</td>\n",
       "      <td>Male</td>\n",
       "      <td>0</td>\n",
       "      <td>Yes</td>\n",
       "      <td>Yes</td>\n",
       "      <td>67</td>\n",
       "      <td>Yes</td>\n",
       "      <td>...</td>\n",
       "      <td>Yes</td>\n",
       "      <td>No</td>\n",
       "      <td>Yes</td>\n",
       "      <td>No</td>\n",
       "      <td>67.85</td>\n",
       "      <td>4627.65</td>\n",
       "      <td>No</td>\n",
       "      <td>Two year</td>\n",
       "      <td>DSL</td>\n",
       "      <td>Mailed check</td>\n",
       "    </tr>\n",
       "    <tr>\n",
       "      <th>7042</th>\n",
       "      <td>1</td>\n",
       "      <td>1</td>\n",
       "      <td>3</td>\n",
       "      <td>9995-HOTOH</td>\n",
       "      <td>Male</td>\n",
       "      <td>0</td>\n",
       "      <td>Yes</td>\n",
       "      <td>Yes</td>\n",
       "      <td>63</td>\n",
       "      <td>No</td>\n",
       "      <td>...</td>\n",
       "      <td>No</td>\n",
       "      <td>Yes</td>\n",
       "      <td>Yes</td>\n",
       "      <td>No</td>\n",
       "      <td>59.00</td>\n",
       "      <td>3707.6</td>\n",
       "      <td>No</td>\n",
       "      <td>Two year</td>\n",
       "      <td>DSL</td>\n",
       "      <td>Electronic check</td>\n",
       "    </tr>\n",
       "  </tbody>\n",
       "</table>\n",
       "<p>7043 rows × 24 columns</p>\n",
       "</div>"
      ],
      "text/plain": [
       "      payment_type_id  internet_service_type_id  contract_type_id customer_id  \\\n",
       "0                   2                         1                 2  0002-ORFBO   \n",
       "1                   2                         1                 1  0003-MKNFE   \n",
       "2                   1                         2                 1  0004-TLHLJ   \n",
       "3                   1                         2                 1  0011-IGKFF   \n",
       "4                   2                         2                 1  0013-EXCHZ   \n",
       "...               ...                       ...               ...         ...   \n",
       "7038                2                         1                 2  9987-LUTYD   \n",
       "7039                1                         2                 1  9992-RRAMN   \n",
       "7040                2                         1                 1  9992-UJOEL   \n",
       "7041                2                         1                 3  9993-LHIEB   \n",
       "7042                1                         1                 3  9995-HOTOH   \n",
       "\n",
       "      gender  senior_citizen partner dependents  tenure phone_service  ...  \\\n",
       "0     Female               0     Yes        Yes       9           Yes  ...   \n",
       "1       Male               0      No         No       9           Yes  ...   \n",
       "2       Male               0      No         No       4           Yes  ...   \n",
       "3       Male               1     Yes         No      13           Yes  ...   \n",
       "4     Female               1     Yes         No       3           Yes  ...   \n",
       "...      ...             ...     ...        ...     ...           ...  ...   \n",
       "7038  Female               0      No         No      13           Yes  ...   \n",
       "7039    Male               0     Yes         No      22           Yes  ...   \n",
       "7040    Male               0      No         No       2           Yes  ...   \n",
       "7041    Male               0     Yes        Yes      67           Yes  ...   \n",
       "7042    Male               0     Yes        Yes      63            No  ...   \n",
       "\n",
       "     tech_support streaming_tv streaming_movies paperless_billing  \\\n",
       "0             Yes          Yes               No               Yes   \n",
       "1              No           No              Yes                No   \n",
       "2              No           No               No               Yes   \n",
       "3              No          Yes              Yes               Yes   \n",
       "4             Yes          Yes               No               Yes   \n",
       "...           ...          ...              ...               ...   \n",
       "7038          Yes           No               No                No   \n",
       "7039           No           No              Yes               Yes   \n",
       "7040           No           No               No               Yes   \n",
       "7041          Yes           No              Yes                No   \n",
       "7042           No          Yes              Yes                No   \n",
       "\n",
       "     monthly_charges total_charges churn   contract_type  \\\n",
       "0              65.60         593.3    No        One year   \n",
       "1              59.90         542.4    No  Month-to-month   \n",
       "2              73.90        280.85   Yes  Month-to-month   \n",
       "3              98.00       1237.85   Yes  Month-to-month   \n",
       "4              83.90         267.4   Yes  Month-to-month   \n",
       "...              ...           ...   ...             ...   \n",
       "7038           55.15         742.9    No        One year   \n",
       "7039           85.10        1873.7   Yes  Month-to-month   \n",
       "7040           50.30         92.75    No  Month-to-month   \n",
       "7041           67.85       4627.65    No        Two year   \n",
       "7042           59.00        3707.6    No        Two year   \n",
       "\n",
       "      internet_service_type      payment_type  \n",
       "0                       DSL      Mailed check  \n",
       "1                       DSL      Mailed check  \n",
       "2               Fiber optic  Electronic check  \n",
       "3               Fiber optic  Electronic check  \n",
       "4               Fiber optic      Mailed check  \n",
       "...                     ...               ...  \n",
       "7038                    DSL      Mailed check  \n",
       "7039            Fiber optic  Electronic check  \n",
       "7040                    DSL      Mailed check  \n",
       "7041                    DSL      Mailed check  \n",
       "7042                    DSL  Electronic check  \n",
       "\n",
       "[7043 rows x 24 columns]"
      ]
     },
     "execution_count": 2,
     "metadata": {},
     "output_type": "execute_result"
    }
   ],
   "source": [
    "df = acquire.get_telco_data()\n",
    "df"
   ]
  },
  {
   "cell_type": "markdown",
   "id": "bd91d288",
   "metadata": {},
   "source": [
    "## In summary \n",
    "- Using my SQL credentials I was able to grab the data from the codeup SQL database using the get_connection function\n",
    "- I used an sql function to grab the data and group it to a data frame\n",
    "- Then I created another function to then turn it to a csv file"
   ]
  },
  {
   "cell_type": "code",
   "execution_count": 3,
   "id": "0e022bbc",
   "metadata": {
    "scrolled": false
   },
   "outputs": [
    {
     "data": {
      "text/html": [
       "<div>\n",
       "<style scoped>\n",
       "    .dataframe tbody tr th:only-of-type {\n",
       "        vertical-align: middle;\n",
       "    }\n",
       "\n",
       "    .dataframe tbody tr th {\n",
       "        vertical-align: top;\n",
       "    }\n",
       "\n",
       "    .dataframe thead th {\n",
       "        text-align: right;\n",
       "    }\n",
       "</style>\n",
       "<table border=\"1\" class=\"dataframe\">\n",
       "  <thead>\n",
       "    <tr style=\"text-align: right;\">\n",
       "      <th></th>\n",
       "      <th>payment_type_id</th>\n",
       "      <th>internet_service_type_id</th>\n",
       "      <th>contract_type_id</th>\n",
       "      <th>customer_id</th>\n",
       "      <th>gender</th>\n",
       "      <th>senior_citizen</th>\n",
       "      <th>partner</th>\n",
       "      <th>dependents</th>\n",
       "      <th>tenure</th>\n",
       "      <th>phone_service</th>\n",
       "      <th>multiple_lines</th>\n",
       "      <th>online_security</th>\n",
       "      <th>online_backup</th>\n",
       "      <th>device_protection</th>\n",
       "      <th>tech_support</th>\n",
       "      <th>streaming_tv</th>\n",
       "      <th>streaming_movies</th>\n",
       "      <th>paperless_billing</th>\n",
       "      <th>monthly_charges</th>\n",
       "      <th>total_charges</th>\n",
       "      <th>churn</th>\n",
       "      <th>contract_type</th>\n",
       "      <th>internet_service_type</th>\n",
       "      <th>payment_type</th>\n",
       "      <th>gender_encoded</th>\n",
       "      <th>partner_encoded</th>\n",
       "      <th>dependents_encoded</th>\n",
       "      <th>phone_service_encoded</th>\n",
       "      <th>paperless_billing_encoded</th>\n",
       "      <th>churn_encoded</th>\n",
       "      <th>multiple_lines_No phone service</th>\n",
       "      <th>multiple_lines_Yes</th>\n",
       "      <th>online_security_No internet service</th>\n",
       "      <th>online_security_Yes</th>\n",
       "      <th>online_backup_No internet service</th>\n",
       "      <th>online_backup_Yes</th>\n",
       "      <th>device_protection_No internet service</th>\n",
       "      <th>device_protection_Yes</th>\n",
       "      <th>tech_support_No internet service</th>\n",
       "      <th>tech_support_Yes</th>\n",
       "      <th>streaming_tv_No internet service</th>\n",
       "      <th>streaming_tv_Yes</th>\n",
       "      <th>streaming_movies_No internet service</th>\n",
       "      <th>streaming_movies_Yes</th>\n",
       "      <th>contract_type_One year</th>\n",
       "      <th>contract_type_Two year</th>\n",
       "      <th>internet_service_type_Fiber optic</th>\n",
       "      <th>internet_service_type_None</th>\n",
       "      <th>payment_type_Credit card (automatic)</th>\n",
       "      <th>payment_type_Electronic check</th>\n",
       "      <th>payment_type_Mailed check</th>\n",
       "    </tr>\n",
       "  </thead>\n",
       "  <tbody>\n",
       "    <tr>\n",
       "      <th>0</th>\n",
       "      <td>2</td>\n",
       "      <td>1</td>\n",
       "      <td>2</td>\n",
       "      <td>0002-ORFBO</td>\n",
       "      <td>Female</td>\n",
       "      <td>0</td>\n",
       "      <td>Yes</td>\n",
       "      <td>Yes</td>\n",
       "      <td>9</td>\n",
       "      <td>Yes</td>\n",
       "      <td>No</td>\n",
       "      <td>No</td>\n",
       "      <td>Yes</td>\n",
       "      <td>No</td>\n",
       "      <td>Yes</td>\n",
       "      <td>Yes</td>\n",
       "      <td>No</td>\n",
       "      <td>Yes</td>\n",
       "      <td>65.6</td>\n",
       "      <td>593.30</td>\n",
       "      <td>No</td>\n",
       "      <td>One year</td>\n",
       "      <td>DSL</td>\n",
       "      <td>Mailed check</td>\n",
       "      <td>1</td>\n",
       "      <td>1</td>\n",
       "      <td>1</td>\n",
       "      <td>1</td>\n",
       "      <td>1</td>\n",
       "      <td>0</td>\n",
       "      <td>0</td>\n",
       "      <td>0</td>\n",
       "      <td>0</td>\n",
       "      <td>0</td>\n",
       "      <td>0</td>\n",
       "      <td>1</td>\n",
       "      <td>0</td>\n",
       "      <td>0</td>\n",
       "      <td>0</td>\n",
       "      <td>1</td>\n",
       "      <td>0</td>\n",
       "      <td>1</td>\n",
       "      <td>0</td>\n",
       "      <td>0</td>\n",
       "      <td>1</td>\n",
       "      <td>0</td>\n",
       "      <td>0</td>\n",
       "      <td>0</td>\n",
       "      <td>0</td>\n",
       "      <td>0</td>\n",
       "      <td>1</td>\n",
       "    </tr>\n",
       "    <tr>\n",
       "      <th>1</th>\n",
       "      <td>2</td>\n",
       "      <td>1</td>\n",
       "      <td>1</td>\n",
       "      <td>0003-MKNFE</td>\n",
       "      <td>Male</td>\n",
       "      <td>0</td>\n",
       "      <td>No</td>\n",
       "      <td>No</td>\n",
       "      <td>9</td>\n",
       "      <td>Yes</td>\n",
       "      <td>Yes</td>\n",
       "      <td>No</td>\n",
       "      <td>No</td>\n",
       "      <td>No</td>\n",
       "      <td>No</td>\n",
       "      <td>No</td>\n",
       "      <td>Yes</td>\n",
       "      <td>No</td>\n",
       "      <td>59.9</td>\n",
       "      <td>542.40</td>\n",
       "      <td>No</td>\n",
       "      <td>Month-to-month</td>\n",
       "      <td>DSL</td>\n",
       "      <td>Mailed check</td>\n",
       "      <td>0</td>\n",
       "      <td>0</td>\n",
       "      <td>0</td>\n",
       "      <td>1</td>\n",
       "      <td>0</td>\n",
       "      <td>0</td>\n",
       "      <td>0</td>\n",
       "      <td>1</td>\n",
       "      <td>0</td>\n",
       "      <td>0</td>\n",
       "      <td>0</td>\n",
       "      <td>0</td>\n",
       "      <td>0</td>\n",
       "      <td>0</td>\n",
       "      <td>0</td>\n",
       "      <td>0</td>\n",
       "      <td>0</td>\n",
       "      <td>0</td>\n",
       "      <td>0</td>\n",
       "      <td>1</td>\n",
       "      <td>0</td>\n",
       "      <td>0</td>\n",
       "      <td>0</td>\n",
       "      <td>0</td>\n",
       "      <td>0</td>\n",
       "      <td>0</td>\n",
       "      <td>1</td>\n",
       "    </tr>\n",
       "    <tr>\n",
       "      <th>2</th>\n",
       "      <td>1</td>\n",
       "      <td>2</td>\n",
       "      <td>1</td>\n",
       "      <td>0004-TLHLJ</td>\n",
       "      <td>Male</td>\n",
       "      <td>0</td>\n",
       "      <td>No</td>\n",
       "      <td>No</td>\n",
       "      <td>4</td>\n",
       "      <td>Yes</td>\n",
       "      <td>No</td>\n",
       "      <td>No</td>\n",
       "      <td>No</td>\n",
       "      <td>Yes</td>\n",
       "      <td>No</td>\n",
       "      <td>No</td>\n",
       "      <td>No</td>\n",
       "      <td>Yes</td>\n",
       "      <td>73.9</td>\n",
       "      <td>280.85</td>\n",
       "      <td>Yes</td>\n",
       "      <td>Month-to-month</td>\n",
       "      <td>Fiber optic</td>\n",
       "      <td>Electronic check</td>\n",
       "      <td>0</td>\n",
       "      <td>0</td>\n",
       "      <td>0</td>\n",
       "      <td>1</td>\n",
       "      <td>1</td>\n",
       "      <td>1</td>\n",
       "      <td>0</td>\n",
       "      <td>0</td>\n",
       "      <td>0</td>\n",
       "      <td>0</td>\n",
       "      <td>0</td>\n",
       "      <td>0</td>\n",
       "      <td>0</td>\n",
       "      <td>1</td>\n",
       "      <td>0</td>\n",
       "      <td>0</td>\n",
       "      <td>0</td>\n",
       "      <td>0</td>\n",
       "      <td>0</td>\n",
       "      <td>0</td>\n",
       "      <td>0</td>\n",
       "      <td>0</td>\n",
       "      <td>1</td>\n",
       "      <td>0</td>\n",
       "      <td>0</td>\n",
       "      <td>1</td>\n",
       "      <td>0</td>\n",
       "    </tr>\n",
       "    <tr>\n",
       "      <th>3</th>\n",
       "      <td>1</td>\n",
       "      <td>2</td>\n",
       "      <td>1</td>\n",
       "      <td>0011-IGKFF</td>\n",
       "      <td>Male</td>\n",
       "      <td>1</td>\n",
       "      <td>Yes</td>\n",
       "      <td>No</td>\n",
       "      <td>13</td>\n",
       "      <td>Yes</td>\n",
       "      <td>No</td>\n",
       "      <td>No</td>\n",
       "      <td>Yes</td>\n",
       "      <td>Yes</td>\n",
       "      <td>No</td>\n",
       "      <td>Yes</td>\n",
       "      <td>Yes</td>\n",
       "      <td>Yes</td>\n",
       "      <td>98.0</td>\n",
       "      <td>1237.85</td>\n",
       "      <td>Yes</td>\n",
       "      <td>Month-to-month</td>\n",
       "      <td>Fiber optic</td>\n",
       "      <td>Electronic check</td>\n",
       "      <td>0</td>\n",
       "      <td>1</td>\n",
       "      <td>0</td>\n",
       "      <td>1</td>\n",
       "      <td>1</td>\n",
       "      <td>1</td>\n",
       "      <td>0</td>\n",
       "      <td>0</td>\n",
       "      <td>0</td>\n",
       "      <td>0</td>\n",
       "      <td>0</td>\n",
       "      <td>1</td>\n",
       "      <td>0</td>\n",
       "      <td>1</td>\n",
       "      <td>0</td>\n",
       "      <td>0</td>\n",
       "      <td>0</td>\n",
       "      <td>1</td>\n",
       "      <td>0</td>\n",
       "      <td>1</td>\n",
       "      <td>0</td>\n",
       "      <td>0</td>\n",
       "      <td>1</td>\n",
       "      <td>0</td>\n",
       "      <td>0</td>\n",
       "      <td>1</td>\n",
       "      <td>0</td>\n",
       "    </tr>\n",
       "    <tr>\n",
       "      <th>4</th>\n",
       "      <td>2</td>\n",
       "      <td>2</td>\n",
       "      <td>1</td>\n",
       "      <td>0013-EXCHZ</td>\n",
       "      <td>Female</td>\n",
       "      <td>1</td>\n",
       "      <td>Yes</td>\n",
       "      <td>No</td>\n",
       "      <td>3</td>\n",
       "      <td>Yes</td>\n",
       "      <td>No</td>\n",
       "      <td>No</td>\n",
       "      <td>No</td>\n",
       "      <td>No</td>\n",
       "      <td>Yes</td>\n",
       "      <td>Yes</td>\n",
       "      <td>No</td>\n",
       "      <td>Yes</td>\n",
       "      <td>83.9</td>\n",
       "      <td>267.40</td>\n",
       "      <td>Yes</td>\n",
       "      <td>Month-to-month</td>\n",
       "      <td>Fiber optic</td>\n",
       "      <td>Mailed check</td>\n",
       "      <td>1</td>\n",
       "      <td>1</td>\n",
       "      <td>0</td>\n",
       "      <td>1</td>\n",
       "      <td>1</td>\n",
       "      <td>1</td>\n",
       "      <td>0</td>\n",
       "      <td>0</td>\n",
       "      <td>0</td>\n",
       "      <td>0</td>\n",
       "      <td>0</td>\n",
       "      <td>0</td>\n",
       "      <td>0</td>\n",
       "      <td>0</td>\n",
       "      <td>0</td>\n",
       "      <td>1</td>\n",
       "      <td>0</td>\n",
       "      <td>1</td>\n",
       "      <td>0</td>\n",
       "      <td>0</td>\n",
       "      <td>0</td>\n",
       "      <td>0</td>\n",
       "      <td>1</td>\n",
       "      <td>0</td>\n",
       "      <td>0</td>\n",
       "      <td>0</td>\n",
       "      <td>1</td>\n",
       "    </tr>\n",
       "  </tbody>\n",
       "</table>\n",
       "</div>"
      ],
      "text/plain": [
       "   payment_type_id  internet_service_type_id  contract_type_id customer_id  \\\n",
       "0                2                         1                 2  0002-ORFBO   \n",
       "1                2                         1                 1  0003-MKNFE   \n",
       "2                1                         2                 1  0004-TLHLJ   \n",
       "3                1                         2                 1  0011-IGKFF   \n",
       "4                2                         2                 1  0013-EXCHZ   \n",
       "\n",
       "   gender  senior_citizen partner dependents  tenure phone_service  \\\n",
       "0  Female               0     Yes        Yes       9           Yes   \n",
       "1    Male               0      No         No       9           Yes   \n",
       "2    Male               0      No         No       4           Yes   \n",
       "3    Male               1     Yes         No      13           Yes   \n",
       "4  Female               1     Yes         No       3           Yes   \n",
       "\n",
       "  multiple_lines online_security online_backup device_protection tech_support  \\\n",
       "0             No              No           Yes                No          Yes   \n",
       "1            Yes              No            No                No           No   \n",
       "2             No              No            No               Yes           No   \n",
       "3             No              No           Yes               Yes           No   \n",
       "4             No              No            No                No          Yes   \n",
       "\n",
       "  streaming_tv streaming_movies paperless_billing  monthly_charges  \\\n",
       "0          Yes               No               Yes             65.6   \n",
       "1           No              Yes                No             59.9   \n",
       "2           No               No               Yes             73.9   \n",
       "3          Yes              Yes               Yes             98.0   \n",
       "4          Yes               No               Yes             83.9   \n",
       "\n",
       "   total_charges churn   contract_type internet_service_type  \\\n",
       "0         593.30    No        One year                   DSL   \n",
       "1         542.40    No  Month-to-month                   DSL   \n",
       "2         280.85   Yes  Month-to-month           Fiber optic   \n",
       "3        1237.85   Yes  Month-to-month           Fiber optic   \n",
       "4         267.40   Yes  Month-to-month           Fiber optic   \n",
       "\n",
       "       payment_type  gender_encoded  partner_encoded  dependents_encoded  \\\n",
       "0      Mailed check               1                1                   1   \n",
       "1      Mailed check               0                0                   0   \n",
       "2  Electronic check               0                0                   0   \n",
       "3  Electronic check               0                1                   0   \n",
       "4      Mailed check               1                1                   0   \n",
       "\n",
       "   phone_service_encoded  paperless_billing_encoded  churn_encoded  \\\n",
       "0                      1                          1              0   \n",
       "1                      1                          0              0   \n",
       "2                      1                          1              1   \n",
       "3                      1                          1              1   \n",
       "4                      1                          1              1   \n",
       "\n",
       "   multiple_lines_No phone service  multiple_lines_Yes  \\\n",
       "0                                0                   0   \n",
       "1                                0                   1   \n",
       "2                                0                   0   \n",
       "3                                0                   0   \n",
       "4                                0                   0   \n",
       "\n",
       "   online_security_No internet service  online_security_Yes  \\\n",
       "0                                    0                    0   \n",
       "1                                    0                    0   \n",
       "2                                    0                    0   \n",
       "3                                    0                    0   \n",
       "4                                    0                    0   \n",
       "\n",
       "   online_backup_No internet service  online_backup_Yes  \\\n",
       "0                                  0                  1   \n",
       "1                                  0                  0   \n",
       "2                                  0                  0   \n",
       "3                                  0                  1   \n",
       "4                                  0                  0   \n",
       "\n",
       "   device_protection_No internet service  device_protection_Yes  \\\n",
       "0                                      0                      0   \n",
       "1                                      0                      0   \n",
       "2                                      0                      1   \n",
       "3                                      0                      1   \n",
       "4                                      0                      0   \n",
       "\n",
       "   tech_support_No internet service  tech_support_Yes  \\\n",
       "0                                 0                 1   \n",
       "1                                 0                 0   \n",
       "2                                 0                 0   \n",
       "3                                 0                 0   \n",
       "4                                 0                 1   \n",
       "\n",
       "   streaming_tv_No internet service  streaming_tv_Yes  \\\n",
       "0                                 0                 1   \n",
       "1                                 0                 0   \n",
       "2                                 0                 0   \n",
       "3                                 0                 1   \n",
       "4                                 0                 1   \n",
       "\n",
       "   streaming_movies_No internet service  streaming_movies_Yes  \\\n",
       "0                                     0                     0   \n",
       "1                                     0                     1   \n",
       "2                                     0                     0   \n",
       "3                                     0                     1   \n",
       "4                                     0                     0   \n",
       "\n",
       "   contract_type_One year  contract_type_Two year  \\\n",
       "0                       1                       0   \n",
       "1                       0                       0   \n",
       "2                       0                       0   \n",
       "3                       0                       0   \n",
       "4                       0                       0   \n",
       "\n",
       "   internet_service_type_Fiber optic  internet_service_type_None  \\\n",
       "0                                  0                           0   \n",
       "1                                  0                           0   \n",
       "2                                  1                           0   \n",
       "3                                  1                           0   \n",
       "4                                  1                           0   \n",
       "\n",
       "   payment_type_Credit card (automatic)  payment_type_Electronic check  \\\n",
       "0                                     0                              0   \n",
       "1                                     0                              0   \n",
       "2                                     0                              1   \n",
       "3                                     0                              1   \n",
       "4                                     0                              0   \n",
       "\n",
       "   payment_type_Mailed check  \n",
       "0                          1  \n",
       "1                          1  \n",
       "2                          0  \n",
       "3                          0  \n",
       "4                          1  "
      ]
     },
     "execution_count": 3,
     "metadata": {},
     "output_type": "execute_result"
    }
   ],
   "source": [
    "df = prepare.prep_telco_data(df)\n",
    "pd.set_option('display.max_columns', None)\n",
    "#this is just to display all the columns \n",
    "df.head()\n",
    "# head will show me the first 5 rows "
   ]
  },
  {
   "cell_type": "code",
   "execution_count": 4,
   "id": "b5532cce",
   "metadata": {},
   "outputs": [
    {
     "data": {
      "text/plain": [
       "((3937, 51), (1688, 51), (1407, 51))"
      ]
     },
     "execution_count": 4,
     "metadata": {},
     "output_type": "execute_result"
    }
   ],
   "source": [
    "train, validate, test = prepare.split(df, stratify_by= 'churn')\n",
    "\n",
    "train.shape, validate.shape, test.shape\n",
    "\n"
   ]
  },
  {
   "cell_type": "markdown",
   "id": "0cb75539",
   "metadata": {},
   "source": [
    "## In summary \n",
    "\n",
    "- There where some blank space for total charges, therefore those rows where dropped \n",
    "- Converted total charges as float \n",
    "- Converted all categorical variables to numeric \n",
    "- Created dummy variables for several columns \n",
    "- Lastly I will be using my split fuction to calculate my train, validate, test "
   ]
  },
  {
   "cell_type": "markdown",
   "id": "c15f9139",
   "metadata": {},
   "source": [
    "#  <span style=\"color:darkblue\">Lets look at the Data</span>."
   ]
  },
  {
   "cell_type": "code",
   "execution_count": 5,
   "id": "53227d93",
   "metadata": {
    "scrolled": true
   },
   "outputs": [
    {
     "data": {
      "text/plain": [
       "Text(0.5, 1.0, 'churned Customers')"
      ]
     },
     "execution_count": 5,
     "metadata": {},
     "output_type": "execute_result"
    },
    {
     "data": {
      "image/png": "[encoded data removed]",
      "text/plain": [
       "<Figure size 432x288 with 1 Axes>"
      ]
     },
     "metadata": {
      "needs_background": "light"
     },
     "output_type": "display_data"
    }
   ],
   "source": [
    "#the rate of churn for our customers \n",
    "df.churn.value_counts().plot(kind= 'barh', color = [\"xkcd:blue\", \"c\"])\n",
    "plt.title(\"churned Customers\")"
   ]
  },
  {
   "cell_type": "code",
   "execution_count": 6,
   "id": "f76d4c96",
   "metadata": {},
   "outputs": [
    {
     "data": {
      "text/plain": [
       "No     5163\n",
       "Yes    1869\n",
       "Name: churn, dtype: int64"
      ]
     },
     "execution_count": 6,
     "metadata": {},
     "output_type": "execute_result"
    }
   ],
   "source": [
    "#looking at the numbers\n",
    "df.churn.value_counts()"
   ]
  },
  {
   "cell_type": "code",
   "execution_count": 7,
   "id": "d0682bb8",
   "metadata": {
    "scrolled": true
   },
   "outputs": [
    {
     "data": {
      "text/plain": [
       "<AxesSubplot:xlabel='senior_citizen', ylabel='count'>"
      ]
     },
     "execution_count": 7,
     "metadata": {},
     "output_type": "execute_result"
    },
    {
     "data": {
      "image/png": "[encoded data removed]",
      "text/plain": [
       "<Figure size 432x288 with 1 Axes>"
      ]
     },
     "metadata": {
      "needs_background": "light"
     },
     "output_type": "display_data"
    }
   ],
   "source": [
    "#the ammount of seniors and non seniors\n",
    "sns.countplot(x='senior_citizen', data=df)"
   ]
  },
  {
   "cell_type": "code",
   "execution_count": 8,
   "id": "599a86c6",
   "metadata": {},
   "outputs": [
    {
     "data": {
      "text/plain": [
       "0    5890\n",
       "1    1142\n",
       "Name: senior_citizen, dtype: int64"
      ]
     },
     "execution_count": 8,
     "metadata": {},
     "output_type": "execute_result"
    }
   ],
   "source": [
    "#looking at the numbers\n",
    "df.senior_citizen.value_counts()"
   ]
  },
  {
   "cell_type": "code",
   "execution_count": 9,
   "id": "faad528c",
   "metadata": {
    "scrolled": false
   },
   "outputs": [
    {
     "data": {
      "text/plain": [
       "<AxesSubplot:xlabel='payment_type', ylabel='count'>"
      ]
     },
     "execution_count": 9,
     "metadata": {},
     "output_type": "execute_result"
    },
    {
     "data": {
      "image/png": "[encoded data removed]",
      "text/plain": [
       "<Figure size 720x432 with 1 Axes>"
      ]
     },
     "metadata": {
      "needs_background": "light"
     },
     "output_type": "display_data"
    }
   ],
   "source": [
    "plt.figure(figsize=(10,6))\n",
    "sns.countplot(x='payment_type', data=df)"
   ]
  },
  {
   "cell_type": "code",
   "execution_count": 10,
   "id": "153b6dfb",
   "metadata": {
    "scrolled": true
   },
   "outputs": [
    {
     "data": {
      "text/plain": [
       "Electronic check             2365\n",
       "Mailed check                 1604\n",
       "Bank transfer (automatic)    1542\n",
       "Credit card (automatic)      1521\n",
       "Name: payment_type, dtype: int64"
      ]
     },
     "execution_count": 10,
     "metadata": {},
     "output_type": "execute_result"
    }
   ],
   "source": [
    "# looking at specific number of our customers using our diffrent payment methods \n",
    "df.payment_type.value_counts()"
   ]
  },
  {
   "cell_type": "markdown",
   "id": "39d6e229",
   "metadata": {},
   "source": [
    "---------------------------------------------------------------------------------------------------------------"
   ]
  },
  {
   "cell_type": "markdown",
   "id": "5770f57b",
   "metadata": {},
   "source": [
    "# Exploration: What is causing churn ?"
   ]
  },
  {
   "cell_type": "markdown",
   "id": "bf1ca035",
   "metadata": {},
   "source": [
    "## Question 1 - Are certain payment types indicators of churn  ?"
   ]
  },
  {
   "cell_type": "code",
   "execution_count": 11,
   "id": "98897870",
   "metadata": {
    "scrolled": false
   },
   "outputs": [
    {
     "data": {
      "text/plain": [
       "Text(0.5, 1.0, 'Churn and Payment Type')"
      ]
     },
     "execution_count": 11,
     "metadata": {},
     "output_type": "execute_result"
    },
    {
     "data": {
      "image/png": "[encoded data removed]",
      "text/plain": [
       "<Figure size 576x360 with 1 Axes>"
      ]
     },
     "metadata": {
      "needs_background": "light"
     },
     "output_type": "display_data"
    }
   ],
   "source": [
    "plt.figure(figsize=(8,5))\n",
    "sns.countplot(train['payment_type'],hue=train['churn'])\n",
    "plt.title(\"Churn and Payment Type\")"
   ]
  },
  {
   "cell_type": "markdown",
   "id": "6aeb81a9",
   "metadata": {},
   "source": [
    "$H_0$ = \"payment type and churn are independent\"\n",
    "\n",
    "\n",
    "$H_a$ = \"there is a relationship between using an elecronic check and churn\"\n"
   ]
  },
  {
   "cell_type": "code",
   "execution_count": 12,
   "id": "e88cf444",
   "metadata": {},
   "outputs": [
    {
     "name": "stdout",
     "output_type": "stream",
     "text": [
      "Reject the null hypothesis that payment type and churn are independent\n",
      "Sufficient evidence to move forward understanding that there is a relationship between using an elecronic check and churn\n"
     ]
    }
   ],
   "source": [
    "# Let's run a chi squared to compare proportions, to have more confidence\n",
    "alpha = 0.05\n",
    "null_hypothesis = \"payment type and churn are independent\"\n",
    "alternative_hypothesis = \"there is a relationship between using an elecronic check and churn\"\n",
    "\n",
    "# Setup a crosstab of observed churn and payment_type \n",
    "#This is the best statistical test becasue we are looking at two categorical variables \n",
    "observed = pd.crosstab(train.churn, train.payment_type)\n",
    "\n",
    "chi2, p, degf, expected = stats.chi2_contingency(observed)\n",
    "\n",
    "if p < alpha:\n",
    "    print(\"Reject the null hypothesis that\", null_hypothesis)\n",
    "    print(\"Sufficient evidence to move forward understanding that\", alternative_hypothesis)\n",
    "else:\n",
    "    print(\"Fail to reject the null\")\n",
    "    print(\"Insufficient evidence to reject the null\")\n"
   ]
  },
  {
   "cell_type": "markdown",
   "id": "6d38959e",
   "metadata": {},
   "source": [
    "### Quick recap of what we saw \n",
    "- Our electronic check system has a much higher churn rate than any other payment type \n",
    "- Using a statistical test can confirm what we saw, there is a realtionship between churn and using an electronic check "
   ]
  },
  {
   "cell_type": "markdown",
   "id": "aa7b8bea",
   "metadata": {},
   "source": [
    "##  -- What payment method are seniors using ?"
   ]
  },
  {
   "cell_type": "code",
   "execution_count": 13,
   "id": "1bb37beb",
   "metadata": {},
   "outputs": [
    {
     "data": {
      "text/plain": [
       "<AxesSubplot:xlabel='payment_type', ylabel='count'>"
      ]
     },
     "execution_count": 13,
     "metadata": {},
     "output_type": "execute_result"
    },
    {
     "data": {
      "image/png": "[encoded data removed]",
      "text/plain": [
       "<Figure size 576x360 with 1 Axes>"
      ]
     },
     "metadata": {
      "needs_background": "light"
     },
     "output_type": "display_data"
    }
   ],
   "source": [
    "plt.figure(figsize=(8,5))\n",
    "#this count plot will show the number of customers\n",
    "sns.countplot(train['payment_type'],hue=train['senior_citizen'])"
   ]
  },
  {
   "cell_type": "markdown",
   "id": "8b9c224b",
   "metadata": {},
   "source": [
    "### Major takeaways"
   ]
  },
  {
   "cell_type": "markdown",
   "id": "fdccd906",
   "metadata": {},
   "source": [
    "- One of the biggest indicators of chrun are our electronic payment method \n",
    "- Looking at our seniors we can see that the vast majority of our seniors use the electronic checks"
   ]
  },
  {
   "cell_type": "markdown",
   "id": "b0f97fca",
   "metadata": {},
   "source": [
    "---------------------------------------------------------------------------------------------------"
   ]
  },
  {
   "cell_type": "markdown",
   "id": "bc3da379",
   "metadata": {},
   "source": [
    "# Learning about our Seniors"
   ]
  },
  {
   "cell_type": "markdown",
   "id": "1c90653c",
   "metadata": {},
   "source": [
    "##  Question 2 - Are our senior citizen more likely to churn than non seniors ? "
   ]
  },
  {
   "cell_type": "code",
   "execution_count": 14,
   "id": "d4cefc4d",
   "metadata": {
    "scrolled": false
   },
   "outputs": [
    {
     "data": {
      "text/plain": [
       "<seaborn.axisgrid.FacetGrid at 0x11fb57b20>"
      ]
     },
     "execution_count": 14,
     "metadata": {},
     "output_type": "execute_result"
    },
    {
     "data": {
      "image/png": "[encoded data removed]",
      "text/plain": [
       "<Figure size 412x360 with 1 Axes>"
      ]
     },
     "metadata": {
      "needs_background": "light"
     },
     "output_type": "display_data"
    }
   ],
   "source": [
    "sns.catplot(x=\"senior_citizen\",hue = 'churn', data=train, kind='count')"
   ]
  },
  {
   "cell_type": "code",
   "execution_count": 15,
   "id": "116f450b",
   "metadata": {
    "scrolled": false
   },
   "outputs": [
    {
     "data": {
      "text/html": [
       "<div>\n",
       "<style scoped>\n",
       "    .dataframe tbody tr th:only-of-type {\n",
       "        vertical-align: middle;\n",
       "    }\n",
       "\n",
       "    .dataframe tbody tr th {\n",
       "        vertical-align: top;\n",
       "    }\n",
       "\n",
       "    .dataframe thead th {\n",
       "        text-align: right;\n",
       "    }\n",
       "</style>\n",
       "<table border=\"1\" class=\"dataframe\">\n",
       "  <thead>\n",
       "    <tr style=\"text-align: right;\">\n",
       "      <th>churn</th>\n",
       "      <th>No</th>\n",
       "      <th>Yes</th>\n",
       "    </tr>\n",
       "    <tr>\n",
       "      <th>senior_citizen</th>\n",
       "      <th></th>\n",
       "      <th></th>\n",
       "    </tr>\n",
       "  </thead>\n",
       "  <tbody>\n",
       "    <tr>\n",
       "      <th>0</th>\n",
       "      <td>2527</td>\n",
       "      <td>775</td>\n",
       "    </tr>\n",
       "    <tr>\n",
       "      <th>1</th>\n",
       "      <td>364</td>\n",
       "      <td>271</td>\n",
       "    </tr>\n",
       "  </tbody>\n",
       "</table>\n",
       "</div>"
      ],
      "text/plain": [
       "churn             No  Yes\n",
       "senior_citizen           \n",
       "0               2527  775\n",
       "1                364  271"
      ]
     },
     "execution_count": 15,
     "metadata": {},
     "output_type": "execute_result"
    }
   ],
   "source": [
    "#lets look at the numbers \n",
    "pd.crosstab(train.senior_citizen, train.churn)"
   ]
  },
  {
   "cell_type": "code",
   "execution_count": 16,
   "id": "11bf3636",
   "metadata": {},
   "outputs": [
    {
     "data": {
      "text/plain": [
       "0    3302\n",
       "1     635\n",
       "Name: senior_citizen, dtype: int64"
      ]
     },
     "execution_count": 16,
     "metadata": {},
     "output_type": "execute_result"
    }
   ],
   "source": [
    "train.senior_citizen.value_counts()"
   ]
  },
  {
   "cell_type": "markdown",
   "id": "9e9b7981",
   "metadata": {},
   "source": [
    "## Major takeaways \n",
    "\n",
    "- About half of our senior customers are more likely to churn \n",
    "- We can use this information to touch on other potential questions "
   ]
  },
  {
   "cell_type": "markdown",
   "id": "37a2bef6",
   "metadata": {},
   "source": [
    "## Question 3 Do people who churn have higher monthly charges? "
   ]
  },
  {
   "cell_type": "code",
   "execution_count": 17,
   "id": "afa58408",
   "metadata": {},
   "outputs": [
    {
     "data": {
      "text/plain": [
       "<AxesSubplot:xlabel='churn', ylabel='monthly_charges'>"
      ]
     },
     "execution_count": 17,
     "metadata": {},
     "output_type": "execute_result"
    },
    {
     "data": {
      "image/png": "[encoded data removed]",
      "text/plain": [
       "<Figure size 432x288 with 1 Axes>"
      ]
     },
     "metadata": {
      "needs_background": "light"
     },
     "output_type": "display_data"
    }
   ],
   "source": [
    "sns.boxplot(x=\"churn\", y=\"monthly_charges\", data=train)\n"
   ]
  },
  {
   "cell_type": "code",
   "execution_count": 18,
   "id": "218e8a0d",
   "metadata": {},
   "outputs": [],
   "source": [
    "churn_sample = train[train.churn == 'Yes'].monthly_charges\n",
    "no_churn_sample = train[train.churn == 'No'].monthly_charges"
   ]
  },
  {
   "cell_type": "code",
   "execution_count": 19,
   "id": "5ddddde0",
   "metadata": {
    "scrolled": true
   },
   "outputs": [
    {
     "name": "stdout",
     "output_type": "stream",
     "text": [
      "We reject the null hypothesis that the monthly charges of customers who churn equal to the monthly charges of customer who do not churn\n",
      "Evidence suggests that the monthly charges of customers who churn not equal to the monthly customer who do not churn\n"
     ]
    }
   ],
   "source": [
    "null_hypothesis = \"the monthly charges of customers who churn equal to the monthly charges of customer who do not churn\"\n",
    "alternative_hypothesis = \"the monthly charges of customers who churn not equal to the monthly customer who do not churn\"\n",
    "\n",
    "alpha = 0.05\n",
    "t, p = stats.ttest_ind(churn_sample,no_churn_sample, equal_var=False)\n",
    "#For this I did a T-statistical test becasue we are working with a categorical variable and a quatative variable \n",
    "\n",
    "if p < alpha:\n",
    "    print(\"We reject the null hypothesis that\", null_hypothesis)\n",
    "    print(\"Evidence suggests that\", alternative_hypothesis)\n",
    "else:\n",
    "    print(\"We fail to reject the null hypothesis\")\n",
    "    print(\"We find insufficient evidence to support the claim that\", alternative_hypothesis)\n"
   ]
  },
  {
   "cell_type": "markdown",
   "id": "62584490",
   "metadata": {},
   "source": [
    "# Lets get specific  !\n",
    "\n",
    "## How are our senior citizens doing on monthly charges ?"
   ]
  },
  {
   "cell_type": "code",
   "execution_count": 20,
   "id": "1da28d60",
   "metadata": {
    "scrolled": true
   },
   "outputs": [
    {
     "data": {
      "text/plain": [
       "<AxesSubplot:xlabel='senior_citizen', ylabel='monthly_charges'>"
      ]
     },
     "execution_count": 20,
     "metadata": {},
     "output_type": "execute_result"
    },
    {
     "data": {
      "image/png": "[encoded data removed]",
      "text/plain": [
       "<Figure size 432x288 with 1 Axes>"
      ]
     },
     "metadata": {
      "needs_background": "light"
     },
     "output_type": "display_data"
    }
   ],
   "source": [
    "sns.boxplot(x='senior_citizen', y=\"monthly_charges\", data=train, palette ='Set2')"
   ]
  },
  {
   "cell_type": "code",
   "execution_count": 21,
   "id": "ac99cb51",
   "metadata": {},
   "outputs": [],
   "source": [
    "senior_sample = train[train.senior_citizen == 1].monthly_charges\n",
    "not_senior_sample = train[train.senior_citizen == 0].monthly_charges"
   ]
  },
  {
   "cell_type": "code",
   "execution_count": 22,
   "id": "a984e5fd",
   "metadata": {},
   "outputs": [
    {
     "name": "stdout",
     "output_type": "stream",
     "text": [
      "We reject the null hypothesis that the monthly charges of seniors is equal too the monthly charges of non-seniors\n",
      "Evidence suggests that the monthly charges of customers who are seniors is not equal too non-seniors\n"
     ]
    }
   ],
   "source": [
    "null_hypothesis = \"the monthly charges of seniors is equal too the monthly charges of non-seniors\"\n",
    "alternative_hypothesis = \"the monthly charges of customers who are seniors is not equal too non-seniors\"\n",
    "\n",
    "alpha = 0.05\n",
    "#For this I did a T-statistical test becasue we are working with a categorical variable and a quatative variable \n",
    "\n",
    "t, p = stats.ttest_ind(senior_sample,not_senior_sample, equal_var=False)\n",
    "\n",
    "if p < alpha:\n",
    "    print(\"We reject the null hypothesis that\", null_hypothesis)\n",
    "    print(\"Evidence suggests that\", alternative_hypothesis)\n",
    "else:\n",
    "    print(\"We fail to reject the null hypothesis\")\n",
    "    print(\"We find insufficient evidence to support the claim that\", alternative_hypothesis)\n",
    "\n",
    "    "
   ]
  },
  {
   "cell_type": "markdown",
   "id": "ee695617",
   "metadata": {},
   "source": [
    "## Lets recap so far\n",
    "- Our customers who are senior citizens do have a higher average monthly charge than our non-seniors \n",
    "- Any customer no matter the age are more likely to churn due to high monthly charges "
   ]
  },
  {
   "cell_type": "markdown",
   "id": "adba8a23",
   "metadata": {},
   "source": [
    "# Question 4 -is someone with tech support more likely to churn?"
   ]
  },
  {
   "cell_type": "code",
   "execution_count": 23,
   "id": "9e5d8169",
   "metadata": {
    "scrolled": true
   },
   "outputs": [
    {
     "data": {
      "text/plain": [
       "<AxesSubplot:xlabel='tech_support', ylabel='count'>"
      ]
     },
     "execution_count": 23,
     "metadata": {},
     "output_type": "execute_result"
    },
    {
     "data": {
      "image/png": "[encoded data removed]",
      "text/plain": [
       "<Figure size 432x288 with 1 Axes>"
      ]
     },
     "metadata": {
      "needs_background": "light"
     },
     "output_type": "display_data"
    }
   ],
   "source": [
    "sns.countplot(x='tech_support', data=df, hue=\"churn\")"
   ]
  },
  {
   "cell_type": "code",
   "execution_count": 24,
   "id": "6685c44c",
   "metadata": {},
   "outputs": [
    {
     "name": "stdout",
     "output_type": "stream",
     "text": [
      "Reject the null hypothesis that Not having tech support and churn are independent\n",
      "Sufficient evidence to move forward understanding that there is a relationship between not having tech support and churn\n"
     ]
    }
   ],
   "source": [
    "# Let's run a chi squared to compare proportions, to have more confidence\n",
    "alpha = 0.05\n",
    "null_hypothesis = \"Not having tech support and churn are independent\"\n",
    "alternative_hypothesis = \"there is a relationship between not having tech support and churn\"\n",
    "\n",
    "# Setup a crosstab of observed tech_support to churn\n",
    "observed = pd.crosstab(train.tech_support, train.churn)\n",
    "\n",
    "chi2, p, degf, expected = stats.chi2_contingency(observed)\n",
    "\n",
    "if p < alpha:\n",
    "    print(\"Reject the null hypothesis that\", null_hypothesis)\n",
    "    print(\"Sufficient evidence to move forward understanding that\", alternative_hypothesis)\n",
    "else:\n",
    "    print(\"Fail to reject the null\")\n",
    "    print(\"Insufficient evidence to reject the null\")\n",
    "\n",
    "\n"
   ]
  },
  {
   "cell_type": "markdown",
   "id": "3934a15c",
   "metadata": {},
   "source": [
    "### Are seniors mostly using tech support ?"
   ]
  },
  {
   "cell_type": "code",
   "execution_count": 25,
   "id": "a9032988",
   "metadata": {
    "scrolled": false
   },
   "outputs": [
    {
     "data": {
      "text/plain": [
       "<AxesSubplot:xlabel='tech_support', ylabel='count'>"
      ]
     },
     "execution_count": 25,
     "metadata": {},
     "output_type": "execute_result"
    },
    {
     "data": {
      "image/png": "[encoded data removed]",
      "text/plain": [
       "<Figure size 432x288 with 1 Axes>"
      ]
     },
     "metadata": {
      "needs_background": "light"
     },
     "output_type": "display_data"
    }
   ],
   "source": [
    "sns.countplot(x='tech_support', data=df, hue=\"senior_citizen\")"
   ]
  },
  {
   "cell_type": "markdown",
   "id": "b2a7b64d",
   "metadata": {},
   "source": [
    "## Major findings!\n",
    "\n",
    "- We can see that many of our customer who churn, do not use our tech support services\n",
    "\n",
    "\n",
    "- With our seniors we see that the vast majority of them do not use our tech services as well "
   ]
  },
  {
   "cell_type": "markdown",
   "id": "ad54195e",
   "metadata": {},
   "source": [
    "------------------------------------------------------------------------------------------------------"
   ]
  },
  {
   "cell_type": "markdown",
   "id": "24226ec4",
   "metadata": {},
   "source": [
    "# TELCO MODELING - Lets focus on everyone!"
   ]
  },
  {
   "cell_type": "markdown",
   "id": "fd6c7f92",
   "metadata": {},
   "source": [
    "### Baseline Model "
   ]
  },
  {
   "cell_type": "code",
   "execution_count": 26,
   "id": "360dd761",
   "metadata": {
    "scrolled": true
   },
   "outputs": [
    {
     "name": "stdout",
     "output_type": "stream",
     "text": [
      "baseline_accuracy: 0.73\n"
     ]
    }
   ],
   "source": [
    "#This is our baseline model we want all the customer to not churn!\n",
    "\n",
    "baseline_accuracy = (train.churn == 'No').mean()\n",
    "print(f\"baseline_accuracy: {round(baseline_accuracy, 2)}\")"
   ]
  },
  {
   "cell_type": "code",
   "execution_count": 27,
   "id": "61d38eb7",
   "metadata": {},
   "outputs": [
    {
     "data": {
      "text/plain": [
       "((3937, 51), (1688, 51), (1407, 51))"
      ]
     },
     "execution_count": 27,
     "metadata": {},
     "output_type": "execute_result"
    }
   ],
   "source": [
    "#remember this from the begining it is best to split the data to make better predictions \n",
    "train.shape, validate.shape, test.shape\n"
   ]
  },
  {
   "cell_type": "code",
   "execution_count": 28,
   "id": "83f99286",
   "metadata": {},
   "outputs": [],
   "source": [
    "\n",
    "\n",
    "# create X & y version of train, where y is a series with just the target variable and X are all the features. \n",
    "# I dropeed all of these extra categorical collums \n",
    "# This will be used for our modeling \n",
    "X_train = train.drop(columns=['churn','churn_encoded','customer_id', 'gender','partner', 'dependents', \n",
    "                              'phone_service', 'multiple_lines', 'online_security', 'online_backup', 'device_protection', \n",
    "                              'tech_support', 'streaming_tv', 'streaming_movies', 'paperless_billing', 'contract_type', 'internet_service_type', \n",
    "                              'payment_type'])\n",
    "y_train = train[['churn']]\n",
    "\n",
    "X_validate = validate.drop(columns=['churn','churn_encoded', 'customer_id', 'gender','partner', 'dependents', 'phone_service', 'multiple_lines', \n",
    "                                    'online_security', 'online_backup', 'device_protection', 'tech_support', 'streaming_tv', 'streaming_movies', \n",
    "                                    'paperless_billing', 'contract_type', 'internet_service_type', 'payment_type'])\n",
    "y_validate = validate[['churn']]\n",
    "\n",
    "X_test = test.drop(columns=['churn','churn_encoded', 'customer_id', 'gender','partner', 'dependents', 'phone_service',\n",
    "                            'multiple_lines', 'online_security', 'online_backup', 'device_protection', 'tech_support',\n",
    "                            'streaming_tv', 'streaming_movies', 'paperless_billing', 'contract_type', \n",
    "                            'internet_service_type', 'payment_type'])\n",
    "y_test = test[['churn']]\n"
   ]
  },
  {
   "cell_type": "markdown",
   "id": "07c4ba01",
   "metadata": {},
   "source": [
    "# The Models I used \n",
    "After Several trials and erros here are the diffrent models I used \n",
    "\n",
    "1) Decision Tree with a Max depth of 10,    \n",
    "\n",
    "            Train:91%|Validate:77%|Diff:14%\n",
    "\n",
    "2) KNN with  a n_neighbor of 7     \n",
    "\n",
    "            Train:82%|Validate:77%|Diff: 5%\n",
    "            \n",
    "** for a visualization of these models please direct to my github page**\n",
    "\n",
    "I did not choose these becasue I noticed a large diffrence in accuracy perentage I wanted something that had much less. The more I tried to have a better train prediction the more diffrent the validate was. I decided find one where the accuracy was very simmilar for both train and validate.\n",
    " \n",
    "Random Forest was the winner!\n",
    "\n",
    "\n",
    "3) Random Forest max_depth of 5 \n",
    "\n",
    "           Train:80%|Validate:79% |Diff: 1%"
   ]
  },
  {
   "cell_type": "markdown",
   "id": "8690c00f",
   "metadata": {},
   "source": [
    "# Random Forest\n",
    "\n",
    "this classifier based on constructing a multitude of decision trees, \n",
    "choosing random subsets of variables for each tree, and using the most frequent tree output as the overall classification."
   ]
  },
  {
   "cell_type": "code",
   "execution_count": 29,
   "id": "4b94669c",
   "metadata": {},
   "outputs": [],
   "source": [
    "#Create the Random Forest object with desired hyper-parameters.\n",
    "#in this case I chose max_depth of 5\n",
    "\n",
    "\n",
    "rf = RandomForestClassifier(max_depth=5, \n",
    "                            random_state=123)"
   ]
  },
  {
   "cell_type": "code",
   "execution_count": 30,
   "id": "1efc1c58",
   "metadata": {},
   "outputs": [
    {
     "data": {
      "text/plain": [
       "RandomForestClassifier(max_depth=5, random_state=123)"
      ]
     },
     "execution_count": 30,
     "metadata": {},
     "output_type": "execute_result"
    }
   ],
   "source": [
    "#Fit the random forest algorithm to the training data.\n",
    "rf.fit(X_train, y_train)\n"
   ]
  },
  {
   "cell_type": "code",
   "execution_count": 31,
   "id": "b97bf83d",
   "metadata": {},
   "outputs": [],
   "source": [
    "#this is where we make the predictions\n",
    "y_pred = rf.predict(X_train)\n"
   ]
  },
  {
   "cell_type": "code",
   "execution_count": 32,
   "id": "477a044e",
   "metadata": {},
   "outputs": [],
   "source": [
    "#this will estimate the probability \n",
    "y_pred_proba = rf.predict_proba(X_train)\n"
   ]
  },
  {
   "cell_type": "code",
   "execution_count": 33,
   "id": "4a9b6aff",
   "metadata": {},
   "outputs": [
    {
     "name": "stdout",
     "output_type": "stream",
     "text": [
      "Accuracy of random forest classifier on training set: 0.80\n"
     ]
    }
   ],
   "source": [
    "print('Accuracy of random forest classifier on training set: {:.2f}'\n",
    "     .format(rf.score(X_train, y_train)))"
   ]
  },
  {
   "cell_type": "code",
   "execution_count": 34,
   "id": "edf2e3ae",
   "metadata": {
    "scrolled": false
   },
   "outputs": [
    {
     "name": "stdout",
     "output_type": "stream",
     "text": [
      "              precision    recall  f1-score   support\n",
      "\n",
      "          No       0.83      0.93      0.87      2891\n",
      "         Yes       0.70      0.46      0.55      1046\n",
      "\n",
      "    accuracy                           0.80      3937\n",
      "   macro avg       0.76      0.69      0.71      3937\n",
      "weighted avg       0.79      0.80      0.79      3937\n",
      "\n"
     ]
    }
   ],
   "source": [
    "print(classification_report(y_train, y_pred))"
   ]
  },
  {
   "cell_type": "markdown",
   "id": "1ac109f8",
   "metadata": {},
   "source": [
    "### Now lets test on Validate "
   ]
  },
  {
   "cell_type": "code",
   "execution_count": 35,
   "id": "3a5989e4",
   "metadata": {
    "scrolled": true
   },
   "outputs": [
    {
     "name": "stdout",
     "output_type": "stream",
     "text": [
      "Accuracy of random forest classifier on validate set: 0.79\n"
     ]
    }
   ],
   "source": [
    "print('Accuracy of random forest classifier on validate set: {:.2f}'\n",
    "     .format(rf.score(X_validate, y_validate)))"
   ]
  },
  {
   "cell_type": "markdown",
   "id": "71c9b887",
   "metadata": {},
   "source": [
    "### Now Test"
   ]
  },
  {
   "cell_type": "code",
   "execution_count": 38,
   "id": "857538c0",
   "metadata": {
    "scrolled": false
   },
   "outputs": [
    {
     "name": "stdout",
     "output_type": "stream",
     "text": [
      "Accuracy of random forest classifier on test set: 0.80\n"
     ]
    }
   ],
   "source": [
    "print('Accuracy of random forest classifier on test set: {:.2f}'\n",
    "     .format(rf.score(X_test, y_test)))"
   ]
  },
  {
   "cell_type": "markdown",
   "id": "08b5c916",
   "metadata": {},
   "source": [
    "-----------------------------------------------------------------------------"
   ]
  },
  {
   "cell_type": "markdown",
   "id": "85f8930e",
   "metadata": {},
   "source": [
    "## In summary \n",
    "Random Forest when tested on:\n",
    "- Train- 80%\n",
    "    \n",
    "- Validate- 79%\n",
    "    \n",
    "- Test- 80%\n",
    "\n",
    "This is much better model than KNN and Decision Tree\n",
    "\n",
    "- Great plusses to using this model it can reduce the amount of overfitting\n",
    "- It can be much more accurate than decision tree "
   ]
  },
  {
   "cell_type": "markdown",
   "id": "e5cd3885",
   "metadata": {},
   "source": [
    "--------------------------------------------------------------------------------------------------"
   ]
  },
  {
   "cell_type": "markdown",
   "id": "b828d1bc",
   "metadata": {},
   "source": [
    "# Conclusion "
   ]
  },
  {
   "cell_type": "markdown",
   "id": "b15163d8",
   "metadata": {},
   "source": [
    "- One of the biggest indicators of chrun are our electronic payment method learning from charts the majority of seniors use this type of payment method  \n",
    "\n",
    "- Seniors pay more in mothly charges that our non- seniors \n",
    "\n",
    "- We can see that many of our customer who churn, do not use our tech support services, especially our seniors\n",
    "\n",
    "- the best clasification model turned out to be Random Forest with the best accuracy "
   ]
  },
  {
   "cell_type": "markdown",
   "id": "be6e7afc",
   "metadata": {},
   "source": [
    "## Recomendations"
   ]
  },
  {
   "cell_type": "markdown",
   "id": "a69e9655",
   "metadata": {},
   "source": [
    "- Starting a senior discount innitative where if a customer his a certain aget there will be a small discount avalible to the \n",
    "\n",
    "Or \n",
    "\n",
    "- Making more bundle deals for our customers to make prices per month much less than having many diffrnet individual services \n",
    "\n",
    "- Promote our tech serives especially to our seniors, contacting them via phone or sending out letters, so we can get them to use these services more!\n",
    "\n",
    "- Instead of having this Electronic check option we can go for trying automatic payments that pay the bill every month, if they sighn up for this service they will be given a discount on their overall monthly charge\n",
    "    - Incentives to try to get customers to not use the electronic check method \n"
   ]
  },
  {
   "cell_type": "markdown",
   "id": "b69d0366",
   "metadata": {},
   "source": [
    "## Next Steps"
   ]
  },
  {
   "cell_type": "markdown",
   "id": "40fdbedd",
   "metadata": {},
   "source": [
    "What I would do\n",
    "\n",
    "- Keep looking for other potential drivers of churn with our seniors\n",
    "\n",
    "- Look for more drivers of churn with our non-senior population \n",
    "\n",
    "- perform further modeling to make better preictions to reduce churn \n"
   ]
  },
  {
   "cell_type": "code",
   "execution_count": null,
   "id": "77014ce9",
   "metadata": {},
   "outputs": [],
   "source": []
  },
  {
   "cell_type": "code",
   "execution_count": null,
   "id": "e46d576a",
   "metadata": {},
   "outputs": [],
   "source": []
  }
 ],
 "metadata": {
  "kernelspec": {
   "display_name": "Python 3 (ipykernel)",
   "language": "python",
   "name": "python3"
  },
  "language_info": {
   "codemirror_mode": {
    "name": "ipython",
    "version": 3
   },
   "file_extension": ".py",
   "mimetype": "text/x-python",
   "name": "python",
   "nbconvert_exporter": "python",
   "pygments_lexer": "ipython3",
   "version": "3.9.12"
  }
 },
 "nbformat": 4,
 "nbformat_minor": 5
}
