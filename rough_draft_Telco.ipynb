{
 "cells": [
  {
   "cell_type": "code",
   "execution_count": 103,
   "id": "cf91cd1e",
   "metadata": {},
   "outputs": [],
   "source": [
    "import pandas as pd\n",
    "import numpy as np\n",
    "\n",
    "from pydataset import data\n",
    "import os\n",
    "\n",
    "import matplotlib.pyplot as plt\n",
    "import seaborn as sns\n",
    "\n",
    "import warnings\n",
    "warnings.filterwarnings(\"ignore\")\n",
    "\n",
    "import acquire\n",
    "import prepare\n",
    "\n",
    "import warnings\n",
    "warnings.filterwarnings(\"ignore\")\n",
    "\n",
    "import pandas as pd\n",
    "import numpy as np\n",
    "import matplotlib.pyplot as plt\n",
    "import seaborn as sns\n",
    "from scipy import stats\n",
    "from sklearn.model_selection import train_test_split\n",
    "\n",
    "np.random.seed(123)"
   ]
  },
  {
   "cell_type": "markdown",
   "id": "583dd683",
   "metadata": {},
   "source": [
    "# Data Wrangling "
   ]
  },
  {
   "cell_type": "code",
   "execution_count": 101,
   "id": "d2dfc024",
   "metadata": {},
   "outputs": [],
   "source": [
    "import acquire"
   ]
  },
  {
   "cell_type": "code",
   "execution_count": 102,
   "id": "ee699600",
   "metadata": {
    "scrolled": true
   },
   "outputs": [
    {
     "data": {
      "text/html": [
       "<div>\n",
       "<style scoped>\n",
       "    .dataframe tbody tr th:only-of-type {\n",
       "        vertical-align: middle;\n",
       "    }\n",
       "\n",
       "    .dataframe tbody tr th {\n",
       "        vertical-align: top;\n",
       "    }\n",
       "\n",
       "    .dataframe thead th {\n",
       "        text-align: right;\n",
       "    }\n",
       "</style>\n",
       "<table border=\"1\" class=\"dataframe\">\n",
       "  <thead>\n",
       "    <tr style=\"text-align: right;\">\n",
       "      <th></th>\n",
       "      <th>payment_type_id</th>\n",
       "      <th>internet_service_type_id</th>\n",
       "      <th>contract_type_id</th>\n",
       "      <th>customer_id</th>\n",
       "      <th>gender</th>\n",
       "      <th>senior_citizen</th>\n",
       "      <th>partner</th>\n",
       "      <th>dependents</th>\n",
       "      <th>tenure</th>\n",
       "      <th>phone_service</th>\n",
       "      <th>multiple_lines</th>\n",
       "      <th>online_security</th>\n",
       "      <th>online_backup</th>\n",
       "      <th>device_protection</th>\n",
       "      <th>tech_support</th>\n",
       "      <th>streaming_tv</th>\n",
       "      <th>streaming_movies</th>\n",
       "      <th>paperless_billing</th>\n",
       "      <th>monthly_charges</th>\n",
       "      <th>total_charges</th>\n",
       "      <th>churn</th>\n",
       "      <th>contract_type</th>\n",
       "      <th>internet_service_type</th>\n",
       "      <th>payment_type</th>\n",
       "    </tr>\n",
       "  </thead>\n",
       "  <tbody>\n",
       "    <tr>\n",
       "      <th>0</th>\n",
       "      <td>2</td>\n",
       "      <td>1</td>\n",
       "      <td>2</td>\n",
       "      <td>0002-ORFBO</td>\n",
       "      <td>Female</td>\n",
       "      <td>0</td>\n",
       "      <td>Yes</td>\n",
       "      <td>Yes</td>\n",
       "      <td>9</td>\n",
       "      <td>Yes</td>\n",
       "      <td>No</td>\n",
       "      <td>No</td>\n",
       "      <td>Yes</td>\n",
       "      <td>No</td>\n",
       "      <td>Yes</td>\n",
       "      <td>Yes</td>\n",
       "      <td>No</td>\n",
       "      <td>Yes</td>\n",
       "      <td>65.60</td>\n",
       "      <td>593.3</td>\n",
       "      <td>No</td>\n",
       "      <td>One year</td>\n",
       "      <td>DSL</td>\n",
       "      <td>Mailed check</td>\n",
       "    </tr>\n",
       "    <tr>\n",
       "      <th>1</th>\n",
       "      <td>2</td>\n",
       "      <td>1</td>\n",
       "      <td>1</td>\n",
       "      <td>0003-MKNFE</td>\n",
       "      <td>Male</td>\n",
       "      <td>0</td>\n",
       "      <td>No</td>\n",
       "      <td>No</td>\n",
       "      <td>9</td>\n",
       "      <td>Yes</td>\n",
       "      <td>Yes</td>\n",
       "      <td>No</td>\n",
       "      <td>No</td>\n",
       "      <td>No</td>\n",
       "      <td>No</td>\n",
       "      <td>No</td>\n",
       "      <td>Yes</td>\n",
       "      <td>No</td>\n",
       "      <td>59.90</td>\n",
       "      <td>542.4</td>\n",
       "      <td>No</td>\n",
       "      <td>Month-to-month</td>\n",
       "      <td>DSL</td>\n",
       "      <td>Mailed check</td>\n",
       "    </tr>\n",
       "    <tr>\n",
       "      <th>2</th>\n",
       "      <td>1</td>\n",
       "      <td>2</td>\n",
       "      <td>1</td>\n",
       "      <td>0004-TLHLJ</td>\n",
       "      <td>Male</td>\n",
       "      <td>0</td>\n",
       "      <td>No</td>\n",
       "      <td>No</td>\n",
       "      <td>4</td>\n",
       "      <td>Yes</td>\n",
       "      <td>No</td>\n",
       "      <td>No</td>\n",
       "      <td>No</td>\n",
       "      <td>Yes</td>\n",
       "      <td>No</td>\n",
       "      <td>No</td>\n",
       "      <td>No</td>\n",
       "      <td>Yes</td>\n",
       "      <td>73.90</td>\n",
       "      <td>280.85</td>\n",
       "      <td>Yes</td>\n",
       "      <td>Month-to-month</td>\n",
       "      <td>Fiber optic</td>\n",
       "      <td>Electronic check</td>\n",
       "    </tr>\n",
       "    <tr>\n",
       "      <th>3</th>\n",
       "      <td>1</td>\n",
       "      <td>2</td>\n",
       "      <td>1</td>\n",
       "      <td>0011-IGKFF</td>\n",
       "      <td>Male</td>\n",
       "      <td>1</td>\n",
       "      <td>Yes</td>\n",
       "      <td>No</td>\n",
       "      <td>13</td>\n",
       "      <td>Yes</td>\n",
       "      <td>No</td>\n",
       "      <td>No</td>\n",
       "      <td>Yes</td>\n",
       "      <td>Yes</td>\n",
       "      <td>No</td>\n",
       "      <td>Yes</td>\n",
       "      <td>Yes</td>\n",
       "      <td>Yes</td>\n",
       "      <td>98.00</td>\n",
       "      <td>1237.85</td>\n",
       "      <td>Yes</td>\n",
       "      <td>Month-to-month</td>\n",
       "      <td>Fiber optic</td>\n",
       "      <td>Electronic check</td>\n",
       "    </tr>\n",
       "    <tr>\n",
       "      <th>4</th>\n",
       "      <td>2</td>\n",
       "      <td>2</td>\n",
       "      <td>1</td>\n",
       "      <td>0013-EXCHZ</td>\n",
       "      <td>Female</td>\n",
       "      <td>1</td>\n",
       "      <td>Yes</td>\n",
       "      <td>No</td>\n",
       "      <td>3</td>\n",
       "      <td>Yes</td>\n",
       "      <td>No</td>\n",
       "      <td>No</td>\n",
       "      <td>No</td>\n",
       "      <td>No</td>\n",
       "      <td>Yes</td>\n",
       "      <td>Yes</td>\n",
       "      <td>No</td>\n",
       "      <td>Yes</td>\n",
       "      <td>83.90</td>\n",
       "      <td>267.4</td>\n",
       "      <td>Yes</td>\n",
       "      <td>Month-to-month</td>\n",
       "      <td>Fiber optic</td>\n",
       "      <td>Mailed check</td>\n",
       "    </tr>\n",
       "    <tr>\n",
       "      <th>...</th>\n",
       "      <td>...</td>\n",
       "      <td>...</td>\n",
       "      <td>...</td>\n",
       "      <td>...</td>\n",
       "      <td>...</td>\n",
       "      <td>...</td>\n",
       "      <td>...</td>\n",
       "      <td>...</td>\n",
       "      <td>...</td>\n",
       "      <td>...</td>\n",
       "      <td>...</td>\n",
       "      <td>...</td>\n",
       "      <td>...</td>\n",
       "      <td>...</td>\n",
       "      <td>...</td>\n",
       "      <td>...</td>\n",
       "      <td>...</td>\n",
       "      <td>...</td>\n",
       "      <td>...</td>\n",
       "      <td>...</td>\n",
       "      <td>...</td>\n",
       "      <td>...</td>\n",
       "      <td>...</td>\n",
       "      <td>...</td>\n",
       "    </tr>\n",
       "    <tr>\n",
       "      <th>7038</th>\n",
       "      <td>2</td>\n",
       "      <td>1</td>\n",
       "      <td>2</td>\n",
       "      <td>9987-LUTYD</td>\n",
       "      <td>Female</td>\n",
       "      <td>0</td>\n",
       "      <td>No</td>\n",
       "      <td>No</td>\n",
       "      <td>13</td>\n",
       "      <td>Yes</td>\n",
       "      <td>No</td>\n",
       "      <td>Yes</td>\n",
       "      <td>No</td>\n",
       "      <td>No</td>\n",
       "      <td>Yes</td>\n",
       "      <td>No</td>\n",
       "      <td>No</td>\n",
       "      <td>No</td>\n",
       "      <td>55.15</td>\n",
       "      <td>742.9</td>\n",
       "      <td>No</td>\n",
       "      <td>One year</td>\n",
       "      <td>DSL</td>\n",
       "      <td>Mailed check</td>\n",
       "    </tr>\n",
       "    <tr>\n",
       "      <th>7039</th>\n",
       "      <td>1</td>\n",
       "      <td>2</td>\n",
       "      <td>1</td>\n",
       "      <td>9992-RRAMN</td>\n",
       "      <td>Male</td>\n",
       "      <td>0</td>\n",
       "      <td>Yes</td>\n",
       "      <td>No</td>\n",
       "      <td>22</td>\n",
       "      <td>Yes</td>\n",
       "      <td>Yes</td>\n",
       "      <td>No</td>\n",
       "      <td>No</td>\n",
       "      <td>No</td>\n",
       "      <td>No</td>\n",
       "      <td>No</td>\n",
       "      <td>Yes</td>\n",
       "      <td>Yes</td>\n",
       "      <td>85.10</td>\n",
       "      <td>1873.7</td>\n",
       "      <td>Yes</td>\n",
       "      <td>Month-to-month</td>\n",
       "      <td>Fiber optic</td>\n",
       "      <td>Electronic check</td>\n",
       "    </tr>\n",
       "    <tr>\n",
       "      <th>7040</th>\n",
       "      <td>2</td>\n",
       "      <td>1</td>\n",
       "      <td>1</td>\n",
       "      <td>9992-UJOEL</td>\n",
       "      <td>Male</td>\n",
       "      <td>0</td>\n",
       "      <td>No</td>\n",
       "      <td>No</td>\n",
       "      <td>2</td>\n",
       "      <td>Yes</td>\n",
       "      <td>No</td>\n",
       "      <td>No</td>\n",
       "      <td>Yes</td>\n",
       "      <td>No</td>\n",
       "      <td>No</td>\n",
       "      <td>No</td>\n",
       "      <td>No</td>\n",
       "      <td>Yes</td>\n",
       "      <td>50.30</td>\n",
       "      <td>92.75</td>\n",
       "      <td>No</td>\n",
       "      <td>Month-to-month</td>\n",
       "      <td>DSL</td>\n",
       "      <td>Mailed check</td>\n",
       "    </tr>\n",
       "    <tr>\n",
       "      <th>7041</th>\n",
       "      <td>2</td>\n",
       "      <td>1</td>\n",
       "      <td>3</td>\n",
       "      <td>9993-LHIEB</td>\n",
       "      <td>Male</td>\n",
       "      <td>0</td>\n",
       "      <td>Yes</td>\n",
       "      <td>Yes</td>\n",
       "      <td>67</td>\n",
       "      <td>Yes</td>\n",
       "      <td>No</td>\n",
       "      <td>Yes</td>\n",
       "      <td>No</td>\n",
       "      <td>Yes</td>\n",
       "      <td>Yes</td>\n",
       "      <td>No</td>\n",
       "      <td>Yes</td>\n",
       "      <td>No</td>\n",
       "      <td>67.85</td>\n",
       "      <td>4627.65</td>\n",
       "      <td>No</td>\n",
       "      <td>Two year</td>\n",
       "      <td>DSL</td>\n",
       "      <td>Mailed check</td>\n",
       "    </tr>\n",
       "    <tr>\n",
       "      <th>7042</th>\n",
       "      <td>1</td>\n",
       "      <td>1</td>\n",
       "      <td>3</td>\n",
       "      <td>9995-HOTOH</td>\n",
       "      <td>Male</td>\n",
       "      <td>0</td>\n",
       "      <td>Yes</td>\n",
       "      <td>Yes</td>\n",
       "      <td>63</td>\n",
       "      <td>No</td>\n",
       "      <td>No phone service</td>\n",
       "      <td>Yes</td>\n",
       "      <td>Yes</td>\n",
       "      <td>Yes</td>\n",
       "      <td>No</td>\n",
       "      <td>Yes</td>\n",
       "      <td>Yes</td>\n",
       "      <td>No</td>\n",
       "      <td>59.00</td>\n",
       "      <td>3707.6</td>\n",
       "      <td>No</td>\n",
       "      <td>Two year</td>\n",
       "      <td>DSL</td>\n",
       "      <td>Electronic check</td>\n",
       "    </tr>\n",
       "  </tbody>\n",
       "</table>\n",
       "<p>7043 rows × 24 columns</p>\n",
       "</div>"
      ],
      "text/plain": [
       "      payment_type_id  internet_service_type_id  contract_type_id customer_id  \\\n",
       "0                   2                         1                 2  0002-ORFBO   \n",
       "1                   2                         1                 1  0003-MKNFE   \n",
       "2                   1                         2                 1  0004-TLHLJ   \n",
       "3                   1                         2                 1  0011-IGKFF   \n",
       "4                   2                         2                 1  0013-EXCHZ   \n",
       "...               ...                       ...               ...         ...   \n",
       "7038                2                         1                 2  9987-LUTYD   \n",
       "7039                1                         2                 1  9992-RRAMN   \n",
       "7040                2                         1                 1  9992-UJOEL   \n",
       "7041                2                         1                 3  9993-LHIEB   \n",
       "7042                1                         1                 3  9995-HOTOH   \n",
       "\n",
       "      gender  senior_citizen partner dependents  tenure phone_service  \\\n",
       "0     Female               0     Yes        Yes       9           Yes   \n",
       "1       Male               0      No         No       9           Yes   \n",
       "2       Male               0      No         No       4           Yes   \n",
       "3       Male               1     Yes         No      13           Yes   \n",
       "4     Female               1     Yes         No       3           Yes   \n",
       "...      ...             ...     ...        ...     ...           ...   \n",
       "7038  Female               0      No         No      13           Yes   \n",
       "7039    Male               0     Yes         No      22           Yes   \n",
       "7040    Male               0      No         No       2           Yes   \n",
       "7041    Male               0     Yes        Yes      67           Yes   \n",
       "7042    Male               0     Yes        Yes      63            No   \n",
       "\n",
       "        multiple_lines online_security online_backup device_protection  \\\n",
       "0                   No              No           Yes                No   \n",
       "1                  Yes              No            No                No   \n",
       "2                   No              No            No               Yes   \n",
       "3                   No              No           Yes               Yes   \n",
       "4                   No              No            No                No   \n",
       "...                ...             ...           ...               ...   \n",
       "7038                No             Yes            No                No   \n",
       "7039               Yes              No            No                No   \n",
       "7040                No              No           Yes                No   \n",
       "7041                No             Yes            No               Yes   \n",
       "7042  No phone service             Yes           Yes               Yes   \n",
       "\n",
       "     tech_support streaming_tv streaming_movies paperless_billing  \\\n",
       "0             Yes          Yes               No               Yes   \n",
       "1              No           No              Yes                No   \n",
       "2              No           No               No               Yes   \n",
       "3              No          Yes              Yes               Yes   \n",
       "4             Yes          Yes               No               Yes   \n",
       "...           ...          ...              ...               ...   \n",
       "7038          Yes           No               No                No   \n",
       "7039           No           No              Yes               Yes   \n",
       "7040           No           No               No               Yes   \n",
       "7041          Yes           No              Yes                No   \n",
       "7042           No          Yes              Yes                No   \n",
       "\n",
       "      monthly_charges total_charges churn   contract_type  \\\n",
       "0               65.60         593.3    No        One year   \n",
       "1               59.90         542.4    No  Month-to-month   \n",
       "2               73.90        280.85   Yes  Month-to-month   \n",
       "3               98.00       1237.85   Yes  Month-to-month   \n",
       "4               83.90         267.4   Yes  Month-to-month   \n",
       "...               ...           ...   ...             ...   \n",
       "7038            55.15         742.9    No        One year   \n",
       "7039            85.10        1873.7   Yes  Month-to-month   \n",
       "7040            50.30         92.75    No  Month-to-month   \n",
       "7041            67.85       4627.65    No        Two year   \n",
       "7042            59.00        3707.6    No        Two year   \n",
       "\n",
       "     internet_service_type      payment_type  \n",
       "0                      DSL      Mailed check  \n",
       "1                      DSL      Mailed check  \n",
       "2              Fiber optic  Electronic check  \n",
       "3              Fiber optic  Electronic check  \n",
       "4              Fiber optic      Mailed check  \n",
       "...                    ...               ...  \n",
       "7038                   DSL      Mailed check  \n",
       "7039           Fiber optic  Electronic check  \n",
       "7040                   DSL      Mailed check  \n",
       "7041                   DSL      Mailed check  \n",
       "7042                   DSL  Electronic check  \n",
       "\n",
       "[7043 rows x 24 columns]"
      ]
     },
     "execution_count": 102,
     "metadata": {},
     "output_type": "execute_result"
    }
   ],
   "source": [
    "df = acquire.get_telco_data()\n",
    "df"
   ]
  },
  {
   "cell_type": "markdown",
   "id": "641a841a",
   "metadata": {},
   "source": [
    "# Data PREP"
   ]
  },
  {
   "cell_type": "code",
   "execution_count": 104,
   "id": "a5231b04",
   "metadata": {},
   "outputs": [],
   "source": [
    "import prepare"
   ]
  },
  {
   "cell_type": "code",
   "execution_count": 105,
   "id": "e6b56ac3",
   "metadata": {
    "scrolled": true
   },
   "outputs": [
    {
     "data": {
      "text/html": [
       "<div>\n",
       "<style scoped>\n",
       "    .dataframe tbody tr th:only-of-type {\n",
       "        vertical-align: middle;\n",
       "    }\n",
       "\n",
       "    .dataframe tbody tr th {\n",
       "        vertical-align: top;\n",
       "    }\n",
       "\n",
       "    .dataframe thead th {\n",
       "        text-align: right;\n",
       "    }\n",
       "</style>\n",
       "<table border=\"1\" class=\"dataframe\">\n",
       "  <thead>\n",
       "    <tr style=\"text-align: right;\">\n",
       "      <th></th>\n",
       "      <th>payment_type_id</th>\n",
       "      <th>internet_service_type_id</th>\n",
       "      <th>contract_type_id</th>\n",
       "      <th>customer_id</th>\n",
       "      <th>gender</th>\n",
       "      <th>senior_citizen</th>\n",
       "      <th>partner</th>\n",
       "      <th>dependents</th>\n",
       "      <th>tenure</th>\n",
       "      <th>phone_service</th>\n",
       "      <th>multiple_lines</th>\n",
       "      <th>online_security</th>\n",
       "      <th>online_backup</th>\n",
       "      <th>device_protection</th>\n",
       "      <th>tech_support</th>\n",
       "      <th>streaming_tv</th>\n",
       "      <th>streaming_movies</th>\n",
       "      <th>paperless_billing</th>\n",
       "      <th>monthly_charges</th>\n",
       "      <th>total_charges</th>\n",
       "      <th>churn</th>\n",
       "      <th>contract_type</th>\n",
       "      <th>internet_service_type</th>\n",
       "      <th>payment_type</th>\n",
       "      <th>gender_encoded</th>\n",
       "      <th>partner_encoded</th>\n",
       "      <th>dependents_encoded</th>\n",
       "      <th>phone_service_encoded</th>\n",
       "      <th>paperless_billing_encoded</th>\n",
       "      <th>churn_encoded</th>\n",
       "      <th>multiple_lines_No phone service</th>\n",
       "      <th>multiple_lines_Yes</th>\n",
       "      <th>online_security_No internet service</th>\n",
       "      <th>online_security_Yes</th>\n",
       "      <th>online_backup_No internet service</th>\n",
       "      <th>online_backup_Yes</th>\n",
       "      <th>device_protection_No internet service</th>\n",
       "      <th>device_protection_Yes</th>\n",
       "      <th>tech_support_No internet service</th>\n",
       "      <th>tech_support_Yes</th>\n",
       "      <th>streaming_tv_No internet service</th>\n",
       "      <th>streaming_tv_Yes</th>\n",
       "      <th>streaming_movies_No internet service</th>\n",
       "      <th>streaming_movies_Yes</th>\n",
       "      <th>contract_type_One year</th>\n",
       "      <th>contract_type_Two year</th>\n",
       "      <th>internet_service_type_Fiber optic</th>\n",
       "      <th>internet_service_type_None</th>\n",
       "      <th>payment_type_Credit card (automatic)</th>\n",
       "      <th>payment_type_Electronic check</th>\n",
       "      <th>payment_type_Mailed check</th>\n",
       "    </tr>\n",
       "  </thead>\n",
       "  <tbody>\n",
       "    <tr>\n",
       "      <th>0</th>\n",
       "      <td>2</td>\n",
       "      <td>1</td>\n",
       "      <td>2</td>\n",
       "      <td>0002-ORFBO</td>\n",
       "      <td>Female</td>\n",
       "      <td>0</td>\n",
       "      <td>Yes</td>\n",
       "      <td>Yes</td>\n",
       "      <td>9</td>\n",
       "      <td>Yes</td>\n",
       "      <td>No</td>\n",
       "      <td>No</td>\n",
       "      <td>Yes</td>\n",
       "      <td>No</td>\n",
       "      <td>Yes</td>\n",
       "      <td>Yes</td>\n",
       "      <td>No</td>\n",
       "      <td>Yes</td>\n",
       "      <td>65.6</td>\n",
       "      <td>593.30</td>\n",
       "      <td>No</td>\n",
       "      <td>One year</td>\n",
       "      <td>DSL</td>\n",
       "      <td>Mailed check</td>\n",
       "      <td>1</td>\n",
       "      <td>1</td>\n",
       "      <td>1</td>\n",
       "      <td>1</td>\n",
       "      <td>1</td>\n",
       "      <td>0</td>\n",
       "      <td>0</td>\n",
       "      <td>0</td>\n",
       "      <td>0</td>\n",
       "      <td>0</td>\n",
       "      <td>0</td>\n",
       "      <td>1</td>\n",
       "      <td>0</td>\n",
       "      <td>0</td>\n",
       "      <td>0</td>\n",
       "      <td>1</td>\n",
       "      <td>0</td>\n",
       "      <td>1</td>\n",
       "      <td>0</td>\n",
       "      <td>0</td>\n",
       "      <td>1</td>\n",
       "      <td>0</td>\n",
       "      <td>0</td>\n",
       "      <td>0</td>\n",
       "      <td>0</td>\n",
       "      <td>0</td>\n",
       "      <td>1</td>\n",
       "    </tr>\n",
       "    <tr>\n",
       "      <th>1</th>\n",
       "      <td>2</td>\n",
       "      <td>1</td>\n",
       "      <td>1</td>\n",
       "      <td>0003-MKNFE</td>\n",
       "      <td>Male</td>\n",
       "      <td>0</td>\n",
       "      <td>No</td>\n",
       "      <td>No</td>\n",
       "      <td>9</td>\n",
       "      <td>Yes</td>\n",
       "      <td>Yes</td>\n",
       "      <td>No</td>\n",
       "      <td>No</td>\n",
       "      <td>No</td>\n",
       "      <td>No</td>\n",
       "      <td>No</td>\n",
       "      <td>Yes</td>\n",
       "      <td>No</td>\n",
       "      <td>59.9</td>\n",
       "      <td>542.40</td>\n",
       "      <td>No</td>\n",
       "      <td>Month-to-month</td>\n",
       "      <td>DSL</td>\n",
       "      <td>Mailed check</td>\n",
       "      <td>0</td>\n",
       "      <td>0</td>\n",
       "      <td>0</td>\n",
       "      <td>1</td>\n",
       "      <td>0</td>\n",
       "      <td>0</td>\n",
       "      <td>0</td>\n",
       "      <td>1</td>\n",
       "      <td>0</td>\n",
       "      <td>0</td>\n",
       "      <td>0</td>\n",
       "      <td>0</td>\n",
       "      <td>0</td>\n",
       "      <td>0</td>\n",
       "      <td>0</td>\n",
       "      <td>0</td>\n",
       "      <td>0</td>\n",
       "      <td>0</td>\n",
       "      <td>0</td>\n",
       "      <td>1</td>\n",
       "      <td>0</td>\n",
       "      <td>0</td>\n",
       "      <td>0</td>\n",
       "      <td>0</td>\n",
       "      <td>0</td>\n",
       "      <td>0</td>\n",
       "      <td>1</td>\n",
       "    </tr>\n",
       "    <tr>\n",
       "      <th>2</th>\n",
       "      <td>1</td>\n",
       "      <td>2</td>\n",
       "      <td>1</td>\n",
       "      <td>0004-TLHLJ</td>\n",
       "      <td>Male</td>\n",
       "      <td>0</td>\n",
       "      <td>No</td>\n",
       "      <td>No</td>\n",
       "      <td>4</td>\n",
       "      <td>Yes</td>\n",
       "      <td>No</td>\n",
       "      <td>No</td>\n",
       "      <td>No</td>\n",
       "      <td>Yes</td>\n",
       "      <td>No</td>\n",
       "      <td>No</td>\n",
       "      <td>No</td>\n",
       "      <td>Yes</td>\n",
       "      <td>73.9</td>\n",
       "      <td>280.85</td>\n",
       "      <td>Yes</td>\n",
       "      <td>Month-to-month</td>\n",
       "      <td>Fiber optic</td>\n",
       "      <td>Electronic check</td>\n",
       "      <td>0</td>\n",
       "      <td>0</td>\n",
       "      <td>0</td>\n",
       "      <td>1</td>\n",
       "      <td>1</td>\n",
       "      <td>1</td>\n",
       "      <td>0</td>\n",
       "      <td>0</td>\n",
       "      <td>0</td>\n",
       "      <td>0</td>\n",
       "      <td>0</td>\n",
       "      <td>0</td>\n",
       "      <td>0</td>\n",
       "      <td>1</td>\n",
       "      <td>0</td>\n",
       "      <td>0</td>\n",
       "      <td>0</td>\n",
       "      <td>0</td>\n",
       "      <td>0</td>\n",
       "      <td>0</td>\n",
       "      <td>0</td>\n",
       "      <td>0</td>\n",
       "      <td>1</td>\n",
       "      <td>0</td>\n",
       "      <td>0</td>\n",
       "      <td>1</td>\n",
       "      <td>0</td>\n",
       "    </tr>\n",
       "    <tr>\n",
       "      <th>3</th>\n",
       "      <td>1</td>\n",
       "      <td>2</td>\n",
       "      <td>1</td>\n",
       "      <td>0011-IGKFF</td>\n",
       "      <td>Male</td>\n",
       "      <td>1</td>\n",
       "      <td>Yes</td>\n",
       "      <td>No</td>\n",
       "      <td>13</td>\n",
       "      <td>Yes</td>\n",
       "      <td>No</td>\n",
       "      <td>No</td>\n",
       "      <td>Yes</td>\n",
       "      <td>Yes</td>\n",
       "      <td>No</td>\n",
       "      <td>Yes</td>\n",
       "      <td>Yes</td>\n",
       "      <td>Yes</td>\n",
       "      <td>98.0</td>\n",
       "      <td>1237.85</td>\n",
       "      <td>Yes</td>\n",
       "      <td>Month-to-month</td>\n",
       "      <td>Fiber optic</td>\n",
       "      <td>Electronic check</td>\n",
       "      <td>0</td>\n",
       "      <td>1</td>\n",
       "      <td>0</td>\n",
       "      <td>1</td>\n",
       "      <td>1</td>\n",
       "      <td>1</td>\n",
       "      <td>0</td>\n",
       "      <td>0</td>\n",
       "      <td>0</td>\n",
       "      <td>0</td>\n",
       "      <td>0</td>\n",
       "      <td>1</td>\n",
       "      <td>0</td>\n",
       "      <td>1</td>\n",
       "      <td>0</td>\n",
       "      <td>0</td>\n",
       "      <td>0</td>\n",
       "      <td>1</td>\n",
       "      <td>0</td>\n",
       "      <td>1</td>\n",
       "      <td>0</td>\n",
       "      <td>0</td>\n",
       "      <td>1</td>\n",
       "      <td>0</td>\n",
       "      <td>0</td>\n",
       "      <td>1</td>\n",
       "      <td>0</td>\n",
       "    </tr>\n",
       "    <tr>\n",
       "      <th>4</th>\n",
       "      <td>2</td>\n",
       "      <td>2</td>\n",
       "      <td>1</td>\n",
       "      <td>0013-EXCHZ</td>\n",
       "      <td>Female</td>\n",
       "      <td>1</td>\n",
       "      <td>Yes</td>\n",
       "      <td>No</td>\n",
       "      <td>3</td>\n",
       "      <td>Yes</td>\n",
       "      <td>No</td>\n",
       "      <td>No</td>\n",
       "      <td>No</td>\n",
       "      <td>No</td>\n",
       "      <td>Yes</td>\n",
       "      <td>Yes</td>\n",
       "      <td>No</td>\n",
       "      <td>Yes</td>\n",
       "      <td>83.9</td>\n",
       "      <td>267.40</td>\n",
       "      <td>Yes</td>\n",
       "      <td>Month-to-month</td>\n",
       "      <td>Fiber optic</td>\n",
       "      <td>Mailed check</td>\n",
       "      <td>1</td>\n",
       "      <td>1</td>\n",
       "      <td>0</td>\n",
       "      <td>1</td>\n",
       "      <td>1</td>\n",
       "      <td>1</td>\n",
       "      <td>0</td>\n",
       "      <td>0</td>\n",
       "      <td>0</td>\n",
       "      <td>0</td>\n",
       "      <td>0</td>\n",
       "      <td>0</td>\n",
       "      <td>0</td>\n",
       "      <td>0</td>\n",
       "      <td>0</td>\n",
       "      <td>1</td>\n",
       "      <td>0</td>\n",
       "      <td>1</td>\n",
       "      <td>0</td>\n",
       "      <td>0</td>\n",
       "      <td>0</td>\n",
       "      <td>0</td>\n",
       "      <td>1</td>\n",
       "      <td>0</td>\n",
       "      <td>0</td>\n",
       "      <td>0</td>\n",
       "      <td>1</td>\n",
       "    </tr>\n",
       "  </tbody>\n",
       "</table>\n",
       "</div>"
      ],
      "text/plain": [
       "   payment_type_id  internet_service_type_id  contract_type_id customer_id  \\\n",
       "0                2                         1                 2  0002-ORFBO   \n",
       "1                2                         1                 1  0003-MKNFE   \n",
       "2                1                         2                 1  0004-TLHLJ   \n",
       "3                1                         2                 1  0011-IGKFF   \n",
       "4                2                         2                 1  0013-EXCHZ   \n",
       "\n",
       "   gender  senior_citizen partner dependents  tenure phone_service  \\\n",
       "0  Female               0     Yes        Yes       9           Yes   \n",
       "1    Male               0      No         No       9           Yes   \n",
       "2    Male               0      No         No       4           Yes   \n",
       "3    Male               1     Yes         No      13           Yes   \n",
       "4  Female               1     Yes         No       3           Yes   \n",
       "\n",
       "  multiple_lines online_security online_backup device_protection tech_support  \\\n",
       "0             No              No           Yes                No          Yes   \n",
       "1            Yes              No            No                No           No   \n",
       "2             No              No            No               Yes           No   \n",
       "3             No              No           Yes               Yes           No   \n",
       "4             No              No            No                No          Yes   \n",
       "\n",
       "  streaming_tv streaming_movies paperless_billing  monthly_charges  \\\n",
       "0          Yes               No               Yes             65.6   \n",
       "1           No              Yes                No             59.9   \n",
       "2           No               No               Yes             73.9   \n",
       "3          Yes              Yes               Yes             98.0   \n",
       "4          Yes               No               Yes             83.9   \n",
       "\n",
       "   total_charges churn   contract_type internet_service_type  \\\n",
       "0         593.30    No        One year                   DSL   \n",
       "1         542.40    No  Month-to-month                   DSL   \n",
       "2         280.85   Yes  Month-to-month           Fiber optic   \n",
       "3        1237.85   Yes  Month-to-month           Fiber optic   \n",
       "4         267.40   Yes  Month-to-month           Fiber optic   \n",
       "\n",
       "       payment_type  gender_encoded  partner_encoded  dependents_encoded  \\\n",
       "0      Mailed check               1                1                   1   \n",
       "1      Mailed check               0                0                   0   \n",
       "2  Electronic check               0                0                   0   \n",
       "3  Electronic check               0                1                   0   \n",
       "4      Mailed check               1                1                   0   \n",
       "\n",
       "   phone_service_encoded  paperless_billing_encoded  churn_encoded  \\\n",
       "0                      1                          1              0   \n",
       "1                      1                          0              0   \n",
       "2                      1                          1              1   \n",
       "3                      1                          1              1   \n",
       "4                      1                          1              1   \n",
       "\n",
       "   multiple_lines_No phone service  multiple_lines_Yes  \\\n",
       "0                                0                   0   \n",
       "1                                0                   1   \n",
       "2                                0                   0   \n",
       "3                                0                   0   \n",
       "4                                0                   0   \n",
       "\n",
       "   online_security_No internet service  online_security_Yes  \\\n",
       "0                                    0                    0   \n",
       "1                                    0                    0   \n",
       "2                                    0                    0   \n",
       "3                                    0                    0   \n",
       "4                                    0                    0   \n",
       "\n",
       "   online_backup_No internet service  online_backup_Yes  \\\n",
       "0                                  0                  1   \n",
       "1                                  0                  0   \n",
       "2                                  0                  0   \n",
       "3                                  0                  1   \n",
       "4                                  0                  0   \n",
       "\n",
       "   device_protection_No internet service  device_protection_Yes  \\\n",
       "0                                      0                      0   \n",
       "1                                      0                      0   \n",
       "2                                      0                      1   \n",
       "3                                      0                      1   \n",
       "4                                      0                      0   \n",
       "\n",
       "   tech_support_No internet service  tech_support_Yes  \\\n",
       "0                                 0                 1   \n",
       "1                                 0                 0   \n",
       "2                                 0                 0   \n",
       "3                                 0                 0   \n",
       "4                                 0                 1   \n",
       "\n",
       "   streaming_tv_No internet service  streaming_tv_Yes  \\\n",
       "0                                 0                 1   \n",
       "1                                 0                 0   \n",
       "2                                 0                 0   \n",
       "3                                 0                 1   \n",
       "4                                 0                 1   \n",
       "\n",
       "   streaming_movies_No internet service  streaming_movies_Yes  \\\n",
       "0                                     0                     0   \n",
       "1                                     0                     1   \n",
       "2                                     0                     0   \n",
       "3                                     0                     1   \n",
       "4                                     0                     0   \n",
       "\n",
       "   contract_type_One year  contract_type_Two year  \\\n",
       "0                       1                       0   \n",
       "1                       0                       0   \n",
       "2                       0                       0   \n",
       "3                       0                       0   \n",
       "4                       0                       0   \n",
       "\n",
       "   internet_service_type_Fiber optic  internet_service_type_None  \\\n",
       "0                                  0                           0   \n",
       "1                                  0                           0   \n",
       "2                                  1                           0   \n",
       "3                                  1                           0   \n",
       "4                                  1                           0   \n",
       "\n",
       "   payment_type_Credit card (automatic)  payment_type_Electronic check  \\\n",
       "0                                     0                              0   \n",
       "1                                     0                              0   \n",
       "2                                     0                              1   \n",
       "3                                     0                              1   \n",
       "4                                     0                              0   \n",
       "\n",
       "   payment_type_Mailed check  \n",
       "0                          1  \n",
       "1                          1  \n",
       "2                          0  \n",
       "3                          0  \n",
       "4                          1  "
      ]
     },
     "execution_count": 105,
     "metadata": {},
     "output_type": "execute_result"
    }
   ],
   "source": [
    "df = prepare.prep_telco_data(df)\n",
    "pd.set_option('display.max_columns', None)\n",
    "df.head()"
   ]
  },
  {
   "cell_type": "code",
   "execution_count": 7,
   "id": "328a7d45",
   "metadata": {},
   "outputs": [],
   "source": [
    "from prepare import split"
   ]
  },
  {
   "cell_type": "code",
   "execution_count": 106,
   "id": "201c2e49",
   "metadata": {},
   "outputs": [
    {
     "data": {
      "text/plain": [
       "((3937, 51), (1688, 51), (1407, 51))"
      ]
     },
     "execution_count": 106,
     "metadata": {},
     "output_type": "execute_result"
    }
   ],
   "source": [
    "train, validate, test = prepare.split(df, stratify_by= 'churn')\n",
    "\n",
    "train.shape, validate.shape, test.shape\n"
   ]
  },
  {
   "cell_type": "code",
   "execution_count": 9,
   "id": "061cc42f",
   "metadata": {
    "scrolled": true
   },
   "outputs": [
    {
     "name": "stdout",
     "output_type": "stream",
     "text": [
      "<class 'pandas.core.frame.DataFrame'>\n",
      "Int64Index: 7032 entries, 0 to 7042\n",
      "Data columns (total 51 columns):\n",
      " #   Column                                 Non-Null Count  Dtype  \n",
      "---  ------                                 --------------  -----  \n",
      " 0   payment_type_id                        7032 non-null   int64  \n",
      " 1   internet_service_type_id               7032 non-null   int64  \n",
      " 2   contract_type_id                       7032 non-null   int64  \n",
      " 3   customer_id                            7032 non-null   object \n",
      " 4   gender                                 7032 non-null   object \n",
      " 5   senior_citizen                         7032 non-null   int64  \n",
      " 6   partner                                7032 non-null   object \n",
      " 7   dependents                             7032 non-null   object \n",
      " 8   tenure                                 7032 non-null   int64  \n",
      " 9   phone_service                          7032 non-null   object \n",
      " 10  multiple_lines                         7032 non-null   object \n",
      " 11  online_security                        7032 non-null   object \n",
      " 12  online_backup                          7032 non-null   object \n",
      " 13  device_protection                      7032 non-null   object \n",
      " 14  tech_support                           7032 non-null   object \n",
      " 15  streaming_tv                           7032 non-null   object \n",
      " 16  streaming_movies                       7032 non-null   object \n",
      " 17  paperless_billing                      7032 non-null   object \n",
      " 18  monthly_charges                        7032 non-null   float64\n",
      " 19  total_charges                          7032 non-null   float64\n",
      " 20  churn                                  7032 non-null   object \n",
      " 21  contract_type                          7032 non-null   object \n",
      " 22  internet_service_type                  7032 non-null   object \n",
      " 23  payment_type                           7032 non-null   object \n",
      " 24  gender_encoded                         7032 non-null   int64  \n",
      " 25  partner_encoded                        7032 non-null   int64  \n",
      " 26  dependents_encoded                     7032 non-null   int64  \n",
      " 27  phone_service_encoded                  7032 non-null   int64  \n",
      " 28  paperless_billing_encoded              7032 non-null   int64  \n",
      " 29  churn_encoded                          7032 non-null   int64  \n",
      " 30  multiple_lines_No phone service        7032 non-null   uint8  \n",
      " 31  multiple_lines_Yes                     7032 non-null   uint8  \n",
      " 32  online_security_No internet service    7032 non-null   uint8  \n",
      " 33  online_security_Yes                    7032 non-null   uint8  \n",
      " 34  online_backup_No internet service      7032 non-null   uint8  \n",
      " 35  online_backup_Yes                      7032 non-null   uint8  \n",
      " 36  device_protection_No internet service  7032 non-null   uint8  \n",
      " 37  device_protection_Yes                  7032 non-null   uint8  \n",
      " 38  tech_support_No internet service       7032 non-null   uint8  \n",
      " 39  tech_support_Yes                       7032 non-null   uint8  \n",
      " 40  streaming_tv_No internet service       7032 non-null   uint8  \n",
      " 41  streaming_tv_Yes                       7032 non-null   uint8  \n",
      " 42  streaming_movies_No internet service   7032 non-null   uint8  \n",
      " 43  streaming_movies_Yes                   7032 non-null   uint8  \n",
      " 44  contract_type_One year                 7032 non-null   uint8  \n",
      " 45  contract_type_Two year                 7032 non-null   uint8  \n",
      " 46  internet_service_type_Fiber optic      7032 non-null   uint8  \n",
      " 47  internet_service_type_None             7032 non-null   uint8  \n",
      " 48  payment_type_Credit card (automatic)   7032 non-null   uint8  \n",
      " 49  payment_type_Electronic check          7032 non-null   uint8  \n",
      " 50  payment_type_Mailed check              7032 non-null   uint8  \n",
      "dtypes: float64(2), int64(11), object(17), uint8(21)\n",
      "memory usage: 1.8+ MB\n"
     ]
    }
   ],
   "source": [
    "df.info()"
   ]
  },
  {
   "cell_type": "code",
   "execution_count": 10,
   "id": "2e9eebec",
   "metadata": {
    "scrolled": true
   },
   "outputs": [],
   "source": [
    " df = df.rename(columns= {'payment_type_Electronic check':'payment_type_Electronic_check'})"
   ]
  },
  {
   "cell_type": "code",
   "execution_count": 11,
   "id": "b953b0dc",
   "metadata": {},
   "outputs": [
    {
     "data": {
      "text/html": [
       "<div>\n",
       "<style scoped>\n",
       "    .dataframe tbody tr th:only-of-type {\n",
       "        vertical-align: middle;\n",
       "    }\n",
       "\n",
       "    .dataframe tbody tr th {\n",
       "        vertical-align: top;\n",
       "    }\n",
       "\n",
       "    .dataframe thead th {\n",
       "        text-align: right;\n",
       "    }\n",
       "</style>\n",
       "<table border=\"1\" class=\"dataframe\">\n",
       "  <thead>\n",
       "    <tr style=\"text-align: right;\">\n",
       "      <th></th>\n",
       "      <th>payment_type_id</th>\n",
       "      <th>internet_service_type_id</th>\n",
       "      <th>contract_type_id</th>\n",
       "      <th>customer_id</th>\n",
       "      <th>gender</th>\n",
       "      <th>senior_citizen</th>\n",
       "      <th>partner</th>\n",
       "      <th>dependents</th>\n",
       "      <th>tenure</th>\n",
       "      <th>phone_service</th>\n",
       "      <th>multiple_lines</th>\n",
       "      <th>online_security</th>\n",
       "      <th>online_backup</th>\n",
       "      <th>device_protection</th>\n",
       "      <th>tech_support</th>\n",
       "      <th>streaming_tv</th>\n",
       "      <th>streaming_movies</th>\n",
       "      <th>paperless_billing</th>\n",
       "      <th>monthly_charges</th>\n",
       "      <th>total_charges</th>\n",
       "      <th>churn</th>\n",
       "      <th>contract_type</th>\n",
       "      <th>internet_service_type</th>\n",
       "      <th>payment_type</th>\n",
       "      <th>gender_encoded</th>\n",
       "      <th>partner_encoded</th>\n",
       "      <th>dependents_encoded</th>\n",
       "      <th>phone_service_encoded</th>\n",
       "      <th>paperless_billing_encoded</th>\n",
       "      <th>churn_encoded</th>\n",
       "      <th>multiple_lines_No phone service</th>\n",
       "      <th>multiple_lines_Yes</th>\n",
       "      <th>online_security_No internet service</th>\n",
       "      <th>online_security_Yes</th>\n",
       "      <th>online_backup_No internet service</th>\n",
       "      <th>online_backup_Yes</th>\n",
       "      <th>device_protection_No internet service</th>\n",
       "      <th>device_protection_Yes</th>\n",
       "      <th>tech_support_No internet service</th>\n",
       "      <th>tech_support_Yes</th>\n",
       "      <th>streaming_tv_No internet service</th>\n",
       "      <th>streaming_tv_Yes</th>\n",
       "      <th>streaming_movies_No internet service</th>\n",
       "      <th>streaming_movies_Yes</th>\n",
       "      <th>contract_type_One year</th>\n",
       "      <th>contract_type_Two year</th>\n",
       "      <th>internet_service_type_Fiber optic</th>\n",
       "      <th>internet_service_type_None</th>\n",
       "      <th>payment_type_Credit card (automatic)</th>\n",
       "      <th>payment_type_Electronic_check</th>\n",
       "      <th>payment_type_Mailed check</th>\n",
       "    </tr>\n",
       "  </thead>\n",
       "  <tbody>\n",
       "    <tr>\n",
       "      <th>0</th>\n",
       "      <td>2</td>\n",
       "      <td>1</td>\n",
       "      <td>2</td>\n",
       "      <td>0002-ORFBO</td>\n",
       "      <td>Female</td>\n",
       "      <td>0</td>\n",
       "      <td>Yes</td>\n",
       "      <td>Yes</td>\n",
       "      <td>9</td>\n",
       "      <td>Yes</td>\n",
       "      <td>No</td>\n",
       "      <td>No</td>\n",
       "      <td>Yes</td>\n",
       "      <td>No</td>\n",
       "      <td>Yes</td>\n",
       "      <td>Yes</td>\n",
       "      <td>No</td>\n",
       "      <td>Yes</td>\n",
       "      <td>65.60</td>\n",
       "      <td>593.30</td>\n",
       "      <td>No</td>\n",
       "      <td>One year</td>\n",
       "      <td>DSL</td>\n",
       "      <td>Mailed check</td>\n",
       "      <td>1</td>\n",
       "      <td>1</td>\n",
       "      <td>1</td>\n",
       "      <td>1</td>\n",
       "      <td>1</td>\n",
       "      <td>0</td>\n",
       "      <td>0</td>\n",
       "      <td>0</td>\n",
       "      <td>0</td>\n",
       "      <td>0</td>\n",
       "      <td>0</td>\n",
       "      <td>1</td>\n",
       "      <td>0</td>\n",
       "      <td>0</td>\n",
       "      <td>0</td>\n",
       "      <td>1</td>\n",
       "      <td>0</td>\n",
       "      <td>1</td>\n",
       "      <td>0</td>\n",
       "      <td>0</td>\n",
       "      <td>1</td>\n",
       "      <td>0</td>\n",
       "      <td>0</td>\n",
       "      <td>0</td>\n",
       "      <td>0</td>\n",
       "      <td>0</td>\n",
       "      <td>1</td>\n",
       "    </tr>\n",
       "    <tr>\n",
       "      <th>1</th>\n",
       "      <td>2</td>\n",
       "      <td>1</td>\n",
       "      <td>1</td>\n",
       "      <td>0003-MKNFE</td>\n",
       "      <td>Male</td>\n",
       "      <td>0</td>\n",
       "      <td>No</td>\n",
       "      <td>No</td>\n",
       "      <td>9</td>\n",
       "      <td>Yes</td>\n",
       "      <td>Yes</td>\n",
       "      <td>No</td>\n",
       "      <td>No</td>\n",
       "      <td>No</td>\n",
       "      <td>No</td>\n",
       "      <td>No</td>\n",
       "      <td>Yes</td>\n",
       "      <td>No</td>\n",
       "      <td>59.90</td>\n",
       "      <td>542.40</td>\n",
       "      <td>No</td>\n",
       "      <td>Month-to-month</td>\n",
       "      <td>DSL</td>\n",
       "      <td>Mailed check</td>\n",
       "      <td>0</td>\n",
       "      <td>0</td>\n",
       "      <td>0</td>\n",
       "      <td>1</td>\n",
       "      <td>0</td>\n",
       "      <td>0</td>\n",
       "      <td>0</td>\n",
       "      <td>1</td>\n",
       "      <td>0</td>\n",
       "      <td>0</td>\n",
       "      <td>0</td>\n",
       "      <td>0</td>\n",
       "      <td>0</td>\n",
       "      <td>0</td>\n",
       "      <td>0</td>\n",
       "      <td>0</td>\n",
       "      <td>0</td>\n",
       "      <td>0</td>\n",
       "      <td>0</td>\n",
       "      <td>1</td>\n",
       "      <td>0</td>\n",
       "      <td>0</td>\n",
       "      <td>0</td>\n",
       "      <td>0</td>\n",
       "      <td>0</td>\n",
       "      <td>0</td>\n",
       "      <td>1</td>\n",
       "    </tr>\n",
       "    <tr>\n",
       "      <th>2</th>\n",
       "      <td>1</td>\n",
       "      <td>2</td>\n",
       "      <td>1</td>\n",
       "      <td>0004-TLHLJ</td>\n",
       "      <td>Male</td>\n",
       "      <td>0</td>\n",
       "      <td>No</td>\n",
       "      <td>No</td>\n",
       "      <td>4</td>\n",
       "      <td>Yes</td>\n",
       "      <td>No</td>\n",
       "      <td>No</td>\n",
       "      <td>No</td>\n",
       "      <td>Yes</td>\n",
       "      <td>No</td>\n",
       "      <td>No</td>\n",
       "      <td>No</td>\n",
       "      <td>Yes</td>\n",
       "      <td>73.90</td>\n",
       "      <td>280.85</td>\n",
       "      <td>Yes</td>\n",
       "      <td>Month-to-month</td>\n",
       "      <td>Fiber optic</td>\n",
       "      <td>Electronic check</td>\n",
       "      <td>0</td>\n",
       "      <td>0</td>\n",
       "      <td>0</td>\n",
       "      <td>1</td>\n",
       "      <td>1</td>\n",
       "      <td>1</td>\n",
       "      <td>0</td>\n",
       "      <td>0</td>\n",
       "      <td>0</td>\n",
       "      <td>0</td>\n",
       "      <td>0</td>\n",
       "      <td>0</td>\n",
       "      <td>0</td>\n",
       "      <td>1</td>\n",
       "      <td>0</td>\n",
       "      <td>0</td>\n",
       "      <td>0</td>\n",
       "      <td>0</td>\n",
       "      <td>0</td>\n",
       "      <td>0</td>\n",
       "      <td>0</td>\n",
       "      <td>0</td>\n",
       "      <td>1</td>\n",
       "      <td>0</td>\n",
       "      <td>0</td>\n",
       "      <td>1</td>\n",
       "      <td>0</td>\n",
       "    </tr>\n",
       "    <tr>\n",
       "      <th>3</th>\n",
       "      <td>1</td>\n",
       "      <td>2</td>\n",
       "      <td>1</td>\n",
       "      <td>0011-IGKFF</td>\n",
       "      <td>Male</td>\n",
       "      <td>1</td>\n",
       "      <td>Yes</td>\n",
       "      <td>No</td>\n",
       "      <td>13</td>\n",
       "      <td>Yes</td>\n",
       "      <td>No</td>\n",
       "      <td>No</td>\n",
       "      <td>Yes</td>\n",
       "      <td>Yes</td>\n",
       "      <td>No</td>\n",
       "      <td>Yes</td>\n",
       "      <td>Yes</td>\n",
       "      <td>Yes</td>\n",
       "      <td>98.00</td>\n",
       "      <td>1237.85</td>\n",
       "      <td>Yes</td>\n",
       "      <td>Month-to-month</td>\n",
       "      <td>Fiber optic</td>\n",
       "      <td>Electronic check</td>\n",
       "      <td>0</td>\n",
       "      <td>1</td>\n",
       "      <td>0</td>\n",
       "      <td>1</td>\n",
       "      <td>1</td>\n",
       "      <td>1</td>\n",
       "      <td>0</td>\n",
       "      <td>0</td>\n",
       "      <td>0</td>\n",
       "      <td>0</td>\n",
       "      <td>0</td>\n",
       "      <td>1</td>\n",
       "      <td>0</td>\n",
       "      <td>1</td>\n",
       "      <td>0</td>\n",
       "      <td>0</td>\n",
       "      <td>0</td>\n",
       "      <td>1</td>\n",
       "      <td>0</td>\n",
       "      <td>1</td>\n",
       "      <td>0</td>\n",
       "      <td>0</td>\n",
       "      <td>1</td>\n",
       "      <td>0</td>\n",
       "      <td>0</td>\n",
       "      <td>1</td>\n",
       "      <td>0</td>\n",
       "    </tr>\n",
       "    <tr>\n",
       "      <th>4</th>\n",
       "      <td>2</td>\n",
       "      <td>2</td>\n",
       "      <td>1</td>\n",
       "      <td>0013-EXCHZ</td>\n",
       "      <td>Female</td>\n",
       "      <td>1</td>\n",
       "      <td>Yes</td>\n",
       "      <td>No</td>\n",
       "      <td>3</td>\n",
       "      <td>Yes</td>\n",
       "      <td>No</td>\n",
       "      <td>No</td>\n",
       "      <td>No</td>\n",
       "      <td>No</td>\n",
       "      <td>Yes</td>\n",
       "      <td>Yes</td>\n",
       "      <td>No</td>\n",
       "      <td>Yes</td>\n",
       "      <td>83.90</td>\n",
       "      <td>267.40</td>\n",
       "      <td>Yes</td>\n",
       "      <td>Month-to-month</td>\n",
       "      <td>Fiber optic</td>\n",
       "      <td>Mailed check</td>\n",
       "      <td>1</td>\n",
       "      <td>1</td>\n",
       "      <td>0</td>\n",
       "      <td>1</td>\n",
       "      <td>1</td>\n",
       "      <td>1</td>\n",
       "      <td>0</td>\n",
       "      <td>0</td>\n",
       "      <td>0</td>\n",
       "      <td>0</td>\n",
       "      <td>0</td>\n",
       "      <td>0</td>\n",
       "      <td>0</td>\n",
       "      <td>0</td>\n",
       "      <td>0</td>\n",
       "      <td>1</td>\n",
       "      <td>0</td>\n",
       "      <td>1</td>\n",
       "      <td>0</td>\n",
       "      <td>0</td>\n",
       "      <td>0</td>\n",
       "      <td>0</td>\n",
       "      <td>1</td>\n",
       "      <td>0</td>\n",
       "      <td>0</td>\n",
       "      <td>0</td>\n",
       "      <td>1</td>\n",
       "    </tr>\n",
       "    <tr>\n",
       "      <th>...</th>\n",
       "      <td>...</td>\n",
       "      <td>...</td>\n",
       "      <td>...</td>\n",
       "      <td>...</td>\n",
       "      <td>...</td>\n",
       "      <td>...</td>\n",
       "      <td>...</td>\n",
       "      <td>...</td>\n",
       "      <td>...</td>\n",
       "      <td>...</td>\n",
       "      <td>...</td>\n",
       "      <td>...</td>\n",
       "      <td>...</td>\n",
       "      <td>...</td>\n",
       "      <td>...</td>\n",
       "      <td>...</td>\n",
       "      <td>...</td>\n",
       "      <td>...</td>\n",
       "      <td>...</td>\n",
       "      <td>...</td>\n",
       "      <td>...</td>\n",
       "      <td>...</td>\n",
       "      <td>...</td>\n",
       "      <td>...</td>\n",
       "      <td>...</td>\n",
       "      <td>...</td>\n",
       "      <td>...</td>\n",
       "      <td>...</td>\n",
       "      <td>...</td>\n",
       "      <td>...</td>\n",
       "      <td>...</td>\n",
       "      <td>...</td>\n",
       "      <td>...</td>\n",
       "      <td>...</td>\n",
       "      <td>...</td>\n",
       "      <td>...</td>\n",
       "      <td>...</td>\n",
       "      <td>...</td>\n",
       "      <td>...</td>\n",
       "      <td>...</td>\n",
       "      <td>...</td>\n",
       "      <td>...</td>\n",
       "      <td>...</td>\n",
       "      <td>...</td>\n",
       "      <td>...</td>\n",
       "      <td>...</td>\n",
       "      <td>...</td>\n",
       "      <td>...</td>\n",
       "      <td>...</td>\n",
       "      <td>...</td>\n",
       "      <td>...</td>\n",
       "    </tr>\n",
       "    <tr>\n",
       "      <th>7038</th>\n",
       "      <td>2</td>\n",
       "      <td>1</td>\n",
       "      <td>2</td>\n",
       "      <td>9987-LUTYD</td>\n",
       "      <td>Female</td>\n",
       "      <td>0</td>\n",
       "      <td>No</td>\n",
       "      <td>No</td>\n",
       "      <td>13</td>\n",
       "      <td>Yes</td>\n",
       "      <td>No</td>\n",
       "      <td>Yes</td>\n",
       "      <td>No</td>\n",
       "      <td>No</td>\n",
       "      <td>Yes</td>\n",
       "      <td>No</td>\n",
       "      <td>No</td>\n",
       "      <td>No</td>\n",
       "      <td>55.15</td>\n",
       "      <td>742.90</td>\n",
       "      <td>No</td>\n",
       "      <td>One year</td>\n",
       "      <td>DSL</td>\n",
       "      <td>Mailed check</td>\n",
       "      <td>1</td>\n",
       "      <td>0</td>\n",
       "      <td>0</td>\n",
       "      <td>1</td>\n",
       "      <td>0</td>\n",
       "      <td>0</td>\n",
       "      <td>0</td>\n",
       "      <td>0</td>\n",
       "      <td>0</td>\n",
       "      <td>1</td>\n",
       "      <td>0</td>\n",
       "      <td>0</td>\n",
       "      <td>0</td>\n",
       "      <td>0</td>\n",
       "      <td>0</td>\n",
       "      <td>1</td>\n",
       "      <td>0</td>\n",
       "      <td>0</td>\n",
       "      <td>0</td>\n",
       "      <td>0</td>\n",
       "      <td>1</td>\n",
       "      <td>0</td>\n",
       "      <td>0</td>\n",
       "      <td>0</td>\n",
       "      <td>0</td>\n",
       "      <td>0</td>\n",
       "      <td>1</td>\n",
       "    </tr>\n",
       "    <tr>\n",
       "      <th>7039</th>\n",
       "      <td>1</td>\n",
       "      <td>2</td>\n",
       "      <td>1</td>\n",
       "      <td>9992-RRAMN</td>\n",
       "      <td>Male</td>\n",
       "      <td>0</td>\n",
       "      <td>Yes</td>\n",
       "      <td>No</td>\n",
       "      <td>22</td>\n",
       "      <td>Yes</td>\n",
       "      <td>Yes</td>\n",
       "      <td>No</td>\n",
       "      <td>No</td>\n",
       "      <td>No</td>\n",
       "      <td>No</td>\n",
       "      <td>No</td>\n",
       "      <td>Yes</td>\n",
       "      <td>Yes</td>\n",
       "      <td>85.10</td>\n",
       "      <td>1873.70</td>\n",
       "      <td>Yes</td>\n",
       "      <td>Month-to-month</td>\n",
       "      <td>Fiber optic</td>\n",
       "      <td>Electronic check</td>\n",
       "      <td>0</td>\n",
       "      <td>1</td>\n",
       "      <td>0</td>\n",
       "      <td>1</td>\n",
       "      <td>1</td>\n",
       "      <td>1</td>\n",
       "      <td>0</td>\n",
       "      <td>1</td>\n",
       "      <td>0</td>\n",
       "      <td>0</td>\n",
       "      <td>0</td>\n",
       "      <td>0</td>\n",
       "      <td>0</td>\n",
       "      <td>0</td>\n",
       "      <td>0</td>\n",
       "      <td>0</td>\n",
       "      <td>0</td>\n",
       "      <td>0</td>\n",
       "      <td>0</td>\n",
       "      <td>1</td>\n",
       "      <td>0</td>\n",
       "      <td>0</td>\n",
       "      <td>1</td>\n",
       "      <td>0</td>\n",
       "      <td>0</td>\n",
       "      <td>1</td>\n",
       "      <td>0</td>\n",
       "    </tr>\n",
       "    <tr>\n",
       "      <th>7040</th>\n",
       "      <td>2</td>\n",
       "      <td>1</td>\n",
       "      <td>1</td>\n",
       "      <td>9992-UJOEL</td>\n",
       "      <td>Male</td>\n",
       "      <td>0</td>\n",
       "      <td>No</td>\n",
       "      <td>No</td>\n",
       "      <td>2</td>\n",
       "      <td>Yes</td>\n",
       "      <td>No</td>\n",
       "      <td>No</td>\n",
       "      <td>Yes</td>\n",
       "      <td>No</td>\n",
       "      <td>No</td>\n",
       "      <td>No</td>\n",
       "      <td>No</td>\n",
       "      <td>Yes</td>\n",
       "      <td>50.30</td>\n",
       "      <td>92.75</td>\n",
       "      <td>No</td>\n",
       "      <td>Month-to-month</td>\n",
       "      <td>DSL</td>\n",
       "      <td>Mailed check</td>\n",
       "      <td>0</td>\n",
       "      <td>0</td>\n",
       "      <td>0</td>\n",
       "      <td>1</td>\n",
       "      <td>1</td>\n",
       "      <td>0</td>\n",
       "      <td>0</td>\n",
       "      <td>0</td>\n",
       "      <td>0</td>\n",
       "      <td>0</td>\n",
       "      <td>0</td>\n",
       "      <td>1</td>\n",
       "      <td>0</td>\n",
       "      <td>0</td>\n",
       "      <td>0</td>\n",
       "      <td>0</td>\n",
       "      <td>0</td>\n",
       "      <td>0</td>\n",
       "      <td>0</td>\n",
       "      <td>0</td>\n",
       "      <td>0</td>\n",
       "      <td>0</td>\n",
       "      <td>0</td>\n",
       "      <td>0</td>\n",
       "      <td>0</td>\n",
       "      <td>0</td>\n",
       "      <td>1</td>\n",
       "    </tr>\n",
       "    <tr>\n",
       "      <th>7041</th>\n",
       "      <td>2</td>\n",
       "      <td>1</td>\n",
       "      <td>3</td>\n",
       "      <td>9993-LHIEB</td>\n",
       "      <td>Male</td>\n",
       "      <td>0</td>\n",
       "      <td>Yes</td>\n",
       "      <td>Yes</td>\n",
       "      <td>67</td>\n",
       "      <td>Yes</td>\n",
       "      <td>No</td>\n",
       "      <td>Yes</td>\n",
       "      <td>No</td>\n",
       "      <td>Yes</td>\n",
       "      <td>Yes</td>\n",
       "      <td>No</td>\n",
       "      <td>Yes</td>\n",
       "      <td>No</td>\n",
       "      <td>67.85</td>\n",
       "      <td>4627.65</td>\n",
       "      <td>No</td>\n",
       "      <td>Two year</td>\n",
       "      <td>DSL</td>\n",
       "      <td>Mailed check</td>\n",
       "      <td>0</td>\n",
       "      <td>1</td>\n",
       "      <td>1</td>\n",
       "      <td>1</td>\n",
       "      <td>0</td>\n",
       "      <td>0</td>\n",
       "      <td>0</td>\n",
       "      <td>0</td>\n",
       "      <td>0</td>\n",
       "      <td>1</td>\n",
       "      <td>0</td>\n",
       "      <td>0</td>\n",
       "      <td>0</td>\n",
       "      <td>1</td>\n",
       "      <td>0</td>\n",
       "      <td>1</td>\n",
       "      <td>0</td>\n",
       "      <td>0</td>\n",
       "      <td>0</td>\n",
       "      <td>1</td>\n",
       "      <td>0</td>\n",
       "      <td>1</td>\n",
       "      <td>0</td>\n",
       "      <td>0</td>\n",
       "      <td>0</td>\n",
       "      <td>0</td>\n",
       "      <td>1</td>\n",
       "    </tr>\n",
       "    <tr>\n",
       "      <th>7042</th>\n",
       "      <td>1</td>\n",
       "      <td>1</td>\n",
       "      <td>3</td>\n",
       "      <td>9995-HOTOH</td>\n",
       "      <td>Male</td>\n",
       "      <td>0</td>\n",
       "      <td>Yes</td>\n",
       "      <td>Yes</td>\n",
       "      <td>63</td>\n",
       "      <td>No</td>\n",
       "      <td>No phone service</td>\n",
       "      <td>Yes</td>\n",
       "      <td>Yes</td>\n",
       "      <td>Yes</td>\n",
       "      <td>No</td>\n",
       "      <td>Yes</td>\n",
       "      <td>Yes</td>\n",
       "      <td>No</td>\n",
       "      <td>59.00</td>\n",
       "      <td>3707.60</td>\n",
       "      <td>No</td>\n",
       "      <td>Two year</td>\n",
       "      <td>DSL</td>\n",
       "      <td>Electronic check</td>\n",
       "      <td>0</td>\n",
       "      <td>1</td>\n",
       "      <td>1</td>\n",
       "      <td>0</td>\n",
       "      <td>0</td>\n",
       "      <td>0</td>\n",
       "      <td>1</td>\n",
       "      <td>0</td>\n",
       "      <td>0</td>\n",
       "      <td>1</td>\n",
       "      <td>0</td>\n",
       "      <td>1</td>\n",
       "      <td>0</td>\n",
       "      <td>1</td>\n",
       "      <td>0</td>\n",
       "      <td>0</td>\n",
       "      <td>0</td>\n",
       "      <td>1</td>\n",
       "      <td>0</td>\n",
       "      <td>1</td>\n",
       "      <td>0</td>\n",
       "      <td>1</td>\n",
       "      <td>0</td>\n",
       "      <td>0</td>\n",
       "      <td>0</td>\n",
       "      <td>1</td>\n",
       "      <td>0</td>\n",
       "    </tr>\n",
       "  </tbody>\n",
       "</table>\n",
       "<p>7032 rows × 51 columns</p>\n",
       "</div>"
      ],
      "text/plain": [
       "      payment_type_id  internet_service_type_id  contract_type_id customer_id  \\\n",
       "0                   2                         1                 2  0002-ORFBO   \n",
       "1                   2                         1                 1  0003-MKNFE   \n",
       "2                   1                         2                 1  0004-TLHLJ   \n",
       "3                   1                         2                 1  0011-IGKFF   \n",
       "4                   2                         2                 1  0013-EXCHZ   \n",
       "...               ...                       ...               ...         ...   \n",
       "7038                2                         1                 2  9987-LUTYD   \n",
       "7039                1                         2                 1  9992-RRAMN   \n",
       "7040                2                         1                 1  9992-UJOEL   \n",
       "7041                2                         1                 3  9993-LHIEB   \n",
       "7042                1                         1                 3  9995-HOTOH   \n",
       "\n",
       "      gender  senior_citizen partner dependents  tenure phone_service  \\\n",
       "0     Female               0     Yes        Yes       9           Yes   \n",
       "1       Male               0      No         No       9           Yes   \n",
       "2       Male               0      No         No       4           Yes   \n",
       "3       Male               1     Yes         No      13           Yes   \n",
       "4     Female               1     Yes         No       3           Yes   \n",
       "...      ...             ...     ...        ...     ...           ...   \n",
       "7038  Female               0      No         No      13           Yes   \n",
       "7039    Male               0     Yes         No      22           Yes   \n",
       "7040    Male               0      No         No       2           Yes   \n",
       "7041    Male               0     Yes        Yes      67           Yes   \n",
       "7042    Male               0     Yes        Yes      63            No   \n",
       "\n",
       "        multiple_lines online_security online_backup device_protection  \\\n",
       "0                   No              No           Yes                No   \n",
       "1                  Yes              No            No                No   \n",
       "2                   No              No            No               Yes   \n",
       "3                   No              No           Yes               Yes   \n",
       "4                   No              No            No                No   \n",
       "...                ...             ...           ...               ...   \n",
       "7038                No             Yes            No                No   \n",
       "7039               Yes              No            No                No   \n",
       "7040                No              No           Yes                No   \n",
       "7041                No             Yes            No               Yes   \n",
       "7042  No phone service             Yes           Yes               Yes   \n",
       "\n",
       "     tech_support streaming_tv streaming_movies paperless_billing  \\\n",
       "0             Yes          Yes               No               Yes   \n",
       "1              No           No              Yes                No   \n",
       "2              No           No               No               Yes   \n",
       "3              No          Yes              Yes               Yes   \n",
       "4             Yes          Yes               No               Yes   \n",
       "...           ...          ...              ...               ...   \n",
       "7038          Yes           No               No                No   \n",
       "7039           No           No              Yes               Yes   \n",
       "7040           No           No               No               Yes   \n",
       "7041          Yes           No              Yes                No   \n",
       "7042           No          Yes              Yes                No   \n",
       "\n",
       "      monthly_charges  total_charges churn   contract_type  \\\n",
       "0               65.60         593.30    No        One year   \n",
       "1               59.90         542.40    No  Month-to-month   \n",
       "2               73.90         280.85   Yes  Month-to-month   \n",
       "3               98.00        1237.85   Yes  Month-to-month   \n",
       "4               83.90         267.40   Yes  Month-to-month   \n",
       "...               ...            ...   ...             ...   \n",
       "7038            55.15         742.90    No        One year   \n",
       "7039            85.10        1873.70   Yes  Month-to-month   \n",
       "7040            50.30          92.75    No  Month-to-month   \n",
       "7041            67.85        4627.65    No        Two year   \n",
       "7042            59.00        3707.60    No        Two year   \n",
       "\n",
       "     internet_service_type      payment_type  gender_encoded  partner_encoded  \\\n",
       "0                      DSL      Mailed check               1                1   \n",
       "1                      DSL      Mailed check               0                0   \n",
       "2              Fiber optic  Electronic check               0                0   \n",
       "3              Fiber optic  Electronic check               0                1   \n",
       "4              Fiber optic      Mailed check               1                1   \n",
       "...                    ...               ...             ...              ...   \n",
       "7038                   DSL      Mailed check               1                0   \n",
       "7039           Fiber optic  Electronic check               0                1   \n",
       "7040                   DSL      Mailed check               0                0   \n",
       "7041                   DSL      Mailed check               0                1   \n",
       "7042                   DSL  Electronic check               0                1   \n",
       "\n",
       "      dependents_encoded  phone_service_encoded  paperless_billing_encoded  \\\n",
       "0                      1                      1                          1   \n",
       "1                      0                      1                          0   \n",
       "2                      0                      1                          1   \n",
       "3                      0                      1                          1   \n",
       "4                      0                      1                          1   \n",
       "...                  ...                    ...                        ...   \n",
       "7038                   0                      1                          0   \n",
       "7039                   0                      1                          1   \n",
       "7040                   0                      1                          1   \n",
       "7041                   1                      1                          0   \n",
       "7042                   1                      0                          0   \n",
       "\n",
       "      churn_encoded  multiple_lines_No phone service  multiple_lines_Yes  \\\n",
       "0                 0                                0                   0   \n",
       "1                 0                                0                   1   \n",
       "2                 1                                0                   0   \n",
       "3                 1                                0                   0   \n",
       "4                 1                                0                   0   \n",
       "...             ...                              ...                 ...   \n",
       "7038              0                                0                   0   \n",
       "7039              1                                0                   1   \n",
       "7040              0                                0                   0   \n",
       "7041              0                                0                   0   \n",
       "7042              0                                1                   0   \n",
       "\n",
       "      online_security_No internet service  online_security_Yes  \\\n",
       "0                                       0                    0   \n",
       "1                                       0                    0   \n",
       "2                                       0                    0   \n",
       "3                                       0                    0   \n",
       "4                                       0                    0   \n",
       "...                                   ...                  ...   \n",
       "7038                                    0                    1   \n",
       "7039                                    0                    0   \n",
       "7040                                    0                    0   \n",
       "7041                                    0                    1   \n",
       "7042                                    0                    1   \n",
       "\n",
       "      online_backup_No internet service  online_backup_Yes  \\\n",
       "0                                     0                  1   \n",
       "1                                     0                  0   \n",
       "2                                     0                  0   \n",
       "3                                     0                  1   \n",
       "4                                     0                  0   \n",
       "...                                 ...                ...   \n",
       "7038                                  0                  0   \n",
       "7039                                  0                  0   \n",
       "7040                                  0                  1   \n",
       "7041                                  0                  0   \n",
       "7042                                  0                  1   \n",
       "\n",
       "      device_protection_No internet service  device_protection_Yes  \\\n",
       "0                                         0                      0   \n",
       "1                                         0                      0   \n",
       "2                                         0                      1   \n",
       "3                                         0                      1   \n",
       "4                                         0                      0   \n",
       "...                                     ...                    ...   \n",
       "7038                                      0                      0   \n",
       "7039                                      0                      0   \n",
       "7040                                      0                      0   \n",
       "7041                                      0                      1   \n",
       "7042                                      0                      1   \n",
       "\n",
       "      tech_support_No internet service  tech_support_Yes  \\\n",
       "0                                    0                 1   \n",
       "1                                    0                 0   \n",
       "2                                    0                 0   \n",
       "3                                    0                 0   \n",
       "4                                    0                 1   \n",
       "...                                ...               ...   \n",
       "7038                                 0                 1   \n",
       "7039                                 0                 0   \n",
       "7040                                 0                 0   \n",
       "7041                                 0                 1   \n",
       "7042                                 0                 0   \n",
       "\n",
       "      streaming_tv_No internet service  streaming_tv_Yes  \\\n",
       "0                                    0                 1   \n",
       "1                                    0                 0   \n",
       "2                                    0                 0   \n",
       "3                                    0                 1   \n",
       "4                                    0                 1   \n",
       "...                                ...               ...   \n",
       "7038                                 0                 0   \n",
       "7039                                 0                 0   \n",
       "7040                                 0                 0   \n",
       "7041                                 0                 0   \n",
       "7042                                 0                 1   \n",
       "\n",
       "      streaming_movies_No internet service  streaming_movies_Yes  \\\n",
       "0                                        0                     0   \n",
       "1                                        0                     1   \n",
       "2                                        0                     0   \n",
       "3                                        0                     1   \n",
       "4                                        0                     0   \n",
       "...                                    ...                   ...   \n",
       "7038                                     0                     0   \n",
       "7039                                     0                     1   \n",
       "7040                                     0                     0   \n",
       "7041                                     0                     1   \n",
       "7042                                     0                     1   \n",
       "\n",
       "      contract_type_One year  contract_type_Two year  \\\n",
       "0                          1                       0   \n",
       "1                          0                       0   \n",
       "2                          0                       0   \n",
       "3                          0                       0   \n",
       "4                          0                       0   \n",
       "...                      ...                     ...   \n",
       "7038                       1                       0   \n",
       "7039                       0                       0   \n",
       "7040                       0                       0   \n",
       "7041                       0                       1   \n",
       "7042                       0                       1   \n",
       "\n",
       "      internet_service_type_Fiber optic  internet_service_type_None  \\\n",
       "0                                     0                           0   \n",
       "1                                     0                           0   \n",
       "2                                     1                           0   \n",
       "3                                     1                           0   \n",
       "4                                     1                           0   \n",
       "...                                 ...                         ...   \n",
       "7038                                  0                           0   \n",
       "7039                                  1                           0   \n",
       "7040                                  0                           0   \n",
       "7041                                  0                           0   \n",
       "7042                                  0                           0   \n",
       "\n",
       "      payment_type_Credit card (automatic)  payment_type_Electronic_check  \\\n",
       "0                                        0                              0   \n",
       "1                                        0                              0   \n",
       "2                                        0                              1   \n",
       "3                                        0                              1   \n",
       "4                                        0                              0   \n",
       "...                                    ...                            ...   \n",
       "7038                                     0                              0   \n",
       "7039                                     0                              1   \n",
       "7040                                     0                              0   \n",
       "7041                                     0                              0   \n",
       "7042                                     0                              1   \n",
       "\n",
       "      payment_type_Mailed check  \n",
       "0                             1  \n",
       "1                             1  \n",
       "2                             0  \n",
       "3                             0  \n",
       "4                             1  \n",
       "...                         ...  \n",
       "7038                          1  \n",
       "7039                          0  \n",
       "7040                          1  \n",
       "7041                          1  \n",
       "7042                          0  \n",
       "\n",
       "[7032 rows x 51 columns]"
      ]
     },
     "execution_count": 11,
     "metadata": {},
     "output_type": "execute_result"
    }
   ],
   "source": [
    "df"
   ]
  },
  {
   "cell_type": "markdown",
   "id": "68bff37b",
   "metadata": {},
   "source": [
    "# set data contex "
   ]
  },
  {
   "cell_type": "code",
   "execution_count": 99,
   "id": "9c425b0c",
   "metadata": {},
   "outputs": [
    {
     "data": {
      "text/plain": [
       "payment_type_id                          0\n",
       "internet_service_type_id                 0\n",
       "contract_type_id                         0\n",
       "customer_id                              0\n",
       "gender                                   0\n",
       "senior_citizen                           0\n",
       "partner                                  0\n",
       "dependents                               0\n",
       "tenure                                   0\n",
       "phone_service                            0\n",
       "multiple_lines                           0\n",
       "online_security                          0\n",
       "online_backup                            0\n",
       "device_protection                        0\n",
       "tech_support                             0\n",
       "streaming_tv                             0\n",
       "streaming_movies                         0\n",
       "paperless_billing                        0\n",
       "monthly_charges                          0\n",
       "total_charges                            0\n",
       "churn                                    0\n",
       "contract_type                            0\n",
       "internet_service_type                    0\n",
       "payment_type                             0\n",
       "gender_encoded                           0\n",
       "partner_encoded                          0\n",
       "dependents_encoded                       0\n",
       "phone_service_encoded                    0\n",
       "paperless_billing_encoded                0\n",
       "churn_encoded                            0\n",
       "multiple_lines_No phone service          0\n",
       "multiple_lines_Yes                       0\n",
       "online_security_No internet service      0\n",
       "online_security_Yes                      0\n",
       "online_backup_No internet service        0\n",
       "online_backup_Yes                        0\n",
       "device_protection_No internet service    0\n",
       "device_protection_Yes                    0\n",
       "tech_support_No internet service         0\n",
       "tech_support_Yes                         0\n",
       "streaming_tv_No internet service         0\n",
       "streaming_tv_Yes                         0\n",
       "streaming_movies_No internet service     0\n",
       "streaming_movies_Yes                     0\n",
       "contract_type_One year                   0\n",
       "contract_type_Two year                   0\n",
       "internet_service_type_Fiber optic        0\n",
       "internet_service_type_None               0\n",
       "payment_type_Credit card (automatic)     0\n",
       "payment_type_Electronic_check            0\n",
       "payment_type_Mailed check                0\n",
       "dtype: int64"
      ]
     },
     "execution_count": 99,
     "metadata": {},
     "output_type": "execute_result"
    }
   ],
   "source": [
    "df.isnull().sum()"
   ]
  },
  {
   "cell_type": "code",
   "execution_count": null,
   "id": "99a37786",
   "metadata": {
    "scrolled": false
   },
   "outputs": [],
   "source": [
    "df.churn.value_counts().plot(kind= 'barh', color = [\"xkcd:sky blue\", \"g\"])\n",
    "plt.title(\"churned Customers\")"
   ]
  },
  {
   "cell_type": "code",
   "execution_count": 89,
   "id": "2cc7c65d",
   "metadata": {},
   "outputs": [
    {
     "data": {
      "text/plain": [
       "<AxesSubplot:xlabel='internet_service_type', ylabel='count'>"
      ]
     },
     "execution_count": 89,
     "metadata": {},
     "output_type": "execute_result"
    },
    {
     "data": {
      "image/png": "[encoded data removed]",
      "text/plain": [
       "<Figure size 432x288 with 1 Axes>"
      ]
     },
     "metadata": {},
     "output_type": "display_data"
    }
   ],
   "source": [
    "sns.countplot(x='internet_service_type', data=df)"
   ]
  },
  {
   "cell_type": "code",
   "execution_count": 88,
   "id": "d1e2b9c2",
   "metadata": {},
   "outputs": [
    {
     "data": {
      "text/plain": [
       "<AxesSubplot:xlabel='senior_citizen', ylabel='count'>"
      ]
     },
     "execution_count": 88,
     "metadata": {},
     "output_type": "execute_result"
    },
    {
     "data": {
      "image/png": "[encoded data removed]",
      "text/plain": [
       "<Figure size 432x288 with 1 Axes>"
      ]
     },
     "metadata": {},
     "output_type": "display_data"
    }
   ],
   "source": [
    "sns.countplot(x='senior_citizen', data=df)"
   ]
  },
  {
   "cell_type": "code",
   "execution_count": 98,
   "id": "66fb3873",
   "metadata": {},
   "outputs": [
    {
     "data": {
      "text/plain": [
       "<AxesSubplot:xlabel='payment_type', ylabel='count'>"
      ]
     },
     "execution_count": 98,
     "metadata": {},
     "output_type": "execute_result"
    },
    {
     "data": {
      "image/png": "[encoded data removed]",
      "text/plain": [
       "<Figure size 432x288 with 1 Axes>"
      ]
     },
     "metadata": {},
     "output_type": "display_data"
    }
   ],
   "source": [
    "sns.countplot(x='payment_type', data=df)"
   ]
  },
  {
   "cell_type": "code",
   "execution_count": 97,
   "id": "5b1aa75e",
   "metadata": {
    "scrolled": true
   },
   "outputs": [
    {
     "data": {
      "text/plain": [
       "<AxesSubplot:xlabel='internet_service_type', ylabel='count'>"
      ]
     },
     "execution_count": 97,
     "metadata": {},
     "output_type": "execute_result"
    },
    {
     "data": {
      "image/png": "[encoded data removed]",
      "text/plain": [
       "<Figure size 432x288 with 1 Axes>"
      ]
     },
     "metadata": {},
     "output_type": "display_data"
    }
   ],
   "source": [
    "sns.countplot(x='internet_service_type', data=df)"
   ]
  },
  {
   "cell_type": "code",
   "execution_count": null,
   "id": "a4b5f966",
   "metadata": {},
   "outputs": [],
   "source": []
  },
  {
   "cell_type": "code",
   "execution_count": null,
   "id": "a3368561",
   "metadata": {},
   "outputs": [],
   "source": []
  },
  {
   "cell_type": "code",
   "execution_count": null,
   "id": "9f6d5c3e",
   "metadata": {},
   "outputs": [],
   "source": []
  },
  {
   "cell_type": "code",
   "execution_count": null,
   "id": "302ee04b",
   "metadata": {},
   "outputs": [],
   "source": []
  },
  {
   "cell_type": "markdown",
   "id": "95fca61f",
   "metadata": {},
   "source": [
    "# Telco exploration "
   ]
  },
  {
   "cell_type": "markdown",
   "id": "d542a3bb",
   "metadata": {},
   "source": [
    "Univariate means a single variable, so we'll look at .value_counts() and histograms. - Explore the target variable itself. What is the distribution of values?\n",
    "\n",
    "have o ask at least 4 questions \n",
    "\n"
   ]
  },
  {
   "cell_type": "code",
   "execution_count": 15,
   "id": "0899d2e4",
   "metadata": {
    "scrolled": true
   },
   "outputs": [
    {
     "data": {
      "text/plain": [
       "No     2891\n",
       "Yes    1046\n",
       "Name: churn, dtype: int64"
      ]
     },
     "execution_count": 15,
     "metadata": {},
     "output_type": "execute_result"
    }
   ],
   "source": [
    "train.churn.value_counts()\n",
    "#this is only going to be exploring the train data set "
   ]
  },
  {
   "cell_type": "markdown",
   "id": "f47ad5b0",
   "metadata": {},
   "source": [
    "# Exploritoy Analysis: What is causing churn ?"
   ]
  },
  {
   "cell_type": "markdown",
   "id": "52bb2b11",
   "metadata": {},
   "source": [
    "## Question 1 Are certain payment types indicators of churn  ?"
   ]
  },
  {
   "cell_type": "code",
   "execution_count": 52,
   "id": "efaaa8e4",
   "metadata": {},
   "outputs": [
    {
     "data": {
      "text/plain": [
       "Text(0.5, 1.0, 'Churn and Payment Type')"
      ]
     },
     "execution_count": 52,
     "metadata": {},
     "output_type": "execute_result"
    },
    {
     "data": {
      "image/png": "[encoded data removed]",
      "text/plain": [
       "<Figure size 576x360 with 1 Axes>"
      ]
     },
     "metadata": {},
     "output_type": "display_data"
    }
   ],
   "source": [
    "plt.figure(figsize=(8,5))\n",
    "sns.countplot(train['payment_type'],hue=train['churn'])\n",
    "plt.title(\"Churn and Payment Type\")"
   ]
  },
  {
   "cell_type": "code",
   "execution_count": 53,
   "id": "9900143a",
   "metadata": {
    "scrolled": true
   },
   "outputs": [
    {
     "name": "stdout",
     "output_type": "stream",
     "text": [
      "Reject the null hypothesis that payment type and churn are independent\n",
      "Sufficient evidence to move forward understanding that there is a relationship between using an elecronic check and churn\n"
     ]
    },
    {
     "data": {
      "text/plain": [
       "4.64358817076333e-73"
      ]
     },
     "execution_count": 53,
     "metadata": {},
     "output_type": "execute_result"
    }
   ],
   "source": [
    "# Let's run a chi squared to compare proportions, to have more confidence\n",
    "alpha = 0.05\n",
    "null_hypothesis = \"payment type and churn are independent\"\n",
    "alternative_hypothesis = \"there is a relationship between using an elecronic check and churn\"\n",
    "\n",
    "# Setup a crosstab of observed survival to pclass\n",
    "observed = pd.crosstab(train.churn, train.payment_type)\n",
    "\n",
    "chi2, p, degf, expected = stats.chi2_contingency(observed)\n",
    "\n",
    "if p < alpha:\n",
    "    print(\"Reject the null hypothesis that\", null_hypothesis)\n",
    "    print(\"Sufficient evidence to move forward understanding that\", alternative_hypothesis)\n",
    "else:\n",
    "    print(\"Fail to reject the null\")\n",
    "    print(\"Insufficient evidence to reject the null\")\n",
    "p\n"
   ]
  },
  {
   "cell_type": "markdown",
   "id": "e51b4cb3",
   "metadata": {},
   "source": [
    "Based on our statistical ttes and our graph it does look like there is a relationship with our customers making payments using electronic checks than any other payment service"
   ]
  },
  {
   "cell_type": "markdown",
   "id": "cc794518",
   "metadata": {},
   "source": [
    "is there a ceratin age group that uses electronic checks ?"
   ]
  },
  {
   "cell_type": "code",
   "execution_count": 116,
   "id": "7f620ac0",
   "metadata": {},
   "outputs": [
    {
     "data": {
      "text/plain": [
       "<AxesSubplot:xlabel='payment_type', ylabel='count'>"
      ]
     },
     "execution_count": 116,
     "metadata": {},
     "output_type": "execute_result"
    },
    {
     "data": {
      "image/png": "[encoded data removed]",
      "text/plain": [
       "<Figure size 576x360 with 1 Axes>"
      ]
     },
     "metadata": {},
     "output_type": "display_data"
    }
   ],
   "source": [
    "\n",
    "plt.figure(figsize=(8,5))\n",
    "sns.countplot(train['payment_type'],hue=train['senior_citizen'])"
   ]
  },
  {
   "cell_type": "code",
   "execution_count": null,
   "id": "14397c7a",
   "metadata": {},
   "outputs": [],
   "source": []
  },
  {
   "cell_type": "markdown",
   "id": "07ad6e4b",
   "metadata": {},
   "source": [
    "##  Question 2 - Learning about our Seniors\n",
    "\n",
    "Are our senior citizen more likely to churn than non seniors ? "
   ]
  },
  {
   "cell_type": "markdown",
   "id": "5bc1f822",
   "metadata": {},
   "source": [
    "we can use this question to pin point the age demoghaphic to reduce the churn "
   ]
  },
  {
   "cell_type": "code",
   "execution_count": 87,
   "id": "8f93910b",
   "metadata": {
    "scrolled": true
   },
   "outputs": [
    {
     "data": {
      "text/plain": [
       "<seaborn.axisgrid.FacetGrid at 0x175189370>"
      ]
     },
     "execution_count": 87,
     "metadata": {},
     "output_type": "execute_result"
    },
    {
     "data": {
      "image/png": "[encoded data removed]",
      "text/plain": [
       "<Figure size 417.475x360 with 1 Axes>"
      ]
     },
     "metadata": {},
     "output_type": "display_data"
    }
   ],
   "source": [
    "sns.catplot(x=\"senior_citizen\",hue = 'churn', data=train, kind='count')\n",
    "\n"
   ]
  },
  {
   "cell_type": "code",
   "execution_count": 77,
   "id": "3c547d12",
   "metadata": {
    "scrolled": true
   },
   "outputs": [
    {
     "data": {
      "text/html": [
       "<div>\n",
       "<style scoped>\n",
       "    .dataframe tbody tr th:only-of-type {\n",
       "        vertical-align: middle;\n",
       "    }\n",
       "\n",
       "    .dataframe tbody tr th {\n",
       "        vertical-align: top;\n",
       "    }\n",
       "\n",
       "    .dataframe thead th {\n",
       "        text-align: right;\n",
       "    }\n",
       "</style>\n",
       "<table border=\"1\" class=\"dataframe\">\n",
       "  <thead>\n",
       "    <tr style=\"text-align: right;\">\n",
       "      <th>churn</th>\n",
       "      <th>No</th>\n",
       "      <th>Yes</th>\n",
       "    </tr>\n",
       "    <tr>\n",
       "      <th>senior_citizen</th>\n",
       "      <th></th>\n",
       "      <th></th>\n",
       "    </tr>\n",
       "  </thead>\n",
       "  <tbody>\n",
       "    <tr>\n",
       "      <th>0</th>\n",
       "      <td>2527</td>\n",
       "      <td>775</td>\n",
       "    </tr>\n",
       "    <tr>\n",
       "      <th>1</th>\n",
       "      <td>364</td>\n",
       "      <td>271</td>\n",
       "    </tr>\n",
       "  </tbody>\n",
       "</table>\n",
       "</div>"
      ],
      "text/plain": [
       "churn             No  Yes\n",
       "senior_citizen           \n",
       "0               2527  775\n",
       "1                364  271"
      ]
     },
     "execution_count": 77,
     "metadata": {},
     "output_type": "execute_result"
    }
   ],
   "source": [
    "pd.crosstab(train.senior_citizen, train.churn)"
   ]
  },
  {
   "cell_type": "code",
   "execution_count": null,
   "id": "79d973e7",
   "metadata": {},
   "outputs": [],
   "source": []
  },
  {
   "cell_type": "code",
   "execution_count": 59,
   "id": "d74d3dbf",
   "metadata": {},
   "outputs": [],
   "source": [
    "# # senior subset  subset setup\n",
    "no_senior = train[train.senior_citizen == 0]\n",
    "\n",
    "yes_senior = train[train.senior_citizen == 1]"
   ]
  },
  {
   "cell_type": "code",
   "execution_count": 166,
   "id": "a6db535c",
   "metadata": {
    "scrolled": false
   },
   "outputs": [
    {
     "name": "stdout",
     "output_type": "stream",
     "text": [
      "Reject the null hypothesis that being a senior_citizen and churn are independent\n",
      "Sufficient evidence to move forward understanding that there is a relationship between churning and being a senior_citizen\n"
     ]
    },
    {
     "data": {
      "text/plain": [
       "1.7561315684822571e-23"
      ]
     },
     "execution_count": 166,
     "metadata": {},
     "output_type": "execute_result"
    }
   ],
   "source": [
    "# alpha = 0.05\n",
    "null_hypothesis = \"being a senior_citizen and churn are independent\"\n",
    "alternative_hypothesis = \"there is a relationship between churning and being a senior_citizen\"\n",
    "\n",
    "# # Setup a crosstab of observed survival to pclass\n",
    "observed = pd.crosstab(train.churn, train.senior_citizen)\n",
    "\n",
    "chi2, p, degf, expected = stats.chi2_contingency(observed)\n",
    "\n",
    "if p < alpha:\n",
    "    print(\"Reject the null hypothesis that\", null_hypothesis)\n",
    "    print(\"Sufficient evidence to move forward understanding that\", alternative_hypothesis)\n",
    "else:\n",
    "    print(\"Fail to reject the null\")\n",
    "    print(\"Insufficient evidence to reject the null\")\n",
    "p\n"
   ]
  },
  {
   "cell_type": "code",
   "execution_count": null,
   "id": "deeee1d1",
   "metadata": {},
   "outputs": [],
   "source": []
  },
  {
   "cell_type": "markdown",
   "id": "efde8b9e",
   "metadata": {},
   "source": [
    "## Question 3 Do people who churn have higher monthly charges? "
   ]
  },
  {
   "cell_type": "code",
   "execution_count": 190,
   "id": "e45a4f8d",
   "metadata": {
    "scrolled": true
   },
   "outputs": [
    {
     "data": {
      "text/plain": [
       "<AxesSubplot:xlabel='churn', ylabel='monthly_charges'>"
      ]
     },
     "execution_count": 190,
     "metadata": {},
     "output_type": "execute_result"
    },
    {
     "data": {
      "image/png": "[encoded data removed]",
      "text/plain": [
       "<Figure size 432x288 with 1 Axes>"
      ]
     },
     "metadata": {},
     "output_type": "display_data"
    }
   ],
   "source": [
    "\n",
    "sns.boxplot(x=\"churn\", y=\"monthly_charges\", data=train)\n"
   ]
  },
  {
   "cell_type": "code",
   "execution_count": null,
   "id": "f003b77a",
   "metadata": {},
   "outputs": [],
   "source": [
    "churn_sample = train[train.churn == 'Yes'].monthly_charges\n",
    "no_churn_sample = train[train.churn == 'No'].monthly_charges"
   ]
  },
  {
   "cell_type": "code",
   "execution_count": 158,
   "id": "43dce4ad",
   "metadata": {},
   "outputs": [
    {
     "name": "stdout",
     "output_type": "stream",
     "text": [
      "We reject the null hypothesis that  are the monthly charges of customers who churn equal too the customer who do not churn?\n",
      "Evidence suggests that are the monthly charges of customers who churn not equal too the customer who do not churn?\n"
     ]
    },
    {
     "data": {
      "text/plain": [
       "2.460130776937842e-43"
      ]
     },
     "execution_count": 158,
     "metadata": {},
     "output_type": "execute_result"
    }
   ],
   "source": [
    "null_hypothesis = \"the monthly charges of customers who churn = the monthly charges of customer who do not churn\"\n",
    "alternative_hypothesis = \"the monthly charges of customers who churn =! the monthly customer who do not churn\"\n",
    "\n",
    "alpha = 0.05\n",
    "t, p = stats.ttest_ind(churn_sample,no_churn_sample, equal_var=False)\n",
    "\n",
    "if p < alpha:\n",
    "    print(\"We reject the null hypothesis that\", null_hypothesis)\n",
    "    print(\"Evidence suggests that\", alternative_hypothesis)\n",
    "else:\n",
    "    print(\"We fail to reject the null hypothesis\")\n",
    "    print(\"We find insufficient evidence to support the claim that\", alternative_hypothesis)\n",
    "p"
   ]
  },
  {
   "cell_type": "markdown",
   "id": "43033e13",
   "metadata": {},
   "source": [
    "# how are our senior citizens doing on monthly charges ?"
   ]
  },
  {
   "cell_type": "markdown",
   "id": "0dc1f848",
   "metadata": {},
   "source": [
    "here we are more so looking for the average monthly charges of seniors so we can get a idea of their churn rate based on monthly charges."
   ]
  },
  {
   "cell_type": "code",
   "execution_count": 192,
   "id": "1e461527",
   "metadata": {
    "scrolled": true
   },
   "outputs": [
    {
     "data": {
      "text/plain": [
       "<AxesSubplot:xlabel='senior_citizen', ylabel='monthly_charges'>"
      ]
     },
     "execution_count": 192,
     "metadata": {},
     "output_type": "execute_result"
    },
    {
     "data": {
      "image/png": "[encoded data removed]",
      "text/plain": [
       "<Figure size 432x288 with 1 Axes>"
      ]
     },
     "metadata": {},
     "output_type": "display_data"
    }
   ],
   "source": [
    "sns.boxplot(x='senior_citizen', y=\"monthly_charges\", data=train, palette ='Set2')"
   ]
  },
  {
   "cell_type": "code",
   "execution_count": 159,
   "id": "af8b4a56",
   "metadata": {},
   "outputs": [],
   "source": [
    "senior_sample = train[train.senior_citizen == 1].monthly_charges\n",
    "not_senior_sample = train[train.senior_citizen == 0].monthly_charges"
   ]
  },
  {
   "cell_type": "code",
   "execution_count": 194,
   "id": "1664d461",
   "metadata": {},
   "outputs": [
    {
     "name": "stdout",
     "output_type": "stream",
     "text": [
      "We reject the null hypothesis that the monthly charges of customers who are seniors equal too the monthly charges of customer who are not seniors\n",
      "Evidence suggests that the monthly charges of customers who are seniors not equal too the customer who are not seniors\n"
     ]
    },
    {
     "data": {
      "text/plain": [
       "1.6330942397804365e-59"
      ]
     },
     "execution_count": 194,
     "metadata": {},
     "output_type": "execute_result"
    }
   ],
   "source": [
    "null_hypothesis = \"the monthly charges of seniors is equal too the monthly charges of non-seniors\"\n",
    "alternative_hypothesis = \"the monthly charges of customers who are seniors is not equal too the customer who are not seniors\"\n",
    "\n",
    "alpha = 0.05\n",
    "t, p = stats.ttest_ind(senior_sample,not_senior_sample, equal_var=False)\n",
    "\n",
    "if p < alpha:\n",
    "    print(\"We reject the null hypothesis that\", null_hypothesis)\n",
    "    print(\"Evidence suggests that\", alternative_hypothesis)\n",
    "else:\n",
    "    print(\"We fail to reject the null hypothesis\")\n",
    "    print(\"We find insufficient evidence to support the claim that\", alternative_hypothesis)\n",
    "p"
   ]
  },
  {
   "cell_type": "code",
   "execution_count": 193,
   "id": "475ed955",
   "metadata": {},
   "outputs": [
    {
     "data": {
      "text/plain": [
       "<AxesSubplot:xlabel='senior_citizen', ylabel='monthly_charges'>"
      ]
     },
     "execution_count": 193,
     "metadata": {},
     "output_type": "execute_result"
    },
    {
     "data": {
      "image/png": "[encoded data removed]",
      "text/plain": [
       "<Figure size 432x288 with 1 Axes>"
      ]
     },
     "metadata": {},
     "output_type": "display_data"
    }
   ],
   "source": [
    "sns.boxplot(x='senior_citizen', y=\"monthly_charges\",hue=\"churn\", data=train,)"
   ]
  },
  {
   "cell_type": "markdown",
   "id": "5d84ac0c",
   "metadata": {},
   "source": [
    "from the look of this chart it look like for our churn rate there is a high ammount of seniors that for our below 65 customers "
   ]
  },
  {
   "cell_type": "markdown",
   "id": "a03dac09",
   "metadata": {},
   "source": [
    "we can conclude from this graph and statistical test that our senior citizen customer( customers over 65+) are more likely to churn becasue of high monthly charges, almst as much as our chustomers below the age of 65, \n",
    "From my statistical test we can see that  i was unable to reject my null hypothesis therefore showing that there is a relationship between or senior customers and "
   ]
  },
  {
   "cell_type": "markdown",
   "id": "0a970cec",
   "metadata": {},
   "source": [
    "## Question 4 -is someone with tech support more likely to churn?"
   ]
  },
  {
   "cell_type": "code",
   "execution_count": 32,
   "id": "6ad5661b",
   "metadata": {
    "scrolled": true
   },
   "outputs": [
    {
     "data": {
      "text/plain": [
       "<AxesSubplot:xlabel='tech_support', ylabel='count'>"
      ]
     },
     "execution_count": 32,
     "metadata": {},
     "output_type": "execute_result"
    },
    {
     "data": {
      "image/png": "[encoded data removed]",
      "text/plain": [
       "<Figure size 432x288 with 1 Axes>"
      ]
     },
     "metadata": {},
     "output_type": "display_data"
    }
   ],
   "source": [
    "sns.countplot(x='tech_support', data=df, hue=\"churn\")"
   ]
  },
  {
   "cell_type": "code",
   "execution_count": 34,
   "id": "772facc5",
   "metadata": {},
   "outputs": [
    {
     "name": "stdout",
     "output_type": "stream",
     "text": [
      "Reject the null hypothesis that tech support and churn are independent\n",
      "Sufficient evidence to move forward understanding that there is a relationship between tech support and churn\n"
     ]
    },
    {
     "data": {
      "text/plain": [
       "8.373959266633126e-101"
      ]
     },
     "execution_count": 34,
     "metadata": {},
     "output_type": "execute_result"
    }
   ],
   "source": [
    "# Let's run a chi squared to compare proportions, to have more confidence\n",
    "alpha = 0.05\n",
    "null_hypothesis = \"tech support and churn are independent\"\n",
    "alternative_hypothesis = \"there is a relationship between tech support and churn\"\n",
    "\n",
    "# Setup a crosstab of observed survival to pclass\n",
    "observed = pd.crosstab(train.tech_support, train.churn)\n",
    "\n",
    "chi2, p, degf, expected = stats.chi2_contingency(observed)\n",
    "\n",
    "if p < alpha:\n",
    "    print(\"Reject the null hypothesis that\", null_hypothesis)\n",
    "    print(\"Sufficient evidence to move forward understanding that\", alternative_hypothesis)\n",
    "else:\n",
    "    print(\"Fail to reject the null\")\n",
    "    print(\"Insufficient evidence to reject the null\")\n",
    "p\n",
    "\n"
   ]
  },
  {
   "cell_type": "markdown",
   "id": "a568d1be",
   "metadata": {},
   "source": [
    "From our graph and statisticly we can see that "
   ]
  },
  {
   "cell_type": "markdown",
   "id": "609532dc",
   "metadata": {},
   "source": [
    "Sub question- are seniors mostly using tech support ?"
   ]
  },
  {
   "cell_type": "code",
   "execution_count": 114,
   "id": "30073b87",
   "metadata": {
    "scrolled": true
   },
   "outputs": [
    {
     "data": {
      "text/plain": [
       "<AxesSubplot:xlabel='tech_support', ylabel='count'>"
      ]
     },
     "execution_count": 114,
     "metadata": {},
     "output_type": "execute_result"
    },
    {
     "data": {
      "image/png": "[encoded data removed]",
      "text/plain": [
       "<Figure size 432x288 with 1 Axes>"
      ]
     },
     "metadata": {},
     "output_type": "display_data"
    }
   ],
   "source": [
    "sns.countplot(x='tech_support', data=df, hue=\"senior_citizen\")"
   ]
  },
  {
   "cell_type": "code",
   "execution_count": null,
   "id": "411b4517",
   "metadata": {},
   "outputs": [],
   "source": []
  },
  {
   "cell_type": "markdown",
   "id": "9b28c6c1",
   "metadata": {},
   "source": [
    "# TELCO MODELING"
   ]
  },
  {
   "cell_type": "code",
   "execution_count": 167,
   "id": "ee9f3593",
   "metadata": {},
   "outputs": [],
   "source": [
    "# ignore warnings\n",
    "import warnings\n",
    "warnings.filterwarnings(\"ignore\")\n",
    "\n",
    "import numpy as np\n",
    "\n",
    "from pydataset import data\n",
    "\n",
    "from sklearn.model_selection import train_test_split\n",
    "from sklearn.tree import DecisionTreeClassifier, plot_tree\n",
    "from sklearn.metrics import classification_report\n",
    "from sklearn.metrics import confusion_matrix\n",
    "\n",
    "import matplotlib.pyplot as plt\n",
    "import seaborn as sns\n",
    "\n"
   ]
  },
  {
   "cell_type": "code",
   "execution_count": 168,
   "id": "81542338",
   "metadata": {},
   "outputs": [
    {
     "data": {
      "text/plain": [
       "((3937, 51), (1688, 51), (1407, 51))"
      ]
     },
     "execution_count": 168,
     "metadata": {},
     "output_type": "execute_result"
    }
   ],
   "source": [
    "train, validate, test = prepare.split(df, stratify_by='churn')\n",
    "\n",
    "train.shape, validate.shape, test.shape\n"
   ]
  },
  {
   "cell_type": "code",
   "execution_count": null,
   "id": "56772f5c",
   "metadata": {},
   "outputs": [],
   "source": []
  },
  {
   "cell_type": "code",
   "execution_count": null,
   "id": "cf83dde5",
   "metadata": {},
   "outputs": [],
   "source": [
    "df"
   ]
  },
  {
   "cell_type": "code",
   "execution_count": 169,
   "id": "c6ccb64b",
   "metadata": {},
   "outputs": [],
   "source": [
    "\n",
    "\n",
    "# create X & y version of train, where y is a series with just the target variable and X are all the features. \n",
    "\n",
    "X_train = train.drop(columns=['churn','churn_encoded','customer_id', 'gender','partner', 'dependents', \n",
    "                              'phone_service', 'multiple_lines', 'online_security', 'online_backup', 'device_protection', \n",
    "                              'tech_support', 'streaming_tv', 'streaming_movies', 'paperless_billing', 'contract_type', 'internet_service_type', \n",
    "                              'payment_type'])\n",
    "y_train = train[['churn']]\n",
    "\n",
    "X_validate = validate.drop(columns=['churn','churn_encoded', 'customer_id', 'gender','partner', 'dependents', 'phone_service', 'multiple_lines', \n",
    "                                    'online_security', 'online_backup', 'device_protection', 'tech_support', 'streaming_tv', 'streaming_movies', \n",
    "                                    'paperless_billing', 'contract_type', 'internet_service_type', 'payment_type'])\n",
    "y_validate = validate[['churn']]\n",
    "\n",
    "X_test = test.drop(columns=['churn','churn_encoded', 'customer_id', 'gender','partner', 'dependents', 'phone_service',\n",
    "                            'multiple_lines', 'online_security', 'online_backup', 'device_protection', 'tech_support',\n",
    "                            'streaming_tv', 'streaming_movies', 'paperless_billing', 'contract_type', \n",
    "                            'internet_service_type', 'payment_type'])\n",
    "y_test = test[['churn']]\n"
   ]
  },
  {
   "cell_type": "code",
   "execution_count": 170,
   "id": "59565505",
   "metadata": {},
   "outputs": [],
   "source": [
    "# for classification you can change the algorithm to gini or entropy (information gain).  \n",
    "# Default is gini.\n",
    "\n",
    "tree1 = DecisionTreeClassifier(max_depth=3, random_state=123)\n"
   ]
  },
  {
   "cell_type": "code",
   "execution_count": 171,
   "id": "f9bca129",
   "metadata": {},
   "outputs": [],
   "source": [
    "# model.fit(X, y)\n",
    "\n",
    "tree1 = tree1.fit(X_train, y_train)\n"
   ]
  },
  {
   "cell_type": "code",
   "execution_count": null,
   "id": "7d9529c7",
   "metadata": {},
   "outputs": [],
   "source": []
  },
  {
   "cell_type": "code",
   "execution_count": 181,
   "id": "6b17254d",
   "metadata": {},
   "outputs": [
    {
     "data": {
      "image/png": "[encoded data removed]",
      "text/plain": [
       "<Figure size 1656x504 with 1 Axes>"
      ]
     },
     "metadata": {},
     "output_type": "display_data"
    }
   ],
   "source": [
    "plt.figure(figsize=(23, 7))\n",
    "plot_tree(tree1, feature_names=X_train.columns,class_names=tree1.classes_, rounded= True)\n",
    "plt.show()"
   ]
  },
  {
   "cell_type": "code",
   "execution_count": 182,
   "id": "ac7761fe",
   "metadata": {},
   "outputs": [
    {
     "name": "stdout",
     "output_type": "stream",
     "text": [
      "Accuracy of Decision Tree classifier on training set: 0.80\n"
     ]
    }
   ],
   "source": [
    "print('Accuracy of Decision Tree classifier on training set: {:.2f}'\n",
    "      .format(tree1.score(X_train, y_train)))\n"
   ]
  },
  {
   "cell_type": "code",
   "execution_count": 183,
   "id": "1dcec880",
   "metadata": {},
   "outputs": [],
   "source": [
    "y_predictions = tree1.predict(X_train)"
   ]
  },
  {
   "cell_type": "code",
   "execution_count": 184,
   "id": "aca2c110",
   "metadata": {
    "scrolled": true
   },
   "outputs": [
    {
     "name": "stdout",
     "output_type": "stream",
     "text": [
      "              precision    recall  f1-score   support\n",
      "\n",
      "          No       0.81      0.94      0.87      2891\n",
      "         Yes       0.71      0.40      0.51      1046\n",
      "\n",
      "    accuracy                           0.80      3937\n",
      "   macro avg       0.76      0.67      0.69      3937\n",
      "weighted avg       0.79      0.80      0.78      3937\n",
      "\n"
     ]
    }
   ],
   "source": [
    "print(classification_report(y_train, y_predictions))"
   ]
  },
  {
   "cell_type": "code",
   "execution_count": 185,
   "id": "f4d45f38",
   "metadata": {},
   "outputs": [],
   "source": [
    "tree2 = DecisionTreeClassifier(max_depth=3, random_state=123)"
   ]
  },
  {
   "cell_type": "code",
   "execution_count": 186,
   "id": "4d142101",
   "metadata": {},
   "outputs": [],
   "source": [
    "tree2 = tree2.fit(X_validate, y_validate)\n"
   ]
  },
  {
   "cell_type": "code",
   "execution_count": 187,
   "id": "56c7a804",
   "metadata": {},
   "outputs": [
    {
     "name": "stdout",
     "output_type": "stream",
     "text": [
      "Accuracy of Decision Tree classifier on validate set: 0.76\n"
     ]
    }
   ],
   "source": [
    "print('Accuracy of Decision Tree classifier on validate set: {:.2f}'\n",
    "     .format(tree2.score(X_validate, y_validate)))\n"
   ]
  },
  {
   "cell_type": "code",
   "execution_count": 188,
   "id": "f817bb09",
   "metadata": {
    "scrolled": true
   },
   "outputs": [
    {
     "data": {
      "image/png": "[encoded data removed]",
      "text/plain": [
       "<Figure size 936x576 with 1 Axes>"
      ]
     },
     "metadata": {},
     "output_type": "display_data"
    }
   ],
   "source": [
    "plt.figure(figsize=(13, 8))\n",
    "plot_tree(tree2, feature_names=X_validate.columns,class_names=tree2.classes_, rounded= True)\n",
    "plt.show()"
   ]
  },
  {
   "cell_type": "markdown",
   "id": "18aeedd7",
   "metadata": {},
   "source": [
    "# Random Forest"
   ]
  },
  {
   "cell_type": "code",
   "execution_count": null,
   "id": "f0916ec1",
   "metadata": {},
   "outputs": [],
   "source": [
    "from sklearn.ensemble import RandomForestClassifier"
   ]
  },
  {
   "cell_type": "code",
   "execution_count": null,
   "id": "a61a3485",
   "metadata": {},
   "outputs": [],
   "source": [
    "rf = RandomForestClassifier(max_depth=5, \n",
    "                            random_state=123)"
   ]
  },
  {
   "cell_type": "code",
   "execution_count": null,
   "id": "327bdd59",
   "metadata": {},
   "outputs": [],
   "source": [
    "rf"
   ]
  },
  {
   "cell_type": "code",
   "execution_count": null,
   "id": "9a1177dd",
   "metadata": {},
   "outputs": [],
   "source": [
    "rf.fit(X_train, y_train)"
   ]
  },
  {
   "cell_type": "code",
   "execution_count": null,
   "id": "3f4f1810",
   "metadata": {},
   "outputs": [],
   "source": [
    "print(rf.feature_importances_)"
   ]
  },
  {
   "cell_type": "code",
   "execution_count": null,
   "id": "f72b5cf8",
   "metadata": {},
   "outputs": [],
   "source": [
    "y_pred = rf.predict(X_train)\n",
    "y_pred"
   ]
  },
  {
   "cell_type": "code",
   "execution_count": null,
   "id": "a8949b1a",
   "metadata": {},
   "outputs": [],
   "source": [
    "y_pred_proba = rf.predict_proba(X_train)\n",
    "y_pred_proba"
   ]
  },
  {
   "cell_type": "code",
   "execution_count": null,
   "id": "d8694c8b",
   "metadata": {},
   "outputs": [],
   "source": [
    "print('Accuracy of random forest classifier on training set: {:.2f}'\n",
    "     .format(rf.score(X_train, y_train)))"
   ]
  },
  {
   "cell_type": "code",
   "execution_count": null,
   "id": "6e02b05f",
   "metadata": {},
   "outputs": [],
   "source": [
    "print(classification_report(y_train, y_pred))"
   ]
  },
  {
   "cell_type": "code",
   "execution_count": null,
   "id": "514c8418",
   "metadata": {},
   "outputs": [],
   "source": [
    "print('Accuracy of random forest classifier on test set: {:.2f}'\n",
    "     .format(rf.score(X_validate, y_validate)))"
   ]
  },
  {
   "cell_type": "markdown",
   "id": "8ac95f43",
   "metadata": {},
   "source": [
    "# KNN "
   ]
  },
  {
   "cell_type": "code",
   "execution_count": null,
   "id": "aad910bd",
   "metadata": {},
   "outputs": [],
   "source": [
    "from sklearn.neighbors import KNeighborsClassifier"
   ]
  },
  {
   "cell_type": "code",
   "execution_count": null,
   "id": "3c3eded3",
   "metadata": {},
   "outputs": [],
   "source": [
    "# weights = ['uniform', 'density']\n",
    "knn = KNeighborsClassifier(n_neighbors=5, weights='uniform')\n"
   ]
  },
  {
   "cell_type": "code",
   "execution_count": null,
   "id": "56fd6d98",
   "metadata": {},
   "outputs": [],
   "source": [
    "knn.fit(X_train, y_train)\n"
   ]
  },
  {
   "cell_type": "code",
   "execution_count": null,
   "id": "dbf8e9c8",
   "metadata": {},
   "outputs": [],
   "source": [
    "y_pred = knn.predict(X_train)\n"
   ]
  },
  {
   "cell_type": "code",
   "execution_count": null,
   "id": "431a115d",
   "metadata": {},
   "outputs": [],
   "source": [
    "y_pred_proba = knn.predict_proba(X_train)\n"
   ]
  },
  {
   "cell_type": "code",
   "execution_count": null,
   "id": "56ac65a8",
   "metadata": {},
   "outputs": [],
   "source": [
    "print('Accuracy of KNN classifier on training set: {:.2f}'\n",
    "     .format(knn.score(X_train, y_train)))\n"
   ]
  },
  {
   "cell_type": "code",
   "execution_count": null,
   "id": "936f3130",
   "metadata": {},
   "outputs": [],
   "source": [
    "knn15 = KNeighborsClassifier(n_neighbors=3, weights='uniform')"
   ]
  },
  {
   "cell_type": "code",
   "execution_count": null,
   "id": "b8b19f15",
   "metadata": {},
   "outputs": [],
   "source": [
    "knn15.fit(X_train, y_train)\n"
   ]
  },
  {
   "cell_type": "code",
   "execution_count": null,
   "id": "be7a7f16",
   "metadata": {},
   "outputs": [],
   "source": [
    "print('Accuracy of KNN KNN=15 classifier on training set: {:.2f}'\n",
    "     .format(knn15.score(X_train, y_train)))\n"
   ]
  },
  {
   "cell_type": "code",
   "execution_count": null,
   "id": "3a6d0d45",
   "metadata": {},
   "outputs": [],
   "source": [
    "print(confusion_matrix(y_train, y_pred))\n"
   ]
  },
  {
   "cell_type": "code",
   "execution_count": null,
   "id": "bade7c5a",
   "metadata": {},
   "outputs": [],
   "source": [
    "print(classification_report(y_train, y_pred))\n"
   ]
  },
  {
   "cell_type": "code",
   "execution_count": null,
   "id": "f0f7f09b",
   "metadata": {},
   "outputs": [],
   "source": [
    "print('Accuracy of KNN classifier on validate set: {:.2f}'\n",
    "     .format(knn.score(X_validate, y_validate)))\n"
   ]
  },
  {
   "cell_type": "code",
   "execution_count": null,
   "id": "0ff53fbb",
   "metadata": {},
   "outputs": [],
   "source": [
    "k_range = range(1, 20)\n",
    "train_scores = []\n",
    "validate_scores = []\n",
    "for k in k_range:\n",
    "    knn = KNeighborsClassifier(n_neighbors = k)\n",
    "    knn.fit(X_train, y_train)\n",
    "    train_scores.append(knn.score(X_train, y_train))\n",
    "    validate_scores.append(knn.score(X_validate, y_validate))\n",
    "plt.figure()\n",
    "plt.xlabel('k')\n",
    "plt.ylabel('accuracy')\n",
    "plt.plot(k_range, train_scores, label='Train')\n",
    "plt.plot(k_range, validate_scores, label='Validate')\n",
    "plt.legend()\n",
    "plt.xticks([0,5,10,15,20])\n",
    "plt.show()"
   ]
  },
  {
   "cell_type": "code",
   "execution_count": null,
   "id": "fd7f4a37",
   "metadata": {},
   "outputs": [],
   "source": []
  },
  {
   "cell_type": "code",
   "execution_count": null,
   "id": "cabc9ab7",
   "metadata": {},
   "outputs": [],
   "source": []
  },
  {
   "cell_type": "code",
   "execution_count": null,
   "id": "0f5d6e65",
   "metadata": {},
   "outputs": [],
   "source": []
  },
  {
   "cell_type": "code",
   "execution_count": null,
   "id": "84b029c9",
   "metadata": {},
   "outputs": [],
   "source": []
  },
  {
   "cell_type": "code",
   "execution_count": null,
   "id": "4013bc11",
   "metadata": {},
   "outputs": [],
   "source": []
  },
  {
   "cell_type": "code",
   "execution_count": null,
   "id": "8cf3fe85",
   "metadata": {},
   "outputs": [],
   "source": []
  }
 ],
 "metadata": {
  "kernelspec": {
   "display_name": "Python 3 (ipykernel)",
   "language": "python",
   "name": "python3"
  },
  "language_info": {
   "codemirror_mode": {
    "name": "ipython",
    "version": 3
   },
   "file_extension": ".py",
   "mimetype": "text/x-python",
   "name": "python",
   "nbconvert_exporter": "python",
   "pygments_lexer": "ipython3",
   "version": "3.9.12"
  }
 },
 "nbformat": 4,
 "nbformat_minor": 5
}
