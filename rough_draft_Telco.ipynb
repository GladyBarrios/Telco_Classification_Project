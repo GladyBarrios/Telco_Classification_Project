{
 "cells": [
  {
   "cell_type": "code",
   "execution_count": 1,
   "id": "cf91cd1e",
   "metadata": {},
   "outputs": [],
   "source": [
    "import pandas as pd\n",
    "import numpy as np\n",
    "\n",
    "import matplotlib.pyplot as plt\n",
    "import seaborn as sns\n",
    "\n",
    "import warnings\n",
    "warnings.filterwarnings(\"ignore\")\n",
    "\n",
    "import acquire\n",
    "import prepare\n",
    "\n",
    "from scipy import stats\n",
    "from sklearn.model_selection import train_test_split\n",
    "\n",
    "np.random.seed(123)"
   ]
  },
  {
   "cell_type": "markdown",
   "id": "035a2851",
   "metadata": {},
   "source": [
    "# Data Wrangling "
   ]
  },
  {
   "cell_type": "code",
   "execution_count": 2,
   "id": "d2dfc024",
   "metadata": {},
   "outputs": [],
   "source": [
    "import acquire"
   ]
  },
  {
   "cell_type": "code",
   "execution_count": 3,
   "id": "1641eef2",
   "metadata": {
    "scrolled": true
   },
   "outputs": [
    {
     "data": {
      "text/html": [
       "<div>\n",
       "<style scoped>\n",
       "    .dataframe tbody tr th:only-of-type {\n",
       "        vertical-align: middle;\n",
       "    }\n",
       "\n",
       "    .dataframe tbody tr th {\n",
       "        vertical-align: top;\n",
       "    }\n",
       "\n",
       "    .dataframe thead th {\n",
       "        text-align: right;\n",
       "    }\n",
       "</style>\n",
       "<table border=\"1\" class=\"dataframe\">\n",
       "  <thead>\n",
       "    <tr style=\"text-align: right;\">\n",
       "      <th></th>\n",
       "      <th>payment_type_id</th>\n",
       "      <th>internet_service_type_id</th>\n",
       "      <th>contract_type_id</th>\n",
       "      <th>customer_id</th>\n",
       "      <th>gender</th>\n",
       "      <th>senior_citizen</th>\n",
       "      <th>partner</th>\n",
       "      <th>dependents</th>\n",
       "      <th>tenure</th>\n",
       "      <th>phone_service</th>\n",
       "      <th>...</th>\n",
       "      <th>tech_support</th>\n",
       "      <th>streaming_tv</th>\n",
       "      <th>streaming_movies</th>\n",
       "      <th>paperless_billing</th>\n",
       "      <th>monthly_charges</th>\n",
       "      <th>total_charges</th>\n",
       "      <th>churn</th>\n",
       "      <th>contract_type</th>\n",
       "      <th>internet_service_type</th>\n",
       "      <th>payment_type</th>\n",
       "    </tr>\n",
       "  </thead>\n",
       "  <tbody>\n",
       "    <tr>\n",
       "      <th>0</th>\n",
       "      <td>2</td>\n",
       "      <td>1</td>\n",
       "      <td>2</td>\n",
       "      <td>0002-ORFBO</td>\n",
       "      <td>Female</td>\n",
       "      <td>0</td>\n",
       "      <td>Yes</td>\n",
       "      <td>Yes</td>\n",
       "      <td>9</td>\n",
       "      <td>Yes</td>\n",
       "      <td>...</td>\n",
       "      <td>Yes</td>\n",
       "      <td>Yes</td>\n",
       "      <td>No</td>\n",
       "      <td>Yes</td>\n",
       "      <td>65.60</td>\n",
       "      <td>593.3</td>\n",
       "      <td>No</td>\n",
       "      <td>One year</td>\n",
       "      <td>DSL</td>\n",
       "      <td>Mailed check</td>\n",
       "    </tr>\n",
       "    <tr>\n",
       "      <th>1</th>\n",
       "      <td>2</td>\n",
       "      <td>1</td>\n",
       "      <td>1</td>\n",
       "      <td>0003-MKNFE</td>\n",
       "      <td>Male</td>\n",
       "      <td>0</td>\n",
       "      <td>No</td>\n",
       "      <td>No</td>\n",
       "      <td>9</td>\n",
       "      <td>Yes</td>\n",
       "      <td>...</td>\n",
       "      <td>No</td>\n",
       "      <td>No</td>\n",
       "      <td>Yes</td>\n",
       "      <td>No</td>\n",
       "      <td>59.90</td>\n",
       "      <td>542.4</td>\n",
       "      <td>No</td>\n",
       "      <td>Month-to-month</td>\n",
       "      <td>DSL</td>\n",
       "      <td>Mailed check</td>\n",
       "    </tr>\n",
       "    <tr>\n",
       "      <th>2</th>\n",
       "      <td>1</td>\n",
       "      <td>2</td>\n",
       "      <td>1</td>\n",
       "      <td>0004-TLHLJ</td>\n",
       "      <td>Male</td>\n",
       "      <td>0</td>\n",
       "      <td>No</td>\n",
       "      <td>No</td>\n",
       "      <td>4</td>\n",
       "      <td>Yes</td>\n",
       "      <td>...</td>\n",
       "      <td>No</td>\n",
       "      <td>No</td>\n",
       "      <td>No</td>\n",
       "      <td>Yes</td>\n",
       "      <td>73.90</td>\n",
       "      <td>280.85</td>\n",
       "      <td>Yes</td>\n",
       "      <td>Month-to-month</td>\n",
       "      <td>Fiber optic</td>\n",
       "      <td>Electronic check</td>\n",
       "    </tr>\n",
       "    <tr>\n",
       "      <th>3</th>\n",
       "      <td>1</td>\n",
       "      <td>2</td>\n",
       "      <td>1</td>\n",
       "      <td>0011-IGKFF</td>\n",
       "      <td>Male</td>\n",
       "      <td>1</td>\n",
       "      <td>Yes</td>\n",
       "      <td>No</td>\n",
       "      <td>13</td>\n",
       "      <td>Yes</td>\n",
       "      <td>...</td>\n",
       "      <td>No</td>\n",
       "      <td>Yes</td>\n",
       "      <td>Yes</td>\n",
       "      <td>Yes</td>\n",
       "      <td>98.00</td>\n",
       "      <td>1237.85</td>\n",
       "      <td>Yes</td>\n",
       "      <td>Month-to-month</td>\n",
       "      <td>Fiber optic</td>\n",
       "      <td>Electronic check</td>\n",
       "    </tr>\n",
       "    <tr>\n",
       "      <th>4</th>\n",
       "      <td>2</td>\n",
       "      <td>2</td>\n",
       "      <td>1</td>\n",
       "      <td>0013-EXCHZ</td>\n",
       "      <td>Female</td>\n",
       "      <td>1</td>\n",
       "      <td>Yes</td>\n",
       "      <td>No</td>\n",
       "      <td>3</td>\n",
       "      <td>Yes</td>\n",
       "      <td>...</td>\n",
       "      <td>Yes</td>\n",
       "      <td>Yes</td>\n",
       "      <td>No</td>\n",
       "      <td>Yes</td>\n",
       "      <td>83.90</td>\n",
       "      <td>267.4</td>\n",
       "      <td>Yes</td>\n",
       "      <td>Month-to-month</td>\n",
       "      <td>Fiber optic</td>\n",
       "      <td>Mailed check</td>\n",
       "    </tr>\n",
       "    <tr>\n",
       "      <th>...</th>\n",
       "      <td>...</td>\n",
       "      <td>...</td>\n",
       "      <td>...</td>\n",
       "      <td>...</td>\n",
       "      <td>...</td>\n",
       "      <td>...</td>\n",
       "      <td>...</td>\n",
       "      <td>...</td>\n",
       "      <td>...</td>\n",
       "      <td>...</td>\n",
       "      <td>...</td>\n",
       "      <td>...</td>\n",
       "      <td>...</td>\n",
       "      <td>...</td>\n",
       "      <td>...</td>\n",
       "      <td>...</td>\n",
       "      <td>...</td>\n",
       "      <td>...</td>\n",
       "      <td>...</td>\n",
       "      <td>...</td>\n",
       "      <td>...</td>\n",
       "    </tr>\n",
       "    <tr>\n",
       "      <th>7038</th>\n",
       "      <td>2</td>\n",
       "      <td>1</td>\n",
       "      <td>2</td>\n",
       "      <td>9987-LUTYD</td>\n",
       "      <td>Female</td>\n",
       "      <td>0</td>\n",
       "      <td>No</td>\n",
       "      <td>No</td>\n",
       "      <td>13</td>\n",
       "      <td>Yes</td>\n",
       "      <td>...</td>\n",
       "      <td>Yes</td>\n",
       "      <td>No</td>\n",
       "      <td>No</td>\n",
       "      <td>No</td>\n",
       "      <td>55.15</td>\n",
       "      <td>742.9</td>\n",
       "      <td>No</td>\n",
       "      <td>One year</td>\n",
       "      <td>DSL</td>\n",
       "      <td>Mailed check</td>\n",
       "    </tr>\n",
       "    <tr>\n",
       "      <th>7039</th>\n",
       "      <td>1</td>\n",
       "      <td>2</td>\n",
       "      <td>1</td>\n",
       "      <td>9992-RRAMN</td>\n",
       "      <td>Male</td>\n",
       "      <td>0</td>\n",
       "      <td>Yes</td>\n",
       "      <td>No</td>\n",
       "      <td>22</td>\n",
       "      <td>Yes</td>\n",
       "      <td>...</td>\n",
       "      <td>No</td>\n",
       "      <td>No</td>\n",
       "      <td>Yes</td>\n",
       "      <td>Yes</td>\n",
       "      <td>85.10</td>\n",
       "      <td>1873.7</td>\n",
       "      <td>Yes</td>\n",
       "      <td>Month-to-month</td>\n",
       "      <td>Fiber optic</td>\n",
       "      <td>Electronic check</td>\n",
       "    </tr>\n",
       "    <tr>\n",
       "      <th>7040</th>\n",
       "      <td>2</td>\n",
       "      <td>1</td>\n",
       "      <td>1</td>\n",
       "      <td>9992-UJOEL</td>\n",
       "      <td>Male</td>\n",
       "      <td>0</td>\n",
       "      <td>No</td>\n",
       "      <td>No</td>\n",
       "      <td>2</td>\n",
       "      <td>Yes</td>\n",
       "      <td>...</td>\n",
       "      <td>No</td>\n",
       "      <td>No</td>\n",
       "      <td>No</td>\n",
       "      <td>Yes</td>\n",
       "      <td>50.30</td>\n",
       "      <td>92.75</td>\n",
       "      <td>No</td>\n",
       "      <td>Month-to-month</td>\n",
       "      <td>DSL</td>\n",
       "      <td>Mailed check</td>\n",
       "    </tr>\n",
       "    <tr>\n",
       "      <th>7041</th>\n",
       "      <td>2</td>\n",
       "      <td>1</td>\n",
       "      <td>3</td>\n",
       "      <td>9993-LHIEB</td>\n",
       "      <td>Male</td>\n",
       "      <td>0</td>\n",
       "      <td>Yes</td>\n",
       "      <td>Yes</td>\n",
       "      <td>67</td>\n",
       "      <td>Yes</td>\n",
       "      <td>...</td>\n",
       "      <td>Yes</td>\n",
       "      <td>No</td>\n",
       "      <td>Yes</td>\n",
       "      <td>No</td>\n",
       "      <td>67.85</td>\n",
       "      <td>4627.65</td>\n",
       "      <td>No</td>\n",
       "      <td>Two year</td>\n",
       "      <td>DSL</td>\n",
       "      <td>Mailed check</td>\n",
       "    </tr>\n",
       "    <tr>\n",
       "      <th>7042</th>\n",
       "      <td>1</td>\n",
       "      <td>1</td>\n",
       "      <td>3</td>\n",
       "      <td>9995-HOTOH</td>\n",
       "      <td>Male</td>\n",
       "      <td>0</td>\n",
       "      <td>Yes</td>\n",
       "      <td>Yes</td>\n",
       "      <td>63</td>\n",
       "      <td>No</td>\n",
       "      <td>...</td>\n",
       "      <td>No</td>\n",
       "      <td>Yes</td>\n",
       "      <td>Yes</td>\n",
       "      <td>No</td>\n",
       "      <td>59.00</td>\n",
       "      <td>3707.6</td>\n",
       "      <td>No</td>\n",
       "      <td>Two year</td>\n",
       "      <td>DSL</td>\n",
       "      <td>Electronic check</td>\n",
       "    </tr>\n",
       "  </tbody>\n",
       "</table>\n",
       "<p>7043 rows × 24 columns</p>\n",
       "</div>"
      ],
      "text/plain": [
       "      payment_type_id  internet_service_type_id  contract_type_id customer_id  \\\n",
       "0                   2                         1                 2  0002-ORFBO   \n",
       "1                   2                         1                 1  0003-MKNFE   \n",
       "2                   1                         2                 1  0004-TLHLJ   \n",
       "3                   1                         2                 1  0011-IGKFF   \n",
       "4                   2                         2                 1  0013-EXCHZ   \n",
       "...               ...                       ...               ...         ...   \n",
       "7038                2                         1                 2  9987-LUTYD   \n",
       "7039                1                         2                 1  9992-RRAMN   \n",
       "7040                2                         1                 1  9992-UJOEL   \n",
       "7041                2                         1                 3  9993-LHIEB   \n",
       "7042                1                         1                 3  9995-HOTOH   \n",
       "\n",
       "      gender  senior_citizen partner dependents  tenure phone_service  ...  \\\n",
       "0     Female               0     Yes        Yes       9           Yes  ...   \n",
       "1       Male               0      No         No       9           Yes  ...   \n",
       "2       Male               0      No         No       4           Yes  ...   \n",
       "3       Male               1     Yes         No      13           Yes  ...   \n",
       "4     Female               1     Yes         No       3           Yes  ...   \n",
       "...      ...             ...     ...        ...     ...           ...  ...   \n",
       "7038  Female               0      No         No      13           Yes  ...   \n",
       "7039    Male               0     Yes         No      22           Yes  ...   \n",
       "7040    Male               0      No         No       2           Yes  ...   \n",
       "7041    Male               0     Yes        Yes      67           Yes  ...   \n",
       "7042    Male               0     Yes        Yes      63            No  ...   \n",
       "\n",
       "     tech_support streaming_tv streaming_movies paperless_billing  \\\n",
       "0             Yes          Yes               No               Yes   \n",
       "1              No           No              Yes                No   \n",
       "2              No           No               No               Yes   \n",
       "3              No          Yes              Yes               Yes   \n",
       "4             Yes          Yes               No               Yes   \n",
       "...           ...          ...              ...               ...   \n",
       "7038          Yes           No               No                No   \n",
       "7039           No           No              Yes               Yes   \n",
       "7040           No           No               No               Yes   \n",
       "7041          Yes           No              Yes                No   \n",
       "7042           No          Yes              Yes                No   \n",
       "\n",
       "     monthly_charges total_charges churn   contract_type  \\\n",
       "0              65.60         593.3    No        One year   \n",
       "1              59.90         542.4    No  Month-to-month   \n",
       "2              73.90        280.85   Yes  Month-to-month   \n",
       "3              98.00       1237.85   Yes  Month-to-month   \n",
       "4              83.90         267.4   Yes  Month-to-month   \n",
       "...              ...           ...   ...             ...   \n",
       "7038           55.15         742.9    No        One year   \n",
       "7039           85.10        1873.7   Yes  Month-to-month   \n",
       "7040           50.30         92.75    No  Month-to-month   \n",
       "7041           67.85       4627.65    No        Two year   \n",
       "7042           59.00        3707.6    No        Two year   \n",
       "\n",
       "      internet_service_type      payment_type  \n",
       "0                       DSL      Mailed check  \n",
       "1                       DSL      Mailed check  \n",
       "2               Fiber optic  Electronic check  \n",
       "3               Fiber optic  Electronic check  \n",
       "4               Fiber optic      Mailed check  \n",
       "...                     ...               ...  \n",
       "7038                    DSL      Mailed check  \n",
       "7039            Fiber optic  Electronic check  \n",
       "7040                    DSL      Mailed check  \n",
       "7041                    DSL      Mailed check  \n",
       "7042                    DSL  Electronic check  \n",
       "\n",
       "[7043 rows x 24 columns]"
      ]
     },
     "execution_count": 3,
     "metadata": {},
     "output_type": "execute_result"
    }
   ],
   "source": [
    "df = acquire.get_telco_data()\n",
    "df"
   ]
  },
  {
   "cell_type": "markdown",
   "id": "dc3c85f4",
   "metadata": {},
   "source": [
    "# Data PREP"
   ]
  },
  {
   "cell_type": "code",
   "execution_count": 4,
   "id": "030d6e31",
   "metadata": {},
   "outputs": [],
   "source": [
    "import prepare"
   ]
  },
  {
   "cell_type": "code",
   "execution_count": 5,
   "id": "296ceb0b",
   "metadata": {
    "scrolled": true
   },
   "outputs": [
    {
     "data": {
      "text/html": [
       "<div>\n",
       "<style scoped>\n",
       "    .dataframe tbody tr th:only-of-type {\n",
       "        vertical-align: middle;\n",
       "    }\n",
       "\n",
       "    .dataframe tbody tr th {\n",
       "        vertical-align: top;\n",
       "    }\n",
       "\n",
       "    .dataframe thead th {\n",
       "        text-align: right;\n",
       "    }\n",
       "</style>\n",
       "<table border=\"1\" class=\"dataframe\">\n",
       "  <thead>\n",
       "    <tr style=\"text-align: right;\">\n",
       "      <th></th>\n",
       "      <th>payment_type_id</th>\n",
       "      <th>internet_service_type_id</th>\n",
       "      <th>contract_type_id</th>\n",
       "      <th>customer_id</th>\n",
       "      <th>gender</th>\n",
       "      <th>senior_citizen</th>\n",
       "      <th>partner</th>\n",
       "      <th>dependents</th>\n",
       "      <th>tenure</th>\n",
       "      <th>phone_service</th>\n",
       "      <th>multiple_lines</th>\n",
       "      <th>online_security</th>\n",
       "      <th>online_backup</th>\n",
       "      <th>device_protection</th>\n",
       "      <th>tech_support</th>\n",
       "      <th>streaming_tv</th>\n",
       "      <th>streaming_movies</th>\n",
       "      <th>paperless_billing</th>\n",
       "      <th>monthly_charges</th>\n",
       "      <th>total_charges</th>\n",
       "      <th>churn</th>\n",
       "      <th>contract_type</th>\n",
       "      <th>internet_service_type</th>\n",
       "      <th>payment_type</th>\n",
       "      <th>gender_encoded</th>\n",
       "      <th>partner_encoded</th>\n",
       "      <th>dependents_encoded</th>\n",
       "      <th>phone_service_encoded</th>\n",
       "      <th>paperless_billing_encoded</th>\n",
       "      <th>churn_encoded</th>\n",
       "      <th>multiple_lines_No phone service</th>\n",
       "      <th>multiple_lines_Yes</th>\n",
       "      <th>online_security_No internet service</th>\n",
       "      <th>online_security_Yes</th>\n",
       "      <th>online_backup_No internet service</th>\n",
       "      <th>online_backup_Yes</th>\n",
       "      <th>device_protection_No internet service</th>\n",
       "      <th>device_protection_Yes</th>\n",
       "      <th>tech_support_No internet service</th>\n",
       "      <th>tech_support_Yes</th>\n",
       "      <th>streaming_tv_No internet service</th>\n",
       "      <th>streaming_tv_Yes</th>\n",
       "      <th>streaming_movies_No internet service</th>\n",
       "      <th>streaming_movies_Yes</th>\n",
       "      <th>contract_type_One year</th>\n",
       "      <th>contract_type_Two year</th>\n",
       "      <th>internet_service_type_Fiber optic</th>\n",
       "      <th>internet_service_type_None</th>\n",
       "      <th>payment_type_Credit card (automatic)</th>\n",
       "      <th>payment_type_Electronic check</th>\n",
       "      <th>payment_type_Mailed check</th>\n",
       "    </tr>\n",
       "  </thead>\n",
       "  <tbody>\n",
       "    <tr>\n",
       "      <th>0</th>\n",
       "      <td>2</td>\n",
       "      <td>1</td>\n",
       "      <td>2</td>\n",
       "      <td>0002-ORFBO</td>\n",
       "      <td>Female</td>\n",
       "      <td>0</td>\n",
       "      <td>Yes</td>\n",
       "      <td>Yes</td>\n",
       "      <td>9</td>\n",
       "      <td>Yes</td>\n",
       "      <td>No</td>\n",
       "      <td>No</td>\n",
       "      <td>Yes</td>\n",
       "      <td>No</td>\n",
       "      <td>Yes</td>\n",
       "      <td>Yes</td>\n",
       "      <td>No</td>\n",
       "      <td>Yes</td>\n",
       "      <td>65.6</td>\n",
       "      <td>593.30</td>\n",
       "      <td>No</td>\n",
       "      <td>One year</td>\n",
       "      <td>DSL</td>\n",
       "      <td>Mailed check</td>\n",
       "      <td>1</td>\n",
       "      <td>1</td>\n",
       "      <td>1</td>\n",
       "      <td>1</td>\n",
       "      <td>1</td>\n",
       "      <td>0</td>\n",
       "      <td>0</td>\n",
       "      <td>0</td>\n",
       "      <td>0</td>\n",
       "      <td>0</td>\n",
       "      <td>0</td>\n",
       "      <td>1</td>\n",
       "      <td>0</td>\n",
       "      <td>0</td>\n",
       "      <td>0</td>\n",
       "      <td>1</td>\n",
       "      <td>0</td>\n",
       "      <td>1</td>\n",
       "      <td>0</td>\n",
       "      <td>0</td>\n",
       "      <td>1</td>\n",
       "      <td>0</td>\n",
       "      <td>0</td>\n",
       "      <td>0</td>\n",
       "      <td>0</td>\n",
       "      <td>0</td>\n",
       "      <td>1</td>\n",
       "    </tr>\n",
       "    <tr>\n",
       "      <th>1</th>\n",
       "      <td>2</td>\n",
       "      <td>1</td>\n",
       "      <td>1</td>\n",
       "      <td>0003-MKNFE</td>\n",
       "      <td>Male</td>\n",
       "      <td>0</td>\n",
       "      <td>No</td>\n",
       "      <td>No</td>\n",
       "      <td>9</td>\n",
       "      <td>Yes</td>\n",
       "      <td>Yes</td>\n",
       "      <td>No</td>\n",
       "      <td>No</td>\n",
       "      <td>No</td>\n",
       "      <td>No</td>\n",
       "      <td>No</td>\n",
       "      <td>Yes</td>\n",
       "      <td>No</td>\n",
       "      <td>59.9</td>\n",
       "      <td>542.40</td>\n",
       "      <td>No</td>\n",
       "      <td>Month-to-month</td>\n",
       "      <td>DSL</td>\n",
       "      <td>Mailed check</td>\n",
       "      <td>0</td>\n",
       "      <td>0</td>\n",
       "      <td>0</td>\n",
       "      <td>1</td>\n",
       "      <td>0</td>\n",
       "      <td>0</td>\n",
       "      <td>0</td>\n",
       "      <td>1</td>\n",
       "      <td>0</td>\n",
       "      <td>0</td>\n",
       "      <td>0</td>\n",
       "      <td>0</td>\n",
       "      <td>0</td>\n",
       "      <td>0</td>\n",
       "      <td>0</td>\n",
       "      <td>0</td>\n",
       "      <td>0</td>\n",
       "      <td>0</td>\n",
       "      <td>0</td>\n",
       "      <td>1</td>\n",
       "      <td>0</td>\n",
       "      <td>0</td>\n",
       "      <td>0</td>\n",
       "      <td>0</td>\n",
       "      <td>0</td>\n",
       "      <td>0</td>\n",
       "      <td>1</td>\n",
       "    </tr>\n",
       "    <tr>\n",
       "      <th>2</th>\n",
       "      <td>1</td>\n",
       "      <td>2</td>\n",
       "      <td>1</td>\n",
       "      <td>0004-TLHLJ</td>\n",
       "      <td>Male</td>\n",
       "      <td>0</td>\n",
       "      <td>No</td>\n",
       "      <td>No</td>\n",
       "      <td>4</td>\n",
       "      <td>Yes</td>\n",
       "      <td>No</td>\n",
       "      <td>No</td>\n",
       "      <td>No</td>\n",
       "      <td>Yes</td>\n",
       "      <td>No</td>\n",
       "      <td>No</td>\n",
       "      <td>No</td>\n",
       "      <td>Yes</td>\n",
       "      <td>73.9</td>\n",
       "      <td>280.85</td>\n",
       "      <td>Yes</td>\n",
       "      <td>Month-to-month</td>\n",
       "      <td>Fiber optic</td>\n",
       "      <td>Electronic check</td>\n",
       "      <td>0</td>\n",
       "      <td>0</td>\n",
       "      <td>0</td>\n",
       "      <td>1</td>\n",
       "      <td>1</td>\n",
       "      <td>1</td>\n",
       "      <td>0</td>\n",
       "      <td>0</td>\n",
       "      <td>0</td>\n",
       "      <td>0</td>\n",
       "      <td>0</td>\n",
       "      <td>0</td>\n",
       "      <td>0</td>\n",
       "      <td>1</td>\n",
       "      <td>0</td>\n",
       "      <td>0</td>\n",
       "      <td>0</td>\n",
       "      <td>0</td>\n",
       "      <td>0</td>\n",
       "      <td>0</td>\n",
       "      <td>0</td>\n",
       "      <td>0</td>\n",
       "      <td>1</td>\n",
       "      <td>0</td>\n",
       "      <td>0</td>\n",
       "      <td>1</td>\n",
       "      <td>0</td>\n",
       "    </tr>\n",
       "    <tr>\n",
       "      <th>3</th>\n",
       "      <td>1</td>\n",
       "      <td>2</td>\n",
       "      <td>1</td>\n",
       "      <td>0011-IGKFF</td>\n",
       "      <td>Male</td>\n",
       "      <td>1</td>\n",
       "      <td>Yes</td>\n",
       "      <td>No</td>\n",
       "      <td>13</td>\n",
       "      <td>Yes</td>\n",
       "      <td>No</td>\n",
       "      <td>No</td>\n",
       "      <td>Yes</td>\n",
       "      <td>Yes</td>\n",
       "      <td>No</td>\n",
       "      <td>Yes</td>\n",
       "      <td>Yes</td>\n",
       "      <td>Yes</td>\n",
       "      <td>98.0</td>\n",
       "      <td>1237.85</td>\n",
       "      <td>Yes</td>\n",
       "      <td>Month-to-month</td>\n",
       "      <td>Fiber optic</td>\n",
       "      <td>Electronic check</td>\n",
       "      <td>0</td>\n",
       "      <td>1</td>\n",
       "      <td>0</td>\n",
       "      <td>1</td>\n",
       "      <td>1</td>\n",
       "      <td>1</td>\n",
       "      <td>0</td>\n",
       "      <td>0</td>\n",
       "      <td>0</td>\n",
       "      <td>0</td>\n",
       "      <td>0</td>\n",
       "      <td>1</td>\n",
       "      <td>0</td>\n",
       "      <td>1</td>\n",
       "      <td>0</td>\n",
       "      <td>0</td>\n",
       "      <td>0</td>\n",
       "      <td>1</td>\n",
       "      <td>0</td>\n",
       "      <td>1</td>\n",
       "      <td>0</td>\n",
       "      <td>0</td>\n",
       "      <td>1</td>\n",
       "      <td>0</td>\n",
       "      <td>0</td>\n",
       "      <td>1</td>\n",
       "      <td>0</td>\n",
       "    </tr>\n",
       "    <tr>\n",
       "      <th>4</th>\n",
       "      <td>2</td>\n",
       "      <td>2</td>\n",
       "      <td>1</td>\n",
       "      <td>0013-EXCHZ</td>\n",
       "      <td>Female</td>\n",
       "      <td>1</td>\n",
       "      <td>Yes</td>\n",
       "      <td>No</td>\n",
       "      <td>3</td>\n",
       "      <td>Yes</td>\n",
       "      <td>No</td>\n",
       "      <td>No</td>\n",
       "      <td>No</td>\n",
       "      <td>No</td>\n",
       "      <td>Yes</td>\n",
       "      <td>Yes</td>\n",
       "      <td>No</td>\n",
       "      <td>Yes</td>\n",
       "      <td>83.9</td>\n",
       "      <td>267.40</td>\n",
       "      <td>Yes</td>\n",
       "      <td>Month-to-month</td>\n",
       "      <td>Fiber optic</td>\n",
       "      <td>Mailed check</td>\n",
       "      <td>1</td>\n",
       "      <td>1</td>\n",
       "      <td>0</td>\n",
       "      <td>1</td>\n",
       "      <td>1</td>\n",
       "      <td>1</td>\n",
       "      <td>0</td>\n",
       "      <td>0</td>\n",
       "      <td>0</td>\n",
       "      <td>0</td>\n",
       "      <td>0</td>\n",
       "      <td>0</td>\n",
       "      <td>0</td>\n",
       "      <td>0</td>\n",
       "      <td>0</td>\n",
       "      <td>1</td>\n",
       "      <td>0</td>\n",
       "      <td>1</td>\n",
       "      <td>0</td>\n",
       "      <td>0</td>\n",
       "      <td>0</td>\n",
       "      <td>0</td>\n",
       "      <td>1</td>\n",
       "      <td>0</td>\n",
       "      <td>0</td>\n",
       "      <td>0</td>\n",
       "      <td>1</td>\n",
       "    </tr>\n",
       "  </tbody>\n",
       "</table>\n",
       "</div>"
      ],
      "text/plain": [
       "   payment_type_id  internet_service_type_id  contract_type_id customer_id  \\\n",
       "0                2                         1                 2  0002-ORFBO   \n",
       "1                2                         1                 1  0003-MKNFE   \n",
       "2                1                         2                 1  0004-TLHLJ   \n",
       "3                1                         2                 1  0011-IGKFF   \n",
       "4                2                         2                 1  0013-EXCHZ   \n",
       "\n",
       "   gender  senior_citizen partner dependents  tenure phone_service  \\\n",
       "0  Female               0     Yes        Yes       9           Yes   \n",
       "1    Male               0      No         No       9           Yes   \n",
       "2    Male               0      No         No       4           Yes   \n",
       "3    Male               1     Yes         No      13           Yes   \n",
       "4  Female               1     Yes         No       3           Yes   \n",
       "\n",
       "  multiple_lines online_security online_backup device_protection tech_support  \\\n",
       "0             No              No           Yes                No          Yes   \n",
       "1            Yes              No            No                No           No   \n",
       "2             No              No            No               Yes           No   \n",
       "3             No              No           Yes               Yes           No   \n",
       "4             No              No            No                No          Yes   \n",
       "\n",
       "  streaming_tv streaming_movies paperless_billing  monthly_charges  \\\n",
       "0          Yes               No               Yes             65.6   \n",
       "1           No              Yes                No             59.9   \n",
       "2           No               No               Yes             73.9   \n",
       "3          Yes              Yes               Yes             98.0   \n",
       "4          Yes               No               Yes             83.9   \n",
       "\n",
       "   total_charges churn   contract_type internet_service_type  \\\n",
       "0         593.30    No        One year                   DSL   \n",
       "1         542.40    No  Month-to-month                   DSL   \n",
       "2         280.85   Yes  Month-to-month           Fiber optic   \n",
       "3        1237.85   Yes  Month-to-month           Fiber optic   \n",
       "4         267.40   Yes  Month-to-month           Fiber optic   \n",
       "\n",
       "       payment_type  gender_encoded  partner_encoded  dependents_encoded  \\\n",
       "0      Mailed check               1                1                   1   \n",
       "1      Mailed check               0                0                   0   \n",
       "2  Electronic check               0                0                   0   \n",
       "3  Electronic check               0                1                   0   \n",
       "4      Mailed check               1                1                   0   \n",
       "\n",
       "   phone_service_encoded  paperless_billing_encoded  churn_encoded  \\\n",
       "0                      1                          1              0   \n",
       "1                      1                          0              0   \n",
       "2                      1                          1              1   \n",
       "3                      1                          1              1   \n",
       "4                      1                          1              1   \n",
       "\n",
       "   multiple_lines_No phone service  multiple_lines_Yes  \\\n",
       "0                                0                   0   \n",
       "1                                0                   1   \n",
       "2                                0                   0   \n",
       "3                                0                   0   \n",
       "4                                0                   0   \n",
       "\n",
       "   online_security_No internet service  online_security_Yes  \\\n",
       "0                                    0                    0   \n",
       "1                                    0                    0   \n",
       "2                                    0                    0   \n",
       "3                                    0                    0   \n",
       "4                                    0                    0   \n",
       "\n",
       "   online_backup_No internet service  online_backup_Yes  \\\n",
       "0                                  0                  1   \n",
       "1                                  0                  0   \n",
       "2                                  0                  0   \n",
       "3                                  0                  1   \n",
       "4                                  0                  0   \n",
       "\n",
       "   device_protection_No internet service  device_protection_Yes  \\\n",
       "0                                      0                      0   \n",
       "1                                      0                      0   \n",
       "2                                      0                      1   \n",
       "3                                      0                      1   \n",
       "4                                      0                      0   \n",
       "\n",
       "   tech_support_No internet service  tech_support_Yes  \\\n",
       "0                                 0                 1   \n",
       "1                                 0                 0   \n",
       "2                                 0                 0   \n",
       "3                                 0                 0   \n",
       "4                                 0                 1   \n",
       "\n",
       "   streaming_tv_No internet service  streaming_tv_Yes  \\\n",
       "0                                 0                 1   \n",
       "1                                 0                 0   \n",
       "2                                 0                 0   \n",
       "3                                 0                 1   \n",
       "4                                 0                 1   \n",
       "\n",
       "   streaming_movies_No internet service  streaming_movies_Yes  \\\n",
       "0                                     0                     0   \n",
       "1                                     0                     1   \n",
       "2                                     0                     0   \n",
       "3                                     0                     1   \n",
       "4                                     0                     0   \n",
       "\n",
       "   contract_type_One year  contract_type_Two year  \\\n",
       "0                       1                       0   \n",
       "1                       0                       0   \n",
       "2                       0                       0   \n",
       "3                       0                       0   \n",
       "4                       0                       0   \n",
       "\n",
       "   internet_service_type_Fiber optic  internet_service_type_None  \\\n",
       "0                                  0                           0   \n",
       "1                                  0                           0   \n",
       "2                                  1                           0   \n",
       "3                                  1                           0   \n",
       "4                                  1                           0   \n",
       "\n",
       "   payment_type_Credit card (automatic)  payment_type_Electronic check  \\\n",
       "0                                     0                              0   \n",
       "1                                     0                              0   \n",
       "2                                     0                              1   \n",
       "3                                     0                              1   \n",
       "4                                     0                              0   \n",
       "\n",
       "   payment_type_Mailed check  \n",
       "0                          1  \n",
       "1                          1  \n",
       "2                          0  \n",
       "3                          0  \n",
       "4                          1  "
      ]
     },
     "execution_count": 5,
     "metadata": {},
     "output_type": "execute_result"
    }
   ],
   "source": [
    "df = prepare.prep_telco_data(df)\n",
    "pd.set_option('display.max_columns', None)\n",
    "df.head()"
   ]
  },
  {
   "cell_type": "code",
   "execution_count": 6,
   "id": "8db3193f",
   "metadata": {},
   "outputs": [],
   "source": [
    "from prepare import split"
   ]
  },
  {
   "cell_type": "code",
   "execution_count": 7,
   "id": "3cc860f4",
   "metadata": {},
   "outputs": [
    {
     "data": {
      "text/plain": [
       "((3937, 51), (1688, 51), (1407, 51))"
      ]
     },
     "execution_count": 7,
     "metadata": {},
     "output_type": "execute_result"
    }
   ],
   "source": [
    "train, validate, test = prepare.split(df, stratify_by= 'churn')\n",
    "\n",
    "train.shape, validate.shape, test.shape\n"
   ]
  },
  {
   "cell_type": "code",
   "execution_count": null,
   "id": "d58add1e",
   "metadata": {
    "scrolled": true
   },
   "outputs": [],
   "source": [
    "df.info()"
   ]
  },
  {
   "cell_type": "code",
   "execution_count": null,
   "id": "70f7da5d",
   "metadata": {
    "scrolled": true
   },
   "outputs": [],
   "source": [
    " df = df.rename(columns= {'payment_type_Electronic check':'payment_type_Electronic_check'})"
   ]
  },
  {
   "cell_type": "code",
   "execution_count": null,
   "id": "be5b0d72",
   "metadata": {},
   "outputs": [],
   "source": [
    "df"
   ]
  },
  {
   "cell_type": "markdown",
   "id": "ddecc3eb",
   "metadata": {},
   "source": [
    "# set data contex "
   ]
  },
  {
   "cell_type": "code",
   "execution_count": null,
   "id": "9d52e60d",
   "metadata": {},
   "outputs": [],
   "source": [
    "df.isnull().sum()"
   ]
  },
  {
   "cell_type": "code",
   "execution_count": null,
   "id": "5e999c53",
   "metadata": {
    "scrolled": false
   },
   "outputs": [],
   "source": [
    "df.churn.value_counts().plot(kind= 'barh', color = [\"xkcd:sky blue\", \"g\"])\n",
    "plt.title(\"churned Customers\")"
   ]
  },
  {
   "cell_type": "code",
   "execution_count": null,
   "id": "7d25dce5",
   "metadata": {},
   "outputs": [],
   "source": [
    "sns.countplot(x='internet_service_type', data=df)"
   ]
  },
  {
   "cell_type": "code",
   "execution_count": null,
   "id": "b6d30534",
   "metadata": {},
   "outputs": [],
   "source": [
    "sns.countplot(x='senior_citizen', data=df)"
   ]
  },
  {
   "cell_type": "code",
   "execution_count": null,
   "id": "3bba9ed0",
   "metadata": {},
   "outputs": [],
   "source": [
    "sns.countplot(x='payment_type', data=df)"
   ]
  },
  {
   "cell_type": "code",
   "execution_count": null,
   "id": "777bf236",
   "metadata": {
    "scrolled": true
   },
   "outputs": [],
   "source": [
    "sns.countplot(x='internet_service_type', data=df)"
   ]
  },
  {
   "cell_type": "code",
   "execution_count": null,
   "id": "6dde15c3",
   "metadata": {},
   "outputs": [],
   "source": []
  },
  {
   "cell_type": "code",
   "execution_count": null,
   "id": "5414c768",
   "metadata": {},
   "outputs": [],
   "source": []
  },
  {
   "cell_type": "code",
   "execution_count": null,
   "id": "ee9b5bcb",
   "metadata": {},
   "outputs": [],
   "source": []
  },
  {
   "cell_type": "code",
   "execution_count": null,
   "id": "387b6082",
   "metadata": {},
   "outputs": [],
   "source": []
  },
  {
   "cell_type": "markdown",
   "id": "b52d8e8b",
   "metadata": {},
   "source": [
    "# Telco exploration "
   ]
  },
  {
   "cell_type": "markdown",
   "id": "d1a398b1",
   "metadata": {},
   "source": [
    "Univariate means a single variable, so we'll look at .value_counts() and histograms. - Explore the target variable itself. What is the distribution of values?\n",
    "\n",
    "have o ask at least 4 questions \n",
    "\n"
   ]
  },
  {
   "cell_type": "code",
   "execution_count": null,
   "id": "42789a66",
   "metadata": {
    "scrolled": true
   },
   "outputs": [],
   "source": [
    "train.churn.value_counts()\n",
    "#this is only going to be exploring the train data set "
   ]
  },
  {
   "cell_type": "markdown",
   "id": "3578437a",
   "metadata": {},
   "source": [
    "# Exploritoy Analysis: What is causing churn ?"
   ]
  },
  {
   "cell_type": "markdown",
   "id": "8f49081b",
   "metadata": {},
   "source": [
    "## Question 1 Are certain payment types indicators of churn  ?"
   ]
  },
  {
   "cell_type": "code",
   "execution_count": null,
   "id": "1772f863",
   "metadata": {},
   "outputs": [],
   "source": [
    "plt.figure(figsize=(8,5))\n",
    "sns.countplot(train['payment_type'],hue=train['churn'])\n",
    "plt.title(\"Churn and Payment Type\")"
   ]
  },
  {
   "cell_type": "code",
   "execution_count": null,
   "id": "9cab183a",
   "metadata": {
    "scrolled": true
   },
   "outputs": [],
   "source": [
    "# Let's run a chi squared to compare proportions, to have more confidence\n",
    "alpha = 0.05\n",
    "null_hypothesis = \"payment type and churn are independent\"\n",
    "alternative_hypothesis = \"there is a relationship between using an elecronic check and churn\"\n",
    "\n",
    "# Setup a crosstab of observed survival to pclass\n",
    "observed = pd.crosstab(train.churn, train.payment_type)\n",
    "\n",
    "chi2, p, degf, expected = stats.chi2_contingency(observed)\n",
    "\n",
    "if p < alpha:\n",
    "    print(\"Reject the null hypothesis that\", null_hypothesis)\n",
    "    print(\"Sufficient evidence to move forward understanding that\", alternative_hypothesis)\n",
    "else:\n",
    "    print(\"Fail to reject the null\")\n",
    "    print(\"Insufficient evidence to reject the null\")\n",
    "p\n"
   ]
  },
  {
   "cell_type": "markdown",
   "id": "bd4dc1e1",
   "metadata": {},
   "source": [
    "Based on our statistical ttes and our graph it does look like there is a relationship with our customers making payments using electronic checks than any other payment service"
   ]
  },
  {
   "cell_type": "markdown",
   "id": "bcf6ce0c",
   "metadata": {},
   "source": [
    "is there a ceratin age group that uses electronic checks ?"
   ]
  },
  {
   "cell_type": "code",
   "execution_count": null,
   "id": "d0c8cccc",
   "metadata": {},
   "outputs": [],
   "source": [
    "\n",
    "plt.figure(figsize=(8,5))\n",
    "sns.countplot(train['payment_type'],hue=train['senior_citizen'])"
   ]
  },
  {
   "cell_type": "code",
   "execution_count": null,
   "id": "6864cd4a",
   "metadata": {},
   "outputs": [],
   "source": []
  },
  {
   "cell_type": "markdown",
   "id": "3bbfa3af",
   "metadata": {},
   "source": [
    "##  Question 2 - Learning about our Seniors\n",
    "\n",
    "Are our senior citizen more likely to churn than non seniors ? "
   ]
  },
  {
   "cell_type": "markdown",
   "id": "e4114d5d",
   "metadata": {},
   "source": [
    "we can use this question to pin point the age demoghaphic to reduce the churn "
   ]
  },
  {
   "cell_type": "code",
   "execution_count": null,
   "id": "e0e467db",
   "metadata": {
    "scrolled": true
   },
   "outputs": [],
   "source": [
    "sns.catplot(x=\"senior_citizen\",hue = 'churn', data=train, kind='count')\n",
    "\n"
   ]
  },
  {
   "cell_type": "code",
   "execution_count": null,
   "id": "724c9799",
   "metadata": {
    "scrolled": true
   },
   "outputs": [],
   "source": [
    "pd.crosstab(train.senior_citizen, train.churn)"
   ]
  },
  {
   "cell_type": "code",
   "execution_count": null,
   "id": "5505d435",
   "metadata": {},
   "outputs": [],
   "source": []
  },
  {
   "cell_type": "code",
   "execution_count": null,
   "id": "eb8f9557",
   "metadata": {},
   "outputs": [],
   "source": [
    "# # senior subset  subset setup\n",
    "no_senior = train[train.senior_citizen == 0]\n",
    "\n",
    "yes_senior = train[train.senior_citizen == 1]"
   ]
  },
  {
   "cell_type": "code",
   "execution_count": null,
   "id": "e0b70216",
   "metadata": {
    "scrolled": false
   },
   "outputs": [],
   "source": [
    "# alpha = 0.05\n",
    "null_hypothesis = \"being a senior_citizen and churn are independent\"\n",
    "alternative_hypothesis = \"there is a relationship between churning and being a senior_citizen\"\n",
    "\n",
    "# # Setup a crosstab of observed survival to pclass\n",
    "observed = pd.crosstab(train.churn, train.senior_citizen)\n",
    "\n",
    "chi2, p, degf, expected = stats.chi2_contingency(observed)\n",
    "\n",
    "if p < alpha:\n",
    "    print(\"Reject the null hypothesis that\", null_hypothesis)\n",
    "    print(\"Sufficient evidence to move forward understanding that\", alternative_hypothesis)\n",
    "else:\n",
    "    print(\"Fail to reject the null\")\n",
    "    print(\"Insufficient evidence to reject the null\")\n",
    "p\n"
   ]
  },
  {
   "cell_type": "code",
   "execution_count": null,
   "id": "3c19ec1e",
   "metadata": {},
   "outputs": [],
   "source": []
  },
  {
   "cell_type": "markdown",
   "id": "ec8ed1fc",
   "metadata": {},
   "source": [
    "## Question 3 Do people who churn have higher monthly charges? "
   ]
  },
  {
   "cell_type": "markdown",
   "id": "33fdff82",
   "metadata": {},
   "source": [
    "##### sns.boxplot(x=\"churn\", y=\"monthly_charges\", data=train)\n"
   ]
  },
  {
   "cell_type": "code",
   "execution_count": null,
   "id": "2ca22415",
   "metadata": {},
   "outputs": [],
   "source": [
    "churn_sample = train[train.churn == 'Yes'].monthly_charges\n",
    "no_churn_sample = train[train.churn == 'No'].monthly_charges"
   ]
  },
  {
   "cell_type": "code",
   "execution_count": null,
   "id": "0f0d3495",
   "metadata": {},
   "outputs": [],
   "source": [
    "null_hypothesis = \"the monthly charges of customers who churn = the monthly charges of customer who do not churn\"\n",
    "alternative_hypothesis = \"the monthly charges of customers who churn =! the monthly customer who do not churn\"\n",
    "\n",
    "alpha = 0.05\n",
    "t, p = stats.ttest_ind(churn_sample,no_churn_sample, equal_var=False)\n",
    "\n",
    "if p < alpha:\n",
    "    print(\"We reject the null hypothesis that\", null_hypothesis)\n",
    "    print(\"Evidence suggests that\", alternative_hypothesis)\n",
    "else:\n",
    "    print(\"We fail to reject the null hypothesis\")\n",
    "    print(\"We find insufficient evidence to support the claim that\", alternative_hypothesis)\n",
    "p"
   ]
  },
  {
   "cell_type": "markdown",
   "id": "de7e7a98",
   "metadata": {},
   "source": [
    "# how are our senior citizens doing on monthly charges ?"
   ]
  },
  {
   "cell_type": "markdown",
   "id": "6c3289d6",
   "metadata": {},
   "source": [
    "here we are more so looking for the average monthly charges of seniors so we can get a idea of their churn rate based on monthly charges."
   ]
  },
  {
   "cell_type": "code",
   "execution_count": null,
   "id": "e2edf1ae",
   "metadata": {
    "scrolled": true
   },
   "outputs": [],
   "source": [
    "sns.boxplot(x='senior_citizen', y=\"monthly_charges\", data=train, palette ='Set2')"
   ]
  },
  {
   "cell_type": "code",
   "execution_count": null,
   "id": "c5fe512a",
   "metadata": {},
   "outputs": [],
   "source": [
    "senior_sample = train[train.senior_citizen == 1].monthly_charges\n",
    "not_senior_sample = train[train.senior_citizen == 0].monthly_charges"
   ]
  },
  {
   "cell_type": "code",
   "execution_count": null,
   "id": "a9333068",
   "metadata": {},
   "outputs": [],
   "source": [
    "null_hypothesis = \"the monthly charges of seniors is equal too the monthly charges of non-seniors\"\n",
    "alternative_hypothesis = \"the monthly charges of customers who are seniors is not equal too the customer who are not seniors\"\n",
    "\n",
    "alpha = 0.05\n",
    "t, p = stats.ttest_ind(senior_sample,not_senior_sample, equal_var=False)\n",
    "\n",
    "if p < alpha:\n",
    "    print(\"We reject the null hypothesis that\", null_hypothesis)\n",
    "    print(\"Evidence suggests that\", alternative_hypothesis)\n",
    "else:\n",
    "    print(\"We fail to reject the null hypothesis\")\n",
    "    print(\"We find insufficient evidence to support the claim that\", alternative_hypothesis)\n",
    "p"
   ]
  },
  {
   "cell_type": "code",
   "execution_count": null,
   "id": "75db4cba",
   "metadata": {},
   "outputs": [],
   "source": [
    "sns.boxplot(x='senior_citizen', y=\"monthly_charges\",hue=\"churn\", data=train,)"
   ]
  },
  {
   "cell_type": "markdown",
   "id": "fe60e4c8",
   "metadata": {},
   "source": [
    "from the look of this chart it look like for our churn rate there is a high ammount of seniors that for our below 65 customers "
   ]
  },
  {
   "cell_type": "markdown",
   "id": "2239d3e8",
   "metadata": {},
   "source": [
    "we can conclude from this graph and statistical test that our senior citizen customer( customers over 65+) are more likely to churn becasue of high monthly charges, almst as much as our chustomers below the age of 65, \n",
    "From my statistical test we can see that  i was unable to reject my null hypothesis therefore showing that there is a relationship between or senior customers and "
   ]
  },
  {
   "cell_type": "markdown",
   "id": "8a7da534",
   "metadata": {},
   "source": [
    "## Question 4 -is someone with tech support more likely to churn?"
   ]
  },
  {
   "cell_type": "code",
   "execution_count": null,
   "id": "9b0b4369",
   "metadata": {
    "scrolled": true
   },
   "outputs": [],
   "source": [
    "sns.countplot(x='tech_support', data=df, hue=\"churn\")"
   ]
  },
  {
   "cell_type": "code",
   "execution_count": null,
   "id": "6d66600b",
   "metadata": {},
   "outputs": [],
   "source": [
    "# Let's run a chi squared to compare proportions, to have more confidence\n",
    "alpha = 0.05\n",
    "null_hypothesis = \"tech support and churn are independent\"\n",
    "alternative_hypothesis = \"there is a relationship between tech support and churn\"\n",
    "\n",
    "# Setup a crosstab of observed survival to pclass\n",
    "observed = pd.crosstab(train.tech_support, train.churn)\n",
    "\n",
    "chi2, p, degf, expected = stats.chi2_contingency(observed)\n",
    "\n",
    "if p < alpha:\n",
    "    print(\"Reject the null hypothesis that\", null_hypothesis)\n",
    "    print(\"Sufficient evidence to move forward understanding that\", alternative_hypothesis)\n",
    "else:\n",
    "    print(\"Fail to reject the null\")\n",
    "    print(\"Insufficient evidence to reject the null\")\n",
    "p\n",
    "\n"
   ]
  },
  {
   "cell_type": "markdown",
   "id": "0ab57832",
   "metadata": {},
   "source": [
    "From our graph and statisticly we can see that "
   ]
  },
  {
   "cell_type": "markdown",
   "id": "f6462c4c",
   "metadata": {},
   "source": [
    "Sub question- are seniors mostly using tech support ?"
   ]
  },
  {
   "cell_type": "code",
   "execution_count": null,
   "id": "06eb52d6",
   "metadata": {
    "scrolled": true
   },
   "outputs": [],
   "source": [
    "sns.countplot(x='tech_support', data=df, hue=\"senior_citizen\")"
   ]
  },
  {
   "cell_type": "code",
   "execution_count": null,
   "id": "4377ee2b",
   "metadata": {},
   "outputs": [],
   "source": []
  },
  {
   "cell_type": "markdown",
   "id": "6fd747ce",
   "metadata": {},
   "source": [
    "# TELCO MODELING"
   ]
  },
  {
   "cell_type": "code",
   "execution_count": 8,
   "id": "edd9ada5",
   "metadata": {},
   "outputs": [],
   "source": [
    "# ignore warnings\n",
    "import warnings\n",
    "warnings.filterwarnings(\"ignore\")\n",
    "\n",
    "import numpy as np\n",
    "\n",
    "from pydataset import data\n",
    "\n",
    "from sklearn.model_selection import train_test_split\n",
    "from sklearn.tree import DecisionTreeClassifier, plot_tree\n",
    "from sklearn.metrics import classification_report\n",
    "from sklearn.metrics import confusion_matrix\n",
    "\n",
    "import matplotlib.pyplot as plt\n",
    "import seaborn as sns\n",
    "\n"
   ]
  },
  {
   "cell_type": "code",
   "execution_count": 9,
   "id": "345e9ca6",
   "metadata": {},
   "outputs": [
    {
     "data": {
      "text/plain": [
       "((3937, 51), (1688, 51), (1407, 51))"
      ]
     },
     "execution_count": 9,
     "metadata": {},
     "output_type": "execute_result"
    }
   ],
   "source": [
    "train, validate, test = prepare.split(df, stratify_by='churn')\n",
    "\n",
    "train.shape, validate.shape, test.shape\n"
   ]
  },
  {
   "cell_type": "code",
   "execution_count": null,
   "id": "647020cb",
   "metadata": {},
   "outputs": [],
   "source": []
  },
  {
   "cell_type": "code",
   "execution_count": 10,
   "id": "154e768f",
   "metadata": {},
   "outputs": [
    {
     "data": {
      "text/html": [
       "<div>\n",
       "<style scoped>\n",
       "    .dataframe tbody tr th:only-of-type {\n",
       "        vertical-align: middle;\n",
       "    }\n",
       "\n",
       "    .dataframe tbody tr th {\n",
       "        vertical-align: top;\n",
       "    }\n",
       "\n",
       "    .dataframe thead th {\n",
       "        text-align: right;\n",
       "    }\n",
       "</style>\n",
       "<table border=\"1\" class=\"dataframe\">\n",
       "  <thead>\n",
       "    <tr style=\"text-align: right;\">\n",
       "      <th></th>\n",
       "      <th>payment_type_id</th>\n",
       "      <th>internet_service_type_id</th>\n",
       "      <th>contract_type_id</th>\n",
       "      <th>customer_id</th>\n",
       "      <th>gender</th>\n",
       "      <th>senior_citizen</th>\n",
       "      <th>partner</th>\n",
       "      <th>dependents</th>\n",
       "      <th>tenure</th>\n",
       "      <th>phone_service</th>\n",
       "      <th>multiple_lines</th>\n",
       "      <th>online_security</th>\n",
       "      <th>online_backup</th>\n",
       "      <th>device_protection</th>\n",
       "      <th>tech_support</th>\n",
       "      <th>streaming_tv</th>\n",
       "      <th>streaming_movies</th>\n",
       "      <th>paperless_billing</th>\n",
       "      <th>monthly_charges</th>\n",
       "      <th>total_charges</th>\n",
       "      <th>churn</th>\n",
       "      <th>contract_type</th>\n",
       "      <th>internet_service_type</th>\n",
       "      <th>payment_type</th>\n",
       "      <th>gender_encoded</th>\n",
       "      <th>partner_encoded</th>\n",
       "      <th>dependents_encoded</th>\n",
       "      <th>phone_service_encoded</th>\n",
       "      <th>paperless_billing_encoded</th>\n",
       "      <th>churn_encoded</th>\n",
       "      <th>multiple_lines_No phone service</th>\n",
       "      <th>multiple_lines_Yes</th>\n",
       "      <th>online_security_No internet service</th>\n",
       "      <th>online_security_Yes</th>\n",
       "      <th>online_backup_No internet service</th>\n",
       "      <th>online_backup_Yes</th>\n",
       "      <th>device_protection_No internet service</th>\n",
       "      <th>device_protection_Yes</th>\n",
       "      <th>tech_support_No internet service</th>\n",
       "      <th>tech_support_Yes</th>\n",
       "      <th>streaming_tv_No internet service</th>\n",
       "      <th>streaming_tv_Yes</th>\n",
       "      <th>streaming_movies_No internet service</th>\n",
       "      <th>streaming_movies_Yes</th>\n",
       "      <th>contract_type_One year</th>\n",
       "      <th>contract_type_Two year</th>\n",
       "      <th>internet_service_type_Fiber optic</th>\n",
       "      <th>internet_service_type_None</th>\n",
       "      <th>payment_type_Credit card (automatic)</th>\n",
       "      <th>payment_type_Electronic check</th>\n",
       "      <th>payment_type_Mailed check</th>\n",
       "    </tr>\n",
       "  </thead>\n",
       "  <tbody>\n",
       "    <tr>\n",
       "      <th>0</th>\n",
       "      <td>2</td>\n",
       "      <td>1</td>\n",
       "      <td>2</td>\n",
       "      <td>0002-ORFBO</td>\n",
       "      <td>Female</td>\n",
       "      <td>0</td>\n",
       "      <td>Yes</td>\n",
       "      <td>Yes</td>\n",
       "      <td>9</td>\n",
       "      <td>Yes</td>\n",
       "      <td>No</td>\n",
       "      <td>No</td>\n",
       "      <td>Yes</td>\n",
       "      <td>No</td>\n",
       "      <td>Yes</td>\n",
       "      <td>Yes</td>\n",
       "      <td>No</td>\n",
       "      <td>Yes</td>\n",
       "      <td>65.60</td>\n",
       "      <td>593.30</td>\n",
       "      <td>No</td>\n",
       "      <td>One year</td>\n",
       "      <td>DSL</td>\n",
       "      <td>Mailed check</td>\n",
       "      <td>1</td>\n",
       "      <td>1</td>\n",
       "      <td>1</td>\n",
       "      <td>1</td>\n",
       "      <td>1</td>\n",
       "      <td>0</td>\n",
       "      <td>0</td>\n",
       "      <td>0</td>\n",
       "      <td>0</td>\n",
       "      <td>0</td>\n",
       "      <td>0</td>\n",
       "      <td>1</td>\n",
       "      <td>0</td>\n",
       "      <td>0</td>\n",
       "      <td>0</td>\n",
       "      <td>1</td>\n",
       "      <td>0</td>\n",
       "      <td>1</td>\n",
       "      <td>0</td>\n",
       "      <td>0</td>\n",
       "      <td>1</td>\n",
       "      <td>0</td>\n",
       "      <td>0</td>\n",
       "      <td>0</td>\n",
       "      <td>0</td>\n",
       "      <td>0</td>\n",
       "      <td>1</td>\n",
       "    </tr>\n",
       "    <tr>\n",
       "      <th>1</th>\n",
       "      <td>2</td>\n",
       "      <td>1</td>\n",
       "      <td>1</td>\n",
       "      <td>0003-MKNFE</td>\n",
       "      <td>Male</td>\n",
       "      <td>0</td>\n",
       "      <td>No</td>\n",
       "      <td>No</td>\n",
       "      <td>9</td>\n",
       "      <td>Yes</td>\n",
       "      <td>Yes</td>\n",
       "      <td>No</td>\n",
       "      <td>No</td>\n",
       "      <td>No</td>\n",
       "      <td>No</td>\n",
       "      <td>No</td>\n",
       "      <td>Yes</td>\n",
       "      <td>No</td>\n",
       "      <td>59.90</td>\n",
       "      <td>542.40</td>\n",
       "      <td>No</td>\n",
       "      <td>Month-to-month</td>\n",
       "      <td>DSL</td>\n",
       "      <td>Mailed check</td>\n",
       "      <td>0</td>\n",
       "      <td>0</td>\n",
       "      <td>0</td>\n",
       "      <td>1</td>\n",
       "      <td>0</td>\n",
       "      <td>0</td>\n",
       "      <td>0</td>\n",
       "      <td>1</td>\n",
       "      <td>0</td>\n",
       "      <td>0</td>\n",
       "      <td>0</td>\n",
       "      <td>0</td>\n",
       "      <td>0</td>\n",
       "      <td>0</td>\n",
       "      <td>0</td>\n",
       "      <td>0</td>\n",
       "      <td>0</td>\n",
       "      <td>0</td>\n",
       "      <td>0</td>\n",
       "      <td>1</td>\n",
       "      <td>0</td>\n",
       "      <td>0</td>\n",
       "      <td>0</td>\n",
       "      <td>0</td>\n",
       "      <td>0</td>\n",
       "      <td>0</td>\n",
       "      <td>1</td>\n",
       "    </tr>\n",
       "    <tr>\n",
       "      <th>2</th>\n",
       "      <td>1</td>\n",
       "      <td>2</td>\n",
       "      <td>1</td>\n",
       "      <td>0004-TLHLJ</td>\n",
       "      <td>Male</td>\n",
       "      <td>0</td>\n",
       "      <td>No</td>\n",
       "      <td>No</td>\n",
       "      <td>4</td>\n",
       "      <td>Yes</td>\n",
       "      <td>No</td>\n",
       "      <td>No</td>\n",
       "      <td>No</td>\n",
       "      <td>Yes</td>\n",
       "      <td>No</td>\n",
       "      <td>No</td>\n",
       "      <td>No</td>\n",
       "      <td>Yes</td>\n",
       "      <td>73.90</td>\n",
       "      <td>280.85</td>\n",
       "      <td>Yes</td>\n",
       "      <td>Month-to-month</td>\n",
       "      <td>Fiber optic</td>\n",
       "      <td>Electronic check</td>\n",
       "      <td>0</td>\n",
       "      <td>0</td>\n",
       "      <td>0</td>\n",
       "      <td>1</td>\n",
       "      <td>1</td>\n",
       "      <td>1</td>\n",
       "      <td>0</td>\n",
       "      <td>0</td>\n",
       "      <td>0</td>\n",
       "      <td>0</td>\n",
       "      <td>0</td>\n",
       "      <td>0</td>\n",
       "      <td>0</td>\n",
       "      <td>1</td>\n",
       "      <td>0</td>\n",
       "      <td>0</td>\n",
       "      <td>0</td>\n",
       "      <td>0</td>\n",
       "      <td>0</td>\n",
       "      <td>0</td>\n",
       "      <td>0</td>\n",
       "      <td>0</td>\n",
       "      <td>1</td>\n",
       "      <td>0</td>\n",
       "      <td>0</td>\n",
       "      <td>1</td>\n",
       "      <td>0</td>\n",
       "    </tr>\n",
       "    <tr>\n",
       "      <th>3</th>\n",
       "      <td>1</td>\n",
       "      <td>2</td>\n",
       "      <td>1</td>\n",
       "      <td>0011-IGKFF</td>\n",
       "      <td>Male</td>\n",
       "      <td>1</td>\n",
       "      <td>Yes</td>\n",
       "      <td>No</td>\n",
       "      <td>13</td>\n",
       "      <td>Yes</td>\n",
       "      <td>No</td>\n",
       "      <td>No</td>\n",
       "      <td>Yes</td>\n",
       "      <td>Yes</td>\n",
       "      <td>No</td>\n",
       "      <td>Yes</td>\n",
       "      <td>Yes</td>\n",
       "      <td>Yes</td>\n",
       "      <td>98.00</td>\n",
       "      <td>1237.85</td>\n",
       "      <td>Yes</td>\n",
       "      <td>Month-to-month</td>\n",
       "      <td>Fiber optic</td>\n",
       "      <td>Electronic check</td>\n",
       "      <td>0</td>\n",
       "      <td>1</td>\n",
       "      <td>0</td>\n",
       "      <td>1</td>\n",
       "      <td>1</td>\n",
       "      <td>1</td>\n",
       "      <td>0</td>\n",
       "      <td>0</td>\n",
       "      <td>0</td>\n",
       "      <td>0</td>\n",
       "      <td>0</td>\n",
       "      <td>1</td>\n",
       "      <td>0</td>\n",
       "      <td>1</td>\n",
       "      <td>0</td>\n",
       "      <td>0</td>\n",
       "      <td>0</td>\n",
       "      <td>1</td>\n",
       "      <td>0</td>\n",
       "      <td>1</td>\n",
       "      <td>0</td>\n",
       "      <td>0</td>\n",
       "      <td>1</td>\n",
       "      <td>0</td>\n",
       "      <td>0</td>\n",
       "      <td>1</td>\n",
       "      <td>0</td>\n",
       "    </tr>\n",
       "    <tr>\n",
       "      <th>4</th>\n",
       "      <td>2</td>\n",
       "      <td>2</td>\n",
       "      <td>1</td>\n",
       "      <td>0013-EXCHZ</td>\n",
       "      <td>Female</td>\n",
       "      <td>1</td>\n",
       "      <td>Yes</td>\n",
       "      <td>No</td>\n",
       "      <td>3</td>\n",
       "      <td>Yes</td>\n",
       "      <td>No</td>\n",
       "      <td>No</td>\n",
       "      <td>No</td>\n",
       "      <td>No</td>\n",
       "      <td>Yes</td>\n",
       "      <td>Yes</td>\n",
       "      <td>No</td>\n",
       "      <td>Yes</td>\n",
       "      <td>83.90</td>\n",
       "      <td>267.40</td>\n",
       "      <td>Yes</td>\n",
       "      <td>Month-to-month</td>\n",
       "      <td>Fiber optic</td>\n",
       "      <td>Mailed check</td>\n",
       "      <td>1</td>\n",
       "      <td>1</td>\n",
       "      <td>0</td>\n",
       "      <td>1</td>\n",
       "      <td>1</td>\n",
       "      <td>1</td>\n",
       "      <td>0</td>\n",
       "      <td>0</td>\n",
       "      <td>0</td>\n",
       "      <td>0</td>\n",
       "      <td>0</td>\n",
       "      <td>0</td>\n",
       "      <td>0</td>\n",
       "      <td>0</td>\n",
       "      <td>0</td>\n",
       "      <td>1</td>\n",
       "      <td>0</td>\n",
       "      <td>1</td>\n",
       "      <td>0</td>\n",
       "      <td>0</td>\n",
       "      <td>0</td>\n",
       "      <td>0</td>\n",
       "      <td>1</td>\n",
       "      <td>0</td>\n",
       "      <td>0</td>\n",
       "      <td>0</td>\n",
       "      <td>1</td>\n",
       "    </tr>\n",
       "    <tr>\n",
       "      <th>...</th>\n",
       "      <td>...</td>\n",
       "      <td>...</td>\n",
       "      <td>...</td>\n",
       "      <td>...</td>\n",
       "      <td>...</td>\n",
       "      <td>...</td>\n",
       "      <td>...</td>\n",
       "      <td>...</td>\n",
       "      <td>...</td>\n",
       "      <td>...</td>\n",
       "      <td>...</td>\n",
       "      <td>...</td>\n",
       "      <td>...</td>\n",
       "      <td>...</td>\n",
       "      <td>...</td>\n",
       "      <td>...</td>\n",
       "      <td>...</td>\n",
       "      <td>...</td>\n",
       "      <td>...</td>\n",
       "      <td>...</td>\n",
       "      <td>...</td>\n",
       "      <td>...</td>\n",
       "      <td>...</td>\n",
       "      <td>...</td>\n",
       "      <td>...</td>\n",
       "      <td>...</td>\n",
       "      <td>...</td>\n",
       "      <td>...</td>\n",
       "      <td>...</td>\n",
       "      <td>...</td>\n",
       "      <td>...</td>\n",
       "      <td>...</td>\n",
       "      <td>...</td>\n",
       "      <td>...</td>\n",
       "      <td>...</td>\n",
       "      <td>...</td>\n",
       "      <td>...</td>\n",
       "      <td>...</td>\n",
       "      <td>...</td>\n",
       "      <td>...</td>\n",
       "      <td>...</td>\n",
       "      <td>...</td>\n",
       "      <td>...</td>\n",
       "      <td>...</td>\n",
       "      <td>...</td>\n",
       "      <td>...</td>\n",
       "      <td>...</td>\n",
       "      <td>...</td>\n",
       "      <td>...</td>\n",
       "      <td>...</td>\n",
       "      <td>...</td>\n",
       "    </tr>\n",
       "    <tr>\n",
       "      <th>7038</th>\n",
       "      <td>2</td>\n",
       "      <td>1</td>\n",
       "      <td>2</td>\n",
       "      <td>9987-LUTYD</td>\n",
       "      <td>Female</td>\n",
       "      <td>0</td>\n",
       "      <td>No</td>\n",
       "      <td>No</td>\n",
       "      <td>13</td>\n",
       "      <td>Yes</td>\n",
       "      <td>No</td>\n",
       "      <td>Yes</td>\n",
       "      <td>No</td>\n",
       "      <td>No</td>\n",
       "      <td>Yes</td>\n",
       "      <td>No</td>\n",
       "      <td>No</td>\n",
       "      <td>No</td>\n",
       "      <td>55.15</td>\n",
       "      <td>742.90</td>\n",
       "      <td>No</td>\n",
       "      <td>One year</td>\n",
       "      <td>DSL</td>\n",
       "      <td>Mailed check</td>\n",
       "      <td>1</td>\n",
       "      <td>0</td>\n",
       "      <td>0</td>\n",
       "      <td>1</td>\n",
       "      <td>0</td>\n",
       "      <td>0</td>\n",
       "      <td>0</td>\n",
       "      <td>0</td>\n",
       "      <td>0</td>\n",
       "      <td>1</td>\n",
       "      <td>0</td>\n",
       "      <td>0</td>\n",
       "      <td>0</td>\n",
       "      <td>0</td>\n",
       "      <td>0</td>\n",
       "      <td>1</td>\n",
       "      <td>0</td>\n",
       "      <td>0</td>\n",
       "      <td>0</td>\n",
       "      <td>0</td>\n",
       "      <td>1</td>\n",
       "      <td>0</td>\n",
       "      <td>0</td>\n",
       "      <td>0</td>\n",
       "      <td>0</td>\n",
       "      <td>0</td>\n",
       "      <td>1</td>\n",
       "    </tr>\n",
       "    <tr>\n",
       "      <th>7039</th>\n",
       "      <td>1</td>\n",
       "      <td>2</td>\n",
       "      <td>1</td>\n",
       "      <td>9992-RRAMN</td>\n",
       "      <td>Male</td>\n",
       "      <td>0</td>\n",
       "      <td>Yes</td>\n",
       "      <td>No</td>\n",
       "      <td>22</td>\n",
       "      <td>Yes</td>\n",
       "      <td>Yes</td>\n",
       "      <td>No</td>\n",
       "      <td>No</td>\n",
       "      <td>No</td>\n",
       "      <td>No</td>\n",
       "      <td>No</td>\n",
       "      <td>Yes</td>\n",
       "      <td>Yes</td>\n",
       "      <td>85.10</td>\n",
       "      <td>1873.70</td>\n",
       "      <td>Yes</td>\n",
       "      <td>Month-to-month</td>\n",
       "      <td>Fiber optic</td>\n",
       "      <td>Electronic check</td>\n",
       "      <td>0</td>\n",
       "      <td>1</td>\n",
       "      <td>0</td>\n",
       "      <td>1</td>\n",
       "      <td>1</td>\n",
       "      <td>1</td>\n",
       "      <td>0</td>\n",
       "      <td>1</td>\n",
       "      <td>0</td>\n",
       "      <td>0</td>\n",
       "      <td>0</td>\n",
       "      <td>0</td>\n",
       "      <td>0</td>\n",
       "      <td>0</td>\n",
       "      <td>0</td>\n",
       "      <td>0</td>\n",
       "      <td>0</td>\n",
       "      <td>0</td>\n",
       "      <td>0</td>\n",
       "      <td>1</td>\n",
       "      <td>0</td>\n",
       "      <td>0</td>\n",
       "      <td>1</td>\n",
       "      <td>0</td>\n",
       "      <td>0</td>\n",
       "      <td>1</td>\n",
       "      <td>0</td>\n",
       "    </tr>\n",
       "    <tr>\n",
       "      <th>7040</th>\n",
       "      <td>2</td>\n",
       "      <td>1</td>\n",
       "      <td>1</td>\n",
       "      <td>9992-UJOEL</td>\n",
       "      <td>Male</td>\n",
       "      <td>0</td>\n",
       "      <td>No</td>\n",
       "      <td>No</td>\n",
       "      <td>2</td>\n",
       "      <td>Yes</td>\n",
       "      <td>No</td>\n",
       "      <td>No</td>\n",
       "      <td>Yes</td>\n",
       "      <td>No</td>\n",
       "      <td>No</td>\n",
       "      <td>No</td>\n",
       "      <td>No</td>\n",
       "      <td>Yes</td>\n",
       "      <td>50.30</td>\n",
       "      <td>92.75</td>\n",
       "      <td>No</td>\n",
       "      <td>Month-to-month</td>\n",
       "      <td>DSL</td>\n",
       "      <td>Mailed check</td>\n",
       "      <td>0</td>\n",
       "      <td>0</td>\n",
       "      <td>0</td>\n",
       "      <td>1</td>\n",
       "      <td>1</td>\n",
       "      <td>0</td>\n",
       "      <td>0</td>\n",
       "      <td>0</td>\n",
       "      <td>0</td>\n",
       "      <td>0</td>\n",
       "      <td>0</td>\n",
       "      <td>1</td>\n",
       "      <td>0</td>\n",
       "      <td>0</td>\n",
       "      <td>0</td>\n",
       "      <td>0</td>\n",
       "      <td>0</td>\n",
       "      <td>0</td>\n",
       "      <td>0</td>\n",
       "      <td>0</td>\n",
       "      <td>0</td>\n",
       "      <td>0</td>\n",
       "      <td>0</td>\n",
       "      <td>0</td>\n",
       "      <td>0</td>\n",
       "      <td>0</td>\n",
       "      <td>1</td>\n",
       "    </tr>\n",
       "    <tr>\n",
       "      <th>7041</th>\n",
       "      <td>2</td>\n",
       "      <td>1</td>\n",
       "      <td>3</td>\n",
       "      <td>9993-LHIEB</td>\n",
       "      <td>Male</td>\n",
       "      <td>0</td>\n",
       "      <td>Yes</td>\n",
       "      <td>Yes</td>\n",
       "      <td>67</td>\n",
       "      <td>Yes</td>\n",
       "      <td>No</td>\n",
       "      <td>Yes</td>\n",
       "      <td>No</td>\n",
       "      <td>Yes</td>\n",
       "      <td>Yes</td>\n",
       "      <td>No</td>\n",
       "      <td>Yes</td>\n",
       "      <td>No</td>\n",
       "      <td>67.85</td>\n",
       "      <td>4627.65</td>\n",
       "      <td>No</td>\n",
       "      <td>Two year</td>\n",
       "      <td>DSL</td>\n",
       "      <td>Mailed check</td>\n",
       "      <td>0</td>\n",
       "      <td>1</td>\n",
       "      <td>1</td>\n",
       "      <td>1</td>\n",
       "      <td>0</td>\n",
       "      <td>0</td>\n",
       "      <td>0</td>\n",
       "      <td>0</td>\n",
       "      <td>0</td>\n",
       "      <td>1</td>\n",
       "      <td>0</td>\n",
       "      <td>0</td>\n",
       "      <td>0</td>\n",
       "      <td>1</td>\n",
       "      <td>0</td>\n",
       "      <td>1</td>\n",
       "      <td>0</td>\n",
       "      <td>0</td>\n",
       "      <td>0</td>\n",
       "      <td>1</td>\n",
       "      <td>0</td>\n",
       "      <td>1</td>\n",
       "      <td>0</td>\n",
       "      <td>0</td>\n",
       "      <td>0</td>\n",
       "      <td>0</td>\n",
       "      <td>1</td>\n",
       "    </tr>\n",
       "    <tr>\n",
       "      <th>7042</th>\n",
       "      <td>1</td>\n",
       "      <td>1</td>\n",
       "      <td>3</td>\n",
       "      <td>9995-HOTOH</td>\n",
       "      <td>Male</td>\n",
       "      <td>0</td>\n",
       "      <td>Yes</td>\n",
       "      <td>Yes</td>\n",
       "      <td>63</td>\n",
       "      <td>No</td>\n",
       "      <td>No phone service</td>\n",
       "      <td>Yes</td>\n",
       "      <td>Yes</td>\n",
       "      <td>Yes</td>\n",
       "      <td>No</td>\n",
       "      <td>Yes</td>\n",
       "      <td>Yes</td>\n",
       "      <td>No</td>\n",
       "      <td>59.00</td>\n",
       "      <td>3707.60</td>\n",
       "      <td>No</td>\n",
       "      <td>Two year</td>\n",
       "      <td>DSL</td>\n",
       "      <td>Electronic check</td>\n",
       "      <td>0</td>\n",
       "      <td>1</td>\n",
       "      <td>1</td>\n",
       "      <td>0</td>\n",
       "      <td>0</td>\n",
       "      <td>0</td>\n",
       "      <td>1</td>\n",
       "      <td>0</td>\n",
       "      <td>0</td>\n",
       "      <td>1</td>\n",
       "      <td>0</td>\n",
       "      <td>1</td>\n",
       "      <td>0</td>\n",
       "      <td>1</td>\n",
       "      <td>0</td>\n",
       "      <td>0</td>\n",
       "      <td>0</td>\n",
       "      <td>1</td>\n",
       "      <td>0</td>\n",
       "      <td>1</td>\n",
       "      <td>0</td>\n",
       "      <td>1</td>\n",
       "      <td>0</td>\n",
       "      <td>0</td>\n",
       "      <td>0</td>\n",
       "      <td>1</td>\n",
       "      <td>0</td>\n",
       "    </tr>\n",
       "  </tbody>\n",
       "</table>\n",
       "<p>7032 rows × 51 columns</p>\n",
       "</div>"
      ],
      "text/plain": [
       "      payment_type_id  internet_service_type_id  contract_type_id customer_id  \\\n",
       "0                   2                         1                 2  0002-ORFBO   \n",
       "1                   2                         1                 1  0003-MKNFE   \n",
       "2                   1                         2                 1  0004-TLHLJ   \n",
       "3                   1                         2                 1  0011-IGKFF   \n",
       "4                   2                         2                 1  0013-EXCHZ   \n",
       "...               ...                       ...               ...         ...   \n",
       "7038                2                         1                 2  9987-LUTYD   \n",
       "7039                1                         2                 1  9992-RRAMN   \n",
       "7040                2                         1                 1  9992-UJOEL   \n",
       "7041                2                         1                 3  9993-LHIEB   \n",
       "7042                1                         1                 3  9995-HOTOH   \n",
       "\n",
       "      gender  senior_citizen partner dependents  tenure phone_service  \\\n",
       "0     Female               0     Yes        Yes       9           Yes   \n",
       "1       Male               0      No         No       9           Yes   \n",
       "2       Male               0      No         No       4           Yes   \n",
       "3       Male               1     Yes         No      13           Yes   \n",
       "4     Female               1     Yes         No       3           Yes   \n",
       "...      ...             ...     ...        ...     ...           ...   \n",
       "7038  Female               0      No         No      13           Yes   \n",
       "7039    Male               0     Yes         No      22           Yes   \n",
       "7040    Male               0      No         No       2           Yes   \n",
       "7041    Male               0     Yes        Yes      67           Yes   \n",
       "7042    Male               0     Yes        Yes      63            No   \n",
       "\n",
       "        multiple_lines online_security online_backup device_protection  \\\n",
       "0                   No              No           Yes                No   \n",
       "1                  Yes              No            No                No   \n",
       "2                   No              No            No               Yes   \n",
       "3                   No              No           Yes               Yes   \n",
       "4                   No              No            No                No   \n",
       "...                ...             ...           ...               ...   \n",
       "7038                No             Yes            No                No   \n",
       "7039               Yes              No            No                No   \n",
       "7040                No              No           Yes                No   \n",
       "7041                No             Yes            No               Yes   \n",
       "7042  No phone service             Yes           Yes               Yes   \n",
       "\n",
       "     tech_support streaming_tv streaming_movies paperless_billing  \\\n",
       "0             Yes          Yes               No               Yes   \n",
       "1              No           No              Yes                No   \n",
       "2              No           No               No               Yes   \n",
       "3              No          Yes              Yes               Yes   \n",
       "4             Yes          Yes               No               Yes   \n",
       "...           ...          ...              ...               ...   \n",
       "7038          Yes           No               No                No   \n",
       "7039           No           No              Yes               Yes   \n",
       "7040           No           No               No               Yes   \n",
       "7041          Yes           No              Yes                No   \n",
       "7042           No          Yes              Yes                No   \n",
       "\n",
       "      monthly_charges  total_charges churn   contract_type  \\\n",
       "0               65.60         593.30    No        One year   \n",
       "1               59.90         542.40    No  Month-to-month   \n",
       "2               73.90         280.85   Yes  Month-to-month   \n",
       "3               98.00        1237.85   Yes  Month-to-month   \n",
       "4               83.90         267.40   Yes  Month-to-month   \n",
       "...               ...            ...   ...             ...   \n",
       "7038            55.15         742.90    No        One year   \n",
       "7039            85.10        1873.70   Yes  Month-to-month   \n",
       "7040            50.30          92.75    No  Month-to-month   \n",
       "7041            67.85        4627.65    No        Two year   \n",
       "7042            59.00        3707.60    No        Two year   \n",
       "\n",
       "     internet_service_type      payment_type  gender_encoded  partner_encoded  \\\n",
       "0                      DSL      Mailed check               1                1   \n",
       "1                      DSL      Mailed check               0                0   \n",
       "2              Fiber optic  Electronic check               0                0   \n",
       "3              Fiber optic  Electronic check               0                1   \n",
       "4              Fiber optic      Mailed check               1                1   \n",
       "...                    ...               ...             ...              ...   \n",
       "7038                   DSL      Mailed check               1                0   \n",
       "7039           Fiber optic  Electronic check               0                1   \n",
       "7040                   DSL      Mailed check               0                0   \n",
       "7041                   DSL      Mailed check               0                1   \n",
       "7042                   DSL  Electronic check               0                1   \n",
       "\n",
       "      dependents_encoded  phone_service_encoded  paperless_billing_encoded  \\\n",
       "0                      1                      1                          1   \n",
       "1                      0                      1                          0   \n",
       "2                      0                      1                          1   \n",
       "3                      0                      1                          1   \n",
       "4                      0                      1                          1   \n",
       "...                  ...                    ...                        ...   \n",
       "7038                   0                      1                          0   \n",
       "7039                   0                      1                          1   \n",
       "7040                   0                      1                          1   \n",
       "7041                   1                      1                          0   \n",
       "7042                   1                      0                          0   \n",
       "\n",
       "      churn_encoded  multiple_lines_No phone service  multiple_lines_Yes  \\\n",
       "0                 0                                0                   0   \n",
       "1                 0                                0                   1   \n",
       "2                 1                                0                   0   \n",
       "3                 1                                0                   0   \n",
       "4                 1                                0                   0   \n",
       "...             ...                              ...                 ...   \n",
       "7038              0                                0                   0   \n",
       "7039              1                                0                   1   \n",
       "7040              0                                0                   0   \n",
       "7041              0                                0                   0   \n",
       "7042              0                                1                   0   \n",
       "\n",
       "      online_security_No internet service  online_security_Yes  \\\n",
       "0                                       0                    0   \n",
       "1                                       0                    0   \n",
       "2                                       0                    0   \n",
       "3                                       0                    0   \n",
       "4                                       0                    0   \n",
       "...                                   ...                  ...   \n",
       "7038                                    0                    1   \n",
       "7039                                    0                    0   \n",
       "7040                                    0                    0   \n",
       "7041                                    0                    1   \n",
       "7042                                    0                    1   \n",
       "\n",
       "      online_backup_No internet service  online_backup_Yes  \\\n",
       "0                                     0                  1   \n",
       "1                                     0                  0   \n",
       "2                                     0                  0   \n",
       "3                                     0                  1   \n",
       "4                                     0                  0   \n",
       "...                                 ...                ...   \n",
       "7038                                  0                  0   \n",
       "7039                                  0                  0   \n",
       "7040                                  0                  1   \n",
       "7041                                  0                  0   \n",
       "7042                                  0                  1   \n",
       "\n",
       "      device_protection_No internet service  device_protection_Yes  \\\n",
       "0                                         0                      0   \n",
       "1                                         0                      0   \n",
       "2                                         0                      1   \n",
       "3                                         0                      1   \n",
       "4                                         0                      0   \n",
       "...                                     ...                    ...   \n",
       "7038                                      0                      0   \n",
       "7039                                      0                      0   \n",
       "7040                                      0                      0   \n",
       "7041                                      0                      1   \n",
       "7042                                      0                      1   \n",
       "\n",
       "      tech_support_No internet service  tech_support_Yes  \\\n",
       "0                                    0                 1   \n",
       "1                                    0                 0   \n",
       "2                                    0                 0   \n",
       "3                                    0                 0   \n",
       "4                                    0                 1   \n",
       "...                                ...               ...   \n",
       "7038                                 0                 1   \n",
       "7039                                 0                 0   \n",
       "7040                                 0                 0   \n",
       "7041                                 0                 1   \n",
       "7042                                 0                 0   \n",
       "\n",
       "      streaming_tv_No internet service  streaming_tv_Yes  \\\n",
       "0                                    0                 1   \n",
       "1                                    0                 0   \n",
       "2                                    0                 0   \n",
       "3                                    0                 1   \n",
       "4                                    0                 1   \n",
       "...                                ...               ...   \n",
       "7038                                 0                 0   \n",
       "7039                                 0                 0   \n",
       "7040                                 0                 0   \n",
       "7041                                 0                 0   \n",
       "7042                                 0                 1   \n",
       "\n",
       "      streaming_movies_No internet service  streaming_movies_Yes  \\\n",
       "0                                        0                     0   \n",
       "1                                        0                     1   \n",
       "2                                        0                     0   \n",
       "3                                        0                     1   \n",
       "4                                        0                     0   \n",
       "...                                    ...                   ...   \n",
       "7038                                     0                     0   \n",
       "7039                                     0                     1   \n",
       "7040                                     0                     0   \n",
       "7041                                     0                     1   \n",
       "7042                                     0                     1   \n",
       "\n",
       "      contract_type_One year  contract_type_Two year  \\\n",
       "0                          1                       0   \n",
       "1                          0                       0   \n",
       "2                          0                       0   \n",
       "3                          0                       0   \n",
       "4                          0                       0   \n",
       "...                      ...                     ...   \n",
       "7038                       1                       0   \n",
       "7039                       0                       0   \n",
       "7040                       0                       0   \n",
       "7041                       0                       1   \n",
       "7042                       0                       1   \n",
       "\n",
       "      internet_service_type_Fiber optic  internet_service_type_None  \\\n",
       "0                                     0                           0   \n",
       "1                                     0                           0   \n",
       "2                                     1                           0   \n",
       "3                                     1                           0   \n",
       "4                                     1                           0   \n",
       "...                                 ...                         ...   \n",
       "7038                                  0                           0   \n",
       "7039                                  1                           0   \n",
       "7040                                  0                           0   \n",
       "7041                                  0                           0   \n",
       "7042                                  0                           0   \n",
       "\n",
       "      payment_type_Credit card (automatic)  payment_type_Electronic check  \\\n",
       "0                                        0                              0   \n",
       "1                                        0                              0   \n",
       "2                                        0                              1   \n",
       "3                                        0                              1   \n",
       "4                                        0                              0   \n",
       "...                                    ...                            ...   \n",
       "7038                                     0                              0   \n",
       "7039                                     0                              1   \n",
       "7040                                     0                              0   \n",
       "7041                                     0                              0   \n",
       "7042                                     0                              1   \n",
       "\n",
       "      payment_type_Mailed check  \n",
       "0                             1  \n",
       "1                             1  \n",
       "2                             0  \n",
       "3                             0  \n",
       "4                             1  \n",
       "...                         ...  \n",
       "7038                          1  \n",
       "7039                          0  \n",
       "7040                          1  \n",
       "7041                          1  \n",
       "7042                          0  \n",
       "\n",
       "[7032 rows x 51 columns]"
      ]
     },
     "execution_count": 10,
     "metadata": {},
     "output_type": "execute_result"
    }
   ],
   "source": [
    "df"
   ]
  },
  {
   "cell_type": "code",
   "execution_count": 11,
   "id": "b243c853",
   "metadata": {},
   "outputs": [],
   "source": [
    "\n",
    "\n",
    "# create X & y version of train, where y is a series with just the target variable and X are all the features. \n",
    "\n",
    "X_train = train.drop(columns=['churn','churn_encoded','customer_id', 'gender','partner', 'dependents', \n",
    "                              'phone_service', 'multiple_lines', 'online_security', 'online_backup', 'device_protection', \n",
    "                              'tech_support', 'streaming_tv', 'streaming_movies', 'paperless_billing', 'contract_type', 'internet_service_type', \n",
    "                              'payment_type'])\n",
    "y_train = train[['churn']]\n",
    "\n",
    "X_validate = validate.drop(columns=['churn','churn_encoded', 'customer_id', 'gender','partner', 'dependents', 'phone_service', 'multiple_lines', \n",
    "                                    'online_security', 'online_backup', 'device_protection', 'tech_support', 'streaming_tv', 'streaming_movies', \n",
    "                                    'paperless_billing', 'contract_type', 'internet_service_type', 'payment_type'])\n",
    "y_validate = validate[['churn']]\n",
    "\n",
    "X_test = test.drop(columns=['churn','churn_encoded', 'customer_id', 'gender','partner', 'dependents', 'phone_service',\n",
    "                            'multiple_lines', 'online_security', 'online_backup', 'device_protection', 'tech_support',\n",
    "                            'streaming_tv', 'streaming_movies', 'paperless_billing', 'contract_type', \n",
    "                            'internet_service_type', 'payment_type'])\n",
    "y_test = test[['churn']]\n"
   ]
  },
  {
   "cell_type": "code",
   "execution_count": 12,
   "id": "2cdaa63f",
   "metadata": {},
   "outputs": [],
   "source": [
    "# for classification you can change the algorithm to gini or entropy (information gain).  \n",
    "# Default is gini.\n",
    "\n",
    "tree1 = DecisionTreeClassifier(max_depth=3, random_state=123)\n"
   ]
  },
  {
   "cell_type": "code",
   "execution_count": 13,
   "id": "100134da",
   "metadata": {},
   "outputs": [],
   "source": [
    "# model.fit(X, y)\n",
    "\n",
    "tree1 = tree1.fit(X_train, y_train)\n"
   ]
  },
  {
   "cell_type": "code",
   "execution_count": null,
   "id": "1b81c5ff",
   "metadata": {},
   "outputs": [],
   "source": []
  },
  {
   "cell_type": "code",
   "execution_count": 14,
   "id": "7e828468",
   "metadata": {},
   "outputs": [
    {
     "data": {
      "image/png": "[encoded data removed]",
      "text/plain": [
       "<Figure size 1656x504 with 1 Axes>"
      ]
     },
     "metadata": {
      "needs_background": "light"
     },
     "output_type": "display_data"
    }
   ],
   "source": [
    "plt.figure(figsize=(23, 7))\n",
    "plot_tree(tree1, feature_names=X_train.columns,class_names=tree1.classes_, rounded= True)\n",
    "plt.show()"
   ]
  },
  {
   "cell_type": "code",
   "execution_count": 15,
   "id": "eae7075f",
   "metadata": {},
   "outputs": [
    {
     "name": "stdout",
     "output_type": "stream",
     "text": [
      "Accuracy of Decision Tree classifier on training set: 0.80\n"
     ]
    }
   ],
   "source": [
    "print('Accuracy of Decision Tree classifier on training set: {:.2f}'\n",
    "      .format(tree1.score(X_train, y_train)))\n"
   ]
  },
  {
   "cell_type": "code",
   "execution_count": 16,
   "id": "798be236",
   "metadata": {},
   "outputs": [],
   "source": [
    "y_predictions = tree1.predict(X_train)"
   ]
  },
  {
   "cell_type": "code",
   "execution_count": 17,
   "id": "f6d4dc63",
   "metadata": {
    "scrolled": true
   },
   "outputs": [
    {
     "name": "stdout",
     "output_type": "stream",
     "text": [
      "              precision    recall  f1-score   support\n",
      "\n",
      "          No       0.81      0.94      0.87      2891\n",
      "         Yes       0.71      0.40      0.51      1046\n",
      "\n",
      "    accuracy                           0.80      3937\n",
      "   macro avg       0.76      0.67      0.69      3937\n",
      "weighted avg       0.79      0.80      0.78      3937\n",
      "\n"
     ]
    }
   ],
   "source": [
    "print(classification_report(y_train, y_predictions))"
   ]
  },
  {
   "cell_type": "code",
   "execution_count": 18,
   "id": "a4c565ae",
   "metadata": {},
   "outputs": [],
   "source": [
    "tree2 = DecisionTreeClassifier(max_depth=3, random_state=123)"
   ]
  },
  {
   "cell_type": "code",
   "execution_count": 19,
   "id": "c3c26efe",
   "metadata": {},
   "outputs": [],
   "source": [
    "tree2 = tree2.fit(X_validate, y_validate)\n"
   ]
  },
  {
   "cell_type": "code",
   "execution_count": 20,
   "id": "d2ab5b40",
   "metadata": {},
   "outputs": [
    {
     "name": "stdout",
     "output_type": "stream",
     "text": [
      "Accuracy of Decision Tree classifier on validate set: 0.76\n"
     ]
    }
   ],
   "source": [
    "print('Accuracy of Decision Tree classifier on validate set: {:.2f}'\n",
    "     .format(tree2.score(X_validate, y_validate)))\n"
   ]
  },
  {
   "cell_type": "code",
   "execution_count": 21,
   "id": "7e0eb029",
   "metadata": {
    "scrolled": true
   },
   "outputs": [
    {
     "data": {
      "image/png": "[encoded data removed]",
      "text/plain": [
       "<Figure size 936x576 with 1 Axes>"
      ]
     },
     "metadata": {
      "needs_background": "light"
     },
     "output_type": "display_data"
    }
   ],
   "source": [
    "plt.figure(figsize=(13, 8))\n",
    "plot_tree(tree2, feature_names=X_validate.columns,class_names=tree2.classes_, rounded= True)\n",
    "plt.show()"
   ]
  },
  {
   "cell_type": "markdown",
   "id": "3d44d1d0",
   "metadata": {},
   "source": [
    "# Random Forest"
   ]
  },
  {
   "cell_type": "code",
   "execution_count": 22,
   "id": "9492cdea",
   "metadata": {},
   "outputs": [],
   "source": [
    "from sklearn.ensemble import RandomForestClassifier"
   ]
  },
  {
   "cell_type": "code",
   "execution_count": 23,
   "id": "1d76fb31",
   "metadata": {},
   "outputs": [],
   "source": [
    "rf = RandomForestClassifier(max_depth=5, \n",
    "                            random_state=123)"
   ]
  },
  {
   "cell_type": "code",
   "execution_count": 24,
   "id": "d93a77bb",
   "metadata": {},
   "outputs": [
    {
     "data": {
      "text/plain": [
       "RandomForestClassifier(max_depth=5, random_state=123)"
      ]
     },
     "execution_count": 24,
     "metadata": {},
     "output_type": "execute_result"
    }
   ],
   "source": [
    "rf"
   ]
  },
  {
   "cell_type": "code",
   "execution_count": 25,
   "id": "60f22dfe",
   "metadata": {},
   "outputs": [
    {
     "data": {
      "text/plain": [
       "RandomForestClassifier(max_depth=5, random_state=123)"
      ]
     },
     "execution_count": 25,
     "metadata": {},
     "output_type": "execute_result"
    }
   ],
   "source": [
    "rf.fit(X_train, y_train)"
   ]
  },
  {
   "cell_type": "code",
   "execution_count": 26,
   "id": "4b223e9f",
   "metadata": {},
   "outputs": [
    {
     "name": "stdout",
     "output_type": "stream",
     "text": [
      "[0.04980541 0.04387099 0.19753341 0.00620781 0.1311499  0.05667613\n",
      " 0.10801125 0.00242766 0.00527147 0.00313066 0.00075075 0.00565731\n",
      " 0.00155617 0.00437354 0.01013885 0.02154598 0.01013633 0.00586058\n",
      " 0.01964549 0.00389822 0.0131673  0.0143278  0.00897584 0.00281884\n",
      " 0.01628308 0.00407841 0.01271853 0.07106935 0.09601657 0.01322568\n",
      " 0.00132381 0.05655932 0.00178755]\n"
     ]
    }
   ],
   "source": [
    "print(rf.feature_importances_)"
   ]
  },
  {
   "cell_type": "code",
   "execution_count": 27,
   "id": "742455f8",
   "metadata": {},
   "outputs": [
    {
     "data": {
      "text/plain": [
       "array(['No', 'No', 'No', ..., 'No', 'No', 'No'], dtype=object)"
      ]
     },
     "execution_count": 27,
     "metadata": {},
     "output_type": "execute_result"
    }
   ],
   "source": [
    "y_pred = rf.predict(X_train)\n",
    "y_pred"
   ]
  },
  {
   "cell_type": "code",
   "execution_count": 28,
   "id": "be037cf4",
   "metadata": {},
   "outputs": [
    {
     "data": {
      "text/plain": [
       "array([[0.90848629, 0.09151371],\n",
       "       [0.83488362, 0.16511638],\n",
       "       [0.92007087, 0.07992913],\n",
       "       ...,\n",
       "       [0.98116936, 0.01883064],\n",
       "       [0.59426558, 0.40573442],\n",
       "       [0.85536927, 0.14463073]])"
      ]
     },
     "execution_count": 28,
     "metadata": {},
     "output_type": "execute_result"
    }
   ],
   "source": [
    "y_pred_proba = rf.predict_proba(X_train)\n",
    "y_pred_proba"
   ]
  },
  {
   "cell_type": "code",
   "execution_count": 29,
   "id": "d3dc60de",
   "metadata": {},
   "outputs": [
    {
     "name": "stdout",
     "output_type": "stream",
     "text": [
      "Accuracy of random forest classifier on training set: 0.80\n"
     ]
    }
   ],
   "source": [
    "print('Accuracy of random forest classifier on training set: {:.2f}'\n",
    "     .format(rf.score(X_train, y_train)))"
   ]
  },
  {
   "cell_type": "code",
   "execution_count": 30,
   "id": "f9b9609f",
   "metadata": {
    "scrolled": false
   },
   "outputs": [
    {
     "name": "stdout",
     "output_type": "stream",
     "text": [
      "              precision    recall  f1-score   support\n",
      "\n",
      "          No       0.83      0.93      0.87      2891\n",
      "         Yes       0.70      0.46      0.55      1046\n",
      "\n",
      "    accuracy                           0.80      3937\n",
      "   macro avg       0.76      0.69      0.71      3937\n",
      "weighted avg       0.79      0.80      0.79      3937\n",
      "\n"
     ]
    }
   ],
   "source": [
    "print(classification_report(y_train, y_pred))"
   ]
  },
  {
   "cell_type": "markdown",
   "id": "cff1f687",
   "metadata": {},
   "source": [
    "***************************************************"
   ]
  },
  {
   "cell_type": "code",
   "execution_count": 31,
   "id": "8c0192d3",
   "metadata": {},
   "outputs": [
    {
     "data": {
      "text/plain": [
       "RandomForestClassifier(max_depth=5, random_state=123)"
      ]
     },
     "execution_count": 31,
     "metadata": {},
     "output_type": "execute_result"
    }
   ],
   "source": [
    "rf.fit(X_validate, y_validate)"
   ]
  },
  {
   "cell_type": "code",
   "execution_count": 33,
   "id": "f3ee99c8",
   "metadata": {},
   "outputs": [
    {
     "name": "stdout",
     "output_type": "stream",
     "text": [
      "Accuracy of random forest classifier on validate set: 0.81\n"
     ]
    }
   ],
   "source": [
    "print('Accuracy of random forest classifier on validate set: {:.2f}'\n",
    "     .format(rf.score(X_validate, y_validate)))"
   ]
  },
  {
   "cell_type": "code",
   "execution_count": 39,
   "id": "cd5828d7",
   "metadata": {},
   "outputs": [
    {
     "data": {
      "text/plain": [
       "array(['No', 'No', 'No', ..., 'No', 'No', 'Yes'], dtype=object)"
      ]
     },
     "execution_count": 39,
     "metadata": {},
     "output_type": "execute_result"
    }
   ],
   "source": [
    "y_pred1 = rf.predict(X_validate)\n",
    "y_pred1"
   ]
  },
  {
   "cell_type": "code",
   "execution_count": 41,
   "id": "888d5710",
   "metadata": {},
   "outputs": [
    {
     "name": "stdout",
     "output_type": "stream",
     "text": [
      "              precision    recall  f1-score   support\n",
      "\n",
      "          No       0.83      0.94      0.88      1239\n",
      "         Yes       0.74      0.47      0.57       449\n",
      "\n",
      "    accuracy                           0.81      1688\n",
      "   macro avg       0.78      0.70      0.73      1688\n",
      "weighted avg       0.81      0.81      0.80      1688\n",
      "\n"
     ]
    }
   ],
   "source": [
    "print(classification_report(y_validate, y_pred1))"
   ]
  },
  {
   "cell_type": "code",
   "execution_count": null,
   "id": "d8f0a22d",
   "metadata": {
    "scrolled": true
   },
   "outputs": [],
   "source": []
  },
  {
   "cell_type": "code",
   "execution_count": 42,
   "id": "1d6d3639",
   "metadata": {},
   "outputs": [],
   "source": [
    "rf = RandomForestClassifier(max_depth=5, \n",
    "                            random_state=123)"
   ]
  },
  {
   "cell_type": "code",
   "execution_count": 43,
   "id": "e3d7a10b",
   "metadata": {},
   "outputs": [
    {
     "data": {
      "text/plain": [
       "RandomForestClassifier(max_depth=5, random_state=123)"
      ]
     },
     "execution_count": 43,
     "metadata": {},
     "output_type": "execute_result"
    }
   ],
   "source": [
    "rf"
   ]
  },
  {
   "cell_type": "code",
   "execution_count": 44,
   "id": "bc176016",
   "metadata": {},
   "outputs": [
    {
     "data": {
      "text/plain": [
       "RandomForestClassifier(max_depth=5, random_state=123)"
      ]
     },
     "execution_count": 44,
     "metadata": {},
     "output_type": "execute_result"
    }
   ],
   "source": [
    "rf.fit(X_test, y_test)"
   ]
  },
  {
   "cell_type": "code",
   "execution_count": 45,
   "id": "b76974e7",
   "metadata": {},
   "outputs": [
    {
     "name": "stdout",
     "output_type": "stream",
     "text": [
      "[0.06668797 0.02844815 0.162681   0.00445822 0.16574926 0.07778827\n",
      " 0.1233876  0.00330821 0.00651783 0.00889259 0.0018506  0.00554322\n",
      " 0.00215931 0.00702115 0.01032444 0.01260438 0.00969476 0.00971218\n",
      " 0.01731376 0.00732328 0.01479354 0.01664237 0.00476524 0.00622904\n",
      " 0.01138651 0.00497565 0.01722269 0.05414638 0.0506015  0.01155836\n",
      " 0.00208678 0.0714994  0.00262633]\n"
     ]
    }
   ],
   "source": [
    "print(rf.feature_importances_)"
   ]
  },
  {
   "cell_type": "code",
   "execution_count": 54,
   "id": "60e945f5",
   "metadata": {},
   "outputs": [],
   "source": [
    "y_pred3 = rf.predict(X_test)\n",
    "testpred3= pd.DataFrame(y_pred)"
   ]
  },
  {
   "cell_type": "code",
   "execution_count": 56,
   "id": "e6e010ec",
   "metadata": {},
   "outputs": [],
   "source": [
    "y_pred_proba3 = rf.predict_proba(X_test)\n",
    "y_pred_df_proba3= pd.DataFrame(y_pred_proba3)"
   ]
  },
  {
   "cell_type": "code",
   "execution_count": 48,
   "id": "cd4ef037",
   "metadata": {},
   "outputs": [
    {
     "name": "stdout",
     "output_type": "stream",
     "text": [
      "Accuracy of random forest classifier on training set: 0.82\n"
     ]
    }
   ],
   "source": [
    "print('Accuracy of random forest classifier on training set: {:.2f}'\n",
    "     .format(rf.score(X_test, y_test)))"
   ]
  },
  {
   "cell_type": "code",
   "execution_count": 50,
   "id": "28c8da22",
   "metadata": {},
   "outputs": [
    {
     "name": "stdout",
     "output_type": "stream",
     "text": [
      "              precision    recall  f1-score   support\n",
      "\n",
      "          No       0.84      0.93      0.88      1033\n",
      "         Yes       0.72      0.52      0.60       374\n",
      "\n",
      "    accuracy                           0.82      1407\n",
      "   macro avg       0.78      0.72      0.74      1407\n",
      "weighted avg       0.81      0.82      0.81      1407\n",
      "\n"
     ]
    }
   ],
   "source": [
    "print(classification_report(y_test, y_pred3))"
   ]
  },
  {
   "cell_type": "code",
   "execution_count": null,
   "id": "73f9adda",
   "metadata": {},
   "outputs": [],
   "source": []
  },
  {
   "cell_type": "code",
   "execution_count": null,
   "id": "9838b69d",
   "metadata": {},
   "outputs": [],
   "source": []
  },
  {
   "cell_type": "markdown",
   "id": "97697f45",
   "metadata": {},
   "source": [
    "# KNN "
   ]
  },
  {
   "cell_type": "code",
   "execution_count": null,
   "id": "3d7c83e5",
   "metadata": {},
   "outputs": [],
   "source": [
    "from sklearn.neighbors import KNeighborsClassifier"
   ]
  },
  {
   "cell_type": "code",
   "execution_count": null,
   "id": "83772d7a",
   "metadata": {},
   "outputs": [],
   "source": [
    "# weights = ['uniform', 'density']\n",
    "knn = KNeighborsClassifier(n_neighbors=5, weights='uniform')\n"
   ]
  },
  {
   "cell_type": "code",
   "execution_count": null,
   "id": "0b39d013",
   "metadata": {},
   "outputs": [],
   "source": [
    "knn.fit(X_train, y_train)\n"
   ]
  },
  {
   "cell_type": "code",
   "execution_count": null,
   "id": "86a2d19f",
   "metadata": {},
   "outputs": [],
   "source": [
    "y_pred = knn.predict(X_train)\n",
    "y_pred"
   ]
  },
  {
   "cell_type": "code",
   "execution_count": null,
   "id": "02974c24",
   "metadata": {},
   "outputs": [],
   "source": [
    "y_pred_proba = knn.predict_proba(X_train)\n"
   ]
  },
  {
   "cell_type": "code",
   "execution_count": null,
   "id": "aa84e237",
   "metadata": {},
   "outputs": [],
   "source": [
    "print('Accuracy of KNN classifier on training set: {:.2f}'\n",
    "     .format(knn.score(X_train, y_train)))\n"
   ]
  },
  {
   "cell_type": "code",
   "execution_count": null,
   "id": "a7170118",
   "metadata": {},
   "outputs": [],
   "source": [
    "knn15 = KNeighborsClassifier(n_neighbors=3, weights='uniform')"
   ]
  },
  {
   "cell_type": "code",
   "execution_count": null,
   "id": "4fc589bf",
   "metadata": {},
   "outputs": [],
   "source": [
    "knn15.fit(X_train, y_train)\n"
   ]
  },
  {
   "cell_type": "code",
   "execution_count": null,
   "id": "f59b540e",
   "metadata": {},
   "outputs": [],
   "source": [
    "print('Accuracy of KNN KNN=15 classifier on training set: {:.2f}'\n",
    "     .format(knn15.score(X_train, y_train)))\n"
   ]
  },
  {
   "cell_type": "code",
   "execution_count": null,
   "id": "8cad5fac",
   "metadata": {},
   "outputs": [],
   "source": [
    "print(confusion_matrix(y_train, y_pred))\n"
   ]
  },
  {
   "cell_type": "code",
   "execution_count": null,
   "id": "bff7d336",
   "metadata": {},
   "outputs": [],
   "source": [
    "print(classification_report(y_train, y_pred))\n"
   ]
  },
  {
   "cell_type": "code",
   "execution_count": null,
   "id": "12f94c2a",
   "metadata": {},
   "outputs": [],
   "source": [
    "print('Accuracy of KNN classifier on validate set: {:.2f}'\n",
    "     .format(knn.score(X_validate, y_validate)))\n"
   ]
  },
  {
   "cell_type": "code",
   "execution_count": null,
   "id": "31109b7e",
   "metadata": {},
   "outputs": [],
   "source": [
    "k_range = range(1, 20)\n",
    "train_scores = []\n",
    "validate_scores = []\n",
    "for k in k_range:\n",
    "    knn = KNeighborsClassifier(n_neighbors = k)\n",
    "    knn.fit(X_train, y_train)\n",
    "    train_scores.append(knn.score(X_train, y_train))\n",
    "    validate_scores.append(knn.score(X_validate, y_validate))\n",
    "plt.figure()\n",
    "plt.xlabel('k')\n",
    "plt.ylabel('accuracy')\n",
    "plt.plot(k_range, train_scores, label='Train')\n",
    "plt.plot(k_range, validate_scores, label='Validate')\n",
    "plt.legend()\n",
    "plt.xticks([0,5,10,15,20])\n",
    "plt.show()"
   ]
  },
  {
   "cell_type": "code",
   "execution_count": null,
   "id": "44117762",
   "metadata": {},
   "outputs": [],
   "source": []
  },
  {
   "cell_type": "code",
   "execution_count": null,
   "id": "47ae2aff",
   "metadata": {},
   "outputs": [],
   "source": []
  },
  {
   "cell_type": "markdown",
   "id": "aa31697b",
   "metadata": {},
   "source": [
    "## Making a CSV"
   ]
  },
  {
   "cell_type": "markdown",
   "id": "5b8fd0e6",
   "metadata": {},
   "source": [
    "this is for making a csv with my best model RANDOM FOREST MODEL "
   ]
  },
  {
   "cell_type": "code",
   "execution_count": 59,
   "id": "f9e03aba",
   "metadata": {},
   "outputs": [
    {
     "data": {
      "text/html": [
       "<div>\n",
       "<style scoped>\n",
       "    .dataframe tbody tr th:only-of-type {\n",
       "        vertical-align: middle;\n",
       "    }\n",
       "\n",
       "    .dataframe tbody tr th {\n",
       "        vertical-align: top;\n",
       "    }\n",
       "\n",
       "    .dataframe thead th {\n",
       "        text-align: right;\n",
       "    }\n",
       "</style>\n",
       "<table border=\"1\" class=\"dataframe\">\n",
       "  <thead>\n",
       "    <tr style=\"text-align: right;\">\n",
       "      <th></th>\n",
       "      <th>customer_id</th>\n",
       "      <th>churn_prediction</th>\n",
       "      <th>prediction_probability</th>\n",
       "    </tr>\n",
       "  </thead>\n",
       "  <tbody>\n",
       "    <tr>\n",
       "      <th>3311</th>\n",
       "      <td>4716-MRVEN</td>\n",
       "      <td>No</td>\n",
       "      <td>0.023671</td>\n",
       "    </tr>\n",
       "    <tr>\n",
       "      <th>6330</th>\n",
       "      <td>8966-KZXXA</td>\n",
       "      <td>No</td>\n",
       "      <td>0.003133</td>\n",
       "    </tr>\n",
       "    <tr>\n",
       "      <th>6156</th>\n",
       "      <td>8720-RQSBJ</td>\n",
       "      <td>Yes</td>\n",
       "      <td>0.570191</td>\n",
       "    </tr>\n",
       "    <tr>\n",
       "      <th>5313</th>\n",
       "      <td>7504-UWHNB</td>\n",
       "      <td>No</td>\n",
       "      <td>0.444890</td>\n",
       "    </tr>\n",
       "    <tr>\n",
       "      <th>1176</th>\n",
       "      <td>1730-VFMWO</td>\n",
       "      <td>No</td>\n",
       "      <td>0.216183</td>\n",
       "    </tr>\n",
       "    <tr>\n",
       "      <th>...</th>\n",
       "      <td>...</td>\n",
       "      <td>...</td>\n",
       "      <td>...</td>\n",
       "    </tr>\n",
       "    <tr>\n",
       "      <th>600</th>\n",
       "      <td>0877-SDMBN</td>\n",
       "      <td>No</td>\n",
       "      <td>0.157670</td>\n",
       "    </tr>\n",
       "    <tr>\n",
       "      <th>3946</th>\n",
       "      <td>5555-RNPGT</td>\n",
       "      <td>No</td>\n",
       "      <td>0.104842</td>\n",
       "    </tr>\n",
       "    <tr>\n",
       "      <th>3230</th>\n",
       "      <td>4628-CTTLA</td>\n",
       "      <td>No</td>\n",
       "      <td>0.363606</td>\n",
       "    </tr>\n",
       "    <tr>\n",
       "      <th>349</th>\n",
       "      <td>0516-QREYC</td>\n",
       "      <td>No</td>\n",
       "      <td>0.104100</td>\n",
       "    </tr>\n",
       "    <tr>\n",
       "      <th>3690</th>\n",
       "      <td>5198-HQAEN</td>\n",
       "      <td>No</td>\n",
       "      <td>0.200090</td>\n",
       "    </tr>\n",
       "  </tbody>\n",
       "</table>\n",
       "<p>1407 rows × 3 columns</p>\n",
       "</div>"
      ],
      "text/plain": [
       "     customer_id churn_prediction  prediction_probability\n",
       "3311  4716-MRVEN               No                0.023671\n",
       "6330  8966-KZXXA               No                0.003133\n",
       "6156  8720-RQSBJ              Yes                0.570191\n",
       "5313  7504-UWHNB               No                0.444890\n",
       "1176  1730-VFMWO               No                0.216183\n",
       "...          ...              ...                     ...\n",
       "600   0877-SDMBN               No                0.157670\n",
       "3946  5555-RNPGT               No                0.104842\n",
       "3230  4628-CTTLA               No                0.363606\n",
       "349   0516-QREYC               No                0.104100\n",
       "3690  5198-HQAEN               No                0.200090\n",
       "\n",
       "[1407 rows x 3 columns]"
      ]
     },
     "execution_count": 59,
     "metadata": {},
     "output_type": "execute_result"
    }
   ],
   "source": [
    "predict_df = pd.DataFrame()\n",
    "\n",
    "predict_df['customer_id']= test['customer_id']\n",
    "predict_df['churn_prediction']= y_pred3\n",
    "predict_df['prediction_probability'] = y_pred_proba3[:,1]\n",
    "\n",
    "predict_df\n",
    "\n",
    "predict_df.to_csv('')"
   ]
  },
  {
   "cell_type": "code",
   "execution_count": null,
   "id": "7a92a978",
   "metadata": {},
   "outputs": [],
   "source": []
  },
  {
   "cell_type": "code",
   "execution_count": null,
   "id": "61dfee79",
   "metadata": {},
   "outputs": [],
   "source": []
  }
 ],
 "metadata": {
  "kernelspec": {
   "display_name": "Python 3 (ipykernel)",
   "language": "python",
   "name": "python3"
  },
  "language_info": {
   "codemirror_mode": {
    "name": "ipython",
    "version": 3
   },
   "file_extension": ".py",
   "mimetype": "text/x-python",
   "name": "python",
   "nbconvert_exporter": "python",
   "pygments_lexer": "ipython3",
   "version": "3.9.12"
  }
 },
 "nbformat": 4,
 "nbformat_minor": 5
}
